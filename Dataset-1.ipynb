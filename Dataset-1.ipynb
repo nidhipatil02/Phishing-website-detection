{
 "cells": [
  {
   "cell_type": "markdown",
   "id": "9a0e00eb",
   "metadata": {},
   "source": [
    "# Importing Libraries"
   ]
  },
  {
   "cell_type": "code",
   "execution_count": 1,
   "id": "ba6bbb36",
   "metadata": {},
   "outputs": [],
   "source": [
    "import warnings\n",
    "warnings.filterwarnings('ignore')"
   ]
  },
  {
   "cell_type": "code",
   "execution_count": 2,
   "id": "4d8302e7",
   "metadata": {},
   "outputs": [],
   "source": [
    "import numpy as np\n",
    "import pandas as pd\n",
    "import matplotlib.pyplot as plt\n",
    "import matplotlib.pyplot as plt2\n",
    "import pickle\n",
    "%matplotlib inline\n",
    "import seaborn as sns\n",
    "from scipy.io import arff\n",
    "import pandas\n",
    "from sklearn.model_selection import train_test_split\n",
    "from sklearn.model_selection import cross_val_score\n",
    "from sklearn.metrics import classification_report\n",
    "from sklearn.metrics import confusion_matrix\n",
    "from sklearn.metrics import accuracy_score,precision_score,recall_score,f1_score\n",
    "from sklearn.model_selection import train_test_split, cross_val_score, KFold\n",
    "from tensorflow.keras.models import Sequential\n",
    "from tensorflow.keras.layers import Conv1D, MaxPooling1D, Flatten, Dense\n",
    "from sklearn.preprocessing import LabelBinarizer\n",
    "from tensorflow.keras.utils import to_categorical\n",
    "from tensorflow.keras.layers import Dense, LSTM, GRU, MaxPool1D, SimpleRNN, Flatten, Dropout, Conv1D\n",
    "import tensorflow.keras.backend as K"
   ]
  },
  {
   "cell_type": "markdown",
   "id": "41c776d1",
   "metadata": {},
   "source": [
    "# Importing Dataset"
   ]
  },
  {
   "cell_type": "code",
   "execution_count": 3,
   "id": "7a6d98c3",
   "metadata": {},
   "outputs": [],
   "source": [
    "data = arff.loadarff('Dataset/Training Dataset.arff')\n",
    "df = pandas.DataFrame(data[0])\n",
    "data = df.select_dtypes([object])\n",
    "data = data.stack().str.decode('utf-8').unstack()"
   ]
  },
  {
   "cell_type": "markdown",
   "id": "31cc76e0",
   "metadata": {},
   "source": [
    "# EDA"
   ]
  },
  {
   "cell_type": "code",
   "execution_count": 4,
   "id": "0aaa2a41",
   "metadata": {},
   "outputs": [
    {
     "data": {
      "text/html": [
       "<div>\n",
       "<style scoped>\n",
       "    .dataframe tbody tr th:only-of-type {\n",
       "        vertical-align: middle;\n",
       "    }\n",
       "\n",
       "    .dataframe tbody tr th {\n",
       "        vertical-align: top;\n",
       "    }\n",
       "\n",
       "    .dataframe thead th {\n",
       "        text-align: right;\n",
       "    }\n",
       "</style>\n",
       "<table border=\"1\" class=\"dataframe\">\n",
       "  <thead>\n",
       "    <tr style=\"text-align: right;\">\n",
       "      <th></th>\n",
       "      <th>having_IP_Address</th>\n",
       "      <th>URL_Length</th>\n",
       "      <th>Shortining_Service</th>\n",
       "      <th>having_At_Symbol</th>\n",
       "      <th>double_slash_redirecting</th>\n",
       "      <th>Prefix_Suffix</th>\n",
       "      <th>having_Sub_Domain</th>\n",
       "      <th>SSLfinal_State</th>\n",
       "      <th>Domain_registeration_length</th>\n",
       "      <th>Favicon</th>\n",
       "      <th>...</th>\n",
       "      <th>popUpWidnow</th>\n",
       "      <th>Iframe</th>\n",
       "      <th>age_of_domain</th>\n",
       "      <th>DNSRecord</th>\n",
       "      <th>web_traffic</th>\n",
       "      <th>Page_Rank</th>\n",
       "      <th>Google_Index</th>\n",
       "      <th>Links_pointing_to_page</th>\n",
       "      <th>Statistical_report</th>\n",
       "      <th>Result</th>\n",
       "    </tr>\n",
       "  </thead>\n",
       "  <tbody>\n",
       "    <tr>\n",
       "      <th>0</th>\n",
       "      <td>-1</td>\n",
       "      <td>1</td>\n",
       "      <td>1</td>\n",
       "      <td>1</td>\n",
       "      <td>-1</td>\n",
       "      <td>-1</td>\n",
       "      <td>-1</td>\n",
       "      <td>-1</td>\n",
       "      <td>-1</td>\n",
       "      <td>1</td>\n",
       "      <td>...</td>\n",
       "      <td>1</td>\n",
       "      <td>1</td>\n",
       "      <td>-1</td>\n",
       "      <td>-1</td>\n",
       "      <td>-1</td>\n",
       "      <td>-1</td>\n",
       "      <td>1</td>\n",
       "      <td>1</td>\n",
       "      <td>-1</td>\n",
       "      <td>-1</td>\n",
       "    </tr>\n",
       "    <tr>\n",
       "      <th>1</th>\n",
       "      <td>1</td>\n",
       "      <td>1</td>\n",
       "      <td>1</td>\n",
       "      <td>1</td>\n",
       "      <td>1</td>\n",
       "      <td>-1</td>\n",
       "      <td>0</td>\n",
       "      <td>1</td>\n",
       "      <td>-1</td>\n",
       "      <td>1</td>\n",
       "      <td>...</td>\n",
       "      <td>1</td>\n",
       "      <td>1</td>\n",
       "      <td>-1</td>\n",
       "      <td>-1</td>\n",
       "      <td>0</td>\n",
       "      <td>-1</td>\n",
       "      <td>1</td>\n",
       "      <td>1</td>\n",
       "      <td>1</td>\n",
       "      <td>-1</td>\n",
       "    </tr>\n",
       "    <tr>\n",
       "      <th>2</th>\n",
       "      <td>1</td>\n",
       "      <td>0</td>\n",
       "      <td>1</td>\n",
       "      <td>1</td>\n",
       "      <td>1</td>\n",
       "      <td>-1</td>\n",
       "      <td>-1</td>\n",
       "      <td>-1</td>\n",
       "      <td>-1</td>\n",
       "      <td>1</td>\n",
       "      <td>...</td>\n",
       "      <td>1</td>\n",
       "      <td>1</td>\n",
       "      <td>1</td>\n",
       "      <td>-1</td>\n",
       "      <td>1</td>\n",
       "      <td>-1</td>\n",
       "      <td>1</td>\n",
       "      <td>0</td>\n",
       "      <td>-1</td>\n",
       "      <td>-1</td>\n",
       "    </tr>\n",
       "    <tr>\n",
       "      <th>3</th>\n",
       "      <td>1</td>\n",
       "      <td>0</td>\n",
       "      <td>1</td>\n",
       "      <td>1</td>\n",
       "      <td>1</td>\n",
       "      <td>-1</td>\n",
       "      <td>-1</td>\n",
       "      <td>-1</td>\n",
       "      <td>1</td>\n",
       "      <td>1</td>\n",
       "      <td>...</td>\n",
       "      <td>1</td>\n",
       "      <td>1</td>\n",
       "      <td>-1</td>\n",
       "      <td>-1</td>\n",
       "      <td>1</td>\n",
       "      <td>-1</td>\n",
       "      <td>1</td>\n",
       "      <td>-1</td>\n",
       "      <td>1</td>\n",
       "      <td>-1</td>\n",
       "    </tr>\n",
       "    <tr>\n",
       "      <th>4</th>\n",
       "      <td>1</td>\n",
       "      <td>0</td>\n",
       "      <td>-1</td>\n",
       "      <td>1</td>\n",
       "      <td>1</td>\n",
       "      <td>-1</td>\n",
       "      <td>1</td>\n",
       "      <td>1</td>\n",
       "      <td>-1</td>\n",
       "      <td>1</td>\n",
       "      <td>...</td>\n",
       "      <td>-1</td>\n",
       "      <td>1</td>\n",
       "      <td>-1</td>\n",
       "      <td>-1</td>\n",
       "      <td>0</td>\n",
       "      <td>-1</td>\n",
       "      <td>1</td>\n",
       "      <td>1</td>\n",
       "      <td>1</td>\n",
       "      <td>1</td>\n",
       "    </tr>\n",
       "  </tbody>\n",
       "</table>\n",
       "<p>5 rows × 31 columns</p>\n",
       "</div>"
      ],
      "text/plain": [
       "  having_IP_Address URL_Length Shortining_Service having_At_Symbol  \\\n",
       "0                -1          1                  1                1   \n",
       "1                 1          1                  1                1   \n",
       "2                 1          0                  1                1   \n",
       "3                 1          0                  1                1   \n",
       "4                 1          0                 -1                1   \n",
       "\n",
       "  double_slash_redirecting Prefix_Suffix having_Sub_Domain SSLfinal_State  \\\n",
       "0                       -1            -1                -1             -1   \n",
       "1                        1            -1                 0              1   \n",
       "2                        1            -1                -1             -1   \n",
       "3                        1            -1                -1             -1   \n",
       "4                        1            -1                 1              1   \n",
       "\n",
       "  Domain_registeration_length Favicon  ... popUpWidnow Iframe age_of_domain  \\\n",
       "0                          -1       1  ...           1      1            -1   \n",
       "1                          -1       1  ...           1      1            -1   \n",
       "2                          -1       1  ...           1      1             1   \n",
       "3                           1       1  ...           1      1            -1   \n",
       "4                          -1       1  ...          -1      1            -1   \n",
       "\n",
       "  DNSRecord web_traffic Page_Rank Google_Index Links_pointing_to_page  \\\n",
       "0        -1          -1        -1            1                      1   \n",
       "1        -1           0        -1            1                      1   \n",
       "2        -1           1        -1            1                      0   \n",
       "3        -1           1        -1            1                     -1   \n",
       "4        -1           0        -1            1                      1   \n",
       "\n",
       "  Statistical_report Result  \n",
       "0                 -1     -1  \n",
       "1                  1     -1  \n",
       "2                 -1     -1  \n",
       "3                  1     -1  \n",
       "4                  1      1  \n",
       "\n",
       "[5 rows x 31 columns]"
      ]
     },
     "execution_count": 4,
     "metadata": {},
     "output_type": "execute_result"
    }
   ],
   "source": [
    "data.head()"
   ]
  },
  {
   "cell_type": "code",
   "execution_count": 5,
   "id": "3c311255",
   "metadata": {},
   "outputs": [
    {
     "name": "stdout",
     "output_type": "stream",
     "text": [
      "<class 'pandas.core.frame.DataFrame'>\n",
      "Int64Index: 11055 entries, 0 to 11054\n",
      "Data columns (total 31 columns):\n",
      " #   Column                       Non-Null Count  Dtype \n",
      "---  ------                       --------------  ----- \n",
      " 0   having_IP_Address            11055 non-null  object\n",
      " 1   URL_Length                   11055 non-null  object\n",
      " 2   Shortining_Service           11055 non-null  object\n",
      " 3   having_At_Symbol             11055 non-null  object\n",
      " 4   double_slash_redirecting     11055 non-null  object\n",
      " 5   Prefix_Suffix                11055 non-null  object\n",
      " 6   having_Sub_Domain            11055 non-null  object\n",
      " 7   SSLfinal_State               11055 non-null  object\n",
      " 8   Domain_registeration_length  11055 non-null  object\n",
      " 9   Favicon                      11055 non-null  object\n",
      " 10  port                         11055 non-null  object\n",
      " 11  HTTPS_token                  11055 non-null  object\n",
      " 12  Request_URL                  11055 non-null  object\n",
      " 13  URL_of_Anchor                11055 non-null  object\n",
      " 14  Links_in_tags                11055 non-null  object\n",
      " 15  SFH                          11055 non-null  object\n",
      " 16  Submitting_to_email          11055 non-null  object\n",
      " 17  Abnormal_URL                 11055 non-null  object\n",
      " 18  Redirect                     11055 non-null  object\n",
      " 19  on_mouseover                 11055 non-null  object\n",
      " 20  RightClick                   11055 non-null  object\n",
      " 21  popUpWidnow                  11055 non-null  object\n",
      " 22  Iframe                       11055 non-null  object\n",
      " 23  age_of_domain                11055 non-null  object\n",
      " 24  DNSRecord                    11055 non-null  object\n",
      " 25  web_traffic                  11055 non-null  object\n",
      " 26  Page_Rank                    11055 non-null  object\n",
      " 27  Google_Index                 11055 non-null  object\n",
      " 28  Links_pointing_to_page       11055 non-null  object\n",
      " 29  Statistical_report           11055 non-null  object\n",
      " 30  Result                       11055 non-null  object\n",
      "dtypes: object(31)\n",
      "memory usage: 2.7+ MB\n"
     ]
    }
   ],
   "source": [
    "data.info()"
   ]
  },
  {
   "cell_type": "code",
   "execution_count": 6,
   "id": "a8368cb7",
   "metadata": {},
   "outputs": [],
   "source": [
    "data = data.applymap(lambda x: np.nan if x == '?' else x)"
   ]
  },
  {
   "cell_type": "code",
   "execution_count": 7,
   "id": "9a308d58",
   "metadata": {},
   "outputs": [
    {
     "data": {
      "text/plain": [
       "having_IP_Address              0\n",
       "URL_Length                     0\n",
       "Shortining_Service             0\n",
       "having_At_Symbol               0\n",
       "double_slash_redirecting       0\n",
       "Prefix_Suffix                  0\n",
       "having_Sub_Domain              0\n",
       "SSLfinal_State                 0\n",
       "Domain_registeration_length    0\n",
       "Favicon                        0\n",
       "port                           0\n",
       "HTTPS_token                    0\n",
       "Request_URL                    0\n",
       "URL_of_Anchor                  0\n",
       "Links_in_tags                  0\n",
       "SFH                            0\n",
       "Submitting_to_email            0\n",
       "Abnormal_URL                   0\n",
       "Redirect                       0\n",
       "on_mouseover                   0\n",
       "RightClick                     0\n",
       "popUpWidnow                    0\n",
       "Iframe                         0\n",
       "age_of_domain                  0\n",
       "DNSRecord                      0\n",
       "web_traffic                    0\n",
       "Page_Rank                      0\n",
       "Google_Index                   0\n",
       "Links_pointing_to_page         0\n",
       "Statistical_report             0\n",
       "Result                         0\n",
       "dtype: int64"
      ]
     },
     "execution_count": 7,
     "metadata": {},
     "output_type": "execute_result"
    }
   ],
   "source": [
    "data.isnull().sum()"
   ]
  },
  {
   "cell_type": "code",
   "execution_count": 8,
   "id": "57461937",
   "metadata": {},
   "outputs": [
    {
     "data": {
      "text/html": [
       "<div>\n",
       "<style scoped>\n",
       "    .dataframe tbody tr th:only-of-type {\n",
       "        vertical-align: middle;\n",
       "    }\n",
       "\n",
       "    .dataframe tbody tr th {\n",
       "        vertical-align: top;\n",
       "    }\n",
       "\n",
       "    .dataframe thead th {\n",
       "        text-align: right;\n",
       "    }\n",
       "</style>\n",
       "<table border=\"1\" class=\"dataframe\">\n",
       "  <thead>\n",
       "    <tr style=\"text-align: right;\">\n",
       "      <th></th>\n",
       "      <th>having_IP_Address</th>\n",
       "      <th>URL_Length</th>\n",
       "      <th>Shortining_Service</th>\n",
       "      <th>having_At_Symbol</th>\n",
       "      <th>double_slash_redirecting</th>\n",
       "      <th>Prefix_Suffix</th>\n",
       "      <th>having_Sub_Domain</th>\n",
       "      <th>SSLfinal_State</th>\n",
       "      <th>Domain_registeration_length</th>\n",
       "      <th>Favicon</th>\n",
       "      <th>...</th>\n",
       "      <th>popUpWidnow</th>\n",
       "      <th>Iframe</th>\n",
       "      <th>age_of_domain</th>\n",
       "      <th>DNSRecord</th>\n",
       "      <th>web_traffic</th>\n",
       "      <th>Page_Rank</th>\n",
       "      <th>Google_Index</th>\n",
       "      <th>Links_pointing_to_page</th>\n",
       "      <th>Statistical_report</th>\n",
       "      <th>Result</th>\n",
       "    </tr>\n",
       "  </thead>\n",
       "  <tbody>\n",
       "    <tr>\n",
       "      <th>count</th>\n",
       "      <td>11055</td>\n",
       "      <td>11055</td>\n",
       "      <td>11055</td>\n",
       "      <td>11055</td>\n",
       "      <td>11055</td>\n",
       "      <td>11055</td>\n",
       "      <td>11055</td>\n",
       "      <td>11055</td>\n",
       "      <td>11055</td>\n",
       "      <td>11055</td>\n",
       "      <td>...</td>\n",
       "      <td>11055</td>\n",
       "      <td>11055</td>\n",
       "      <td>11055</td>\n",
       "      <td>11055</td>\n",
       "      <td>11055</td>\n",
       "      <td>11055</td>\n",
       "      <td>11055</td>\n",
       "      <td>11055</td>\n",
       "      <td>11055</td>\n",
       "      <td>11055</td>\n",
       "    </tr>\n",
       "    <tr>\n",
       "      <th>unique</th>\n",
       "      <td>2</td>\n",
       "      <td>3</td>\n",
       "      <td>2</td>\n",
       "      <td>2</td>\n",
       "      <td>2</td>\n",
       "      <td>2</td>\n",
       "      <td>3</td>\n",
       "      <td>3</td>\n",
       "      <td>2</td>\n",
       "      <td>2</td>\n",
       "      <td>...</td>\n",
       "      <td>2</td>\n",
       "      <td>2</td>\n",
       "      <td>2</td>\n",
       "      <td>2</td>\n",
       "      <td>3</td>\n",
       "      <td>2</td>\n",
       "      <td>2</td>\n",
       "      <td>3</td>\n",
       "      <td>2</td>\n",
       "      <td>2</td>\n",
       "    </tr>\n",
       "    <tr>\n",
       "      <th>top</th>\n",
       "      <td>1</td>\n",
       "      <td>-1</td>\n",
       "      <td>1</td>\n",
       "      <td>1</td>\n",
       "      <td>1</td>\n",
       "      <td>-1</td>\n",
       "      <td>1</td>\n",
       "      <td>1</td>\n",
       "      <td>-1</td>\n",
       "      <td>1</td>\n",
       "      <td>...</td>\n",
       "      <td>1</td>\n",
       "      <td>1</td>\n",
       "      <td>1</td>\n",
       "      <td>1</td>\n",
       "      <td>1</td>\n",
       "      <td>-1</td>\n",
       "      <td>1</td>\n",
       "      <td>0</td>\n",
       "      <td>1</td>\n",
       "      <td>1</td>\n",
       "    </tr>\n",
       "    <tr>\n",
       "      <th>freq</th>\n",
       "      <td>7262</td>\n",
       "      <td>8960</td>\n",
       "      <td>9611</td>\n",
       "      <td>9400</td>\n",
       "      <td>9626</td>\n",
       "      <td>9590</td>\n",
       "      <td>4070</td>\n",
       "      <td>6331</td>\n",
       "      <td>7389</td>\n",
       "      <td>9002</td>\n",
       "      <td>...</td>\n",
       "      <td>8918</td>\n",
       "      <td>10043</td>\n",
       "      <td>5866</td>\n",
       "      <td>7612</td>\n",
       "      <td>5831</td>\n",
       "      <td>8201</td>\n",
       "      <td>9516</td>\n",
       "      <td>6156</td>\n",
       "      <td>9505</td>\n",
       "      <td>6157</td>\n",
       "    </tr>\n",
       "  </tbody>\n",
       "</table>\n",
       "<p>4 rows × 31 columns</p>\n",
       "</div>"
      ],
      "text/plain": [
       "       having_IP_Address URL_Length Shortining_Service having_At_Symbol  \\\n",
       "count              11055      11055              11055            11055   \n",
       "unique                 2          3                  2                2   \n",
       "top                    1         -1                  1                1   \n",
       "freq                7262       8960               9611             9400   \n",
       "\n",
       "       double_slash_redirecting Prefix_Suffix having_Sub_Domain  \\\n",
       "count                     11055         11055             11055   \n",
       "unique                        2             2                 3   \n",
       "top                           1            -1                 1   \n",
       "freq                       9626          9590              4070   \n",
       "\n",
       "       SSLfinal_State Domain_registeration_length Favicon  ... popUpWidnow  \\\n",
       "count           11055                       11055   11055  ...       11055   \n",
       "unique              3                           2       2  ...           2   \n",
       "top                 1                          -1       1  ...           1   \n",
       "freq             6331                        7389    9002  ...        8918   \n",
       "\n",
       "       Iframe age_of_domain DNSRecord web_traffic Page_Rank Google_Index  \\\n",
       "count   11055         11055     11055       11055     11055        11055   \n",
       "unique      2             2         2           3         2            2   \n",
       "top         1             1         1           1        -1            1   \n",
       "freq    10043          5866      7612        5831      8201         9516   \n",
       "\n",
       "       Links_pointing_to_page Statistical_report Result  \n",
       "count                   11055              11055  11055  \n",
       "unique                      3                  2      2  \n",
       "top                         0                  1      1  \n",
       "freq                     6156               9505   6157  \n",
       "\n",
       "[4 rows x 31 columns]"
      ]
     },
     "execution_count": 8,
     "metadata": {},
     "output_type": "execute_result"
    }
   ],
   "source": [
    "data.describe()"
   ]
  },
  {
   "cell_type": "markdown",
   "id": "d5ab14fc",
   "metadata": {},
   "source": [
    "# Data Visualization"
   ]
  },
  {
   "cell_type": "code",
   "execution_count": 9,
   "id": "a04d8a8f",
   "metadata": {},
   "outputs": [
    {
     "data": {
      "text/plain": [
       "<matplotlib.axes._subplots.AxesSubplot at 0x1d1fb5c4908>"
      ]
     },
     "execution_count": 9,
     "metadata": {},
     "output_type": "execute_result"
    },
    {
     "data": {
      "image/png": "[encoded data removed]",
      "text/plain": [
       "<Figure size 432x288 with 1 Axes>"
      ]
     },
     "metadata": {},
     "output_type": "display_data"
    }
   ],
   "source": [
    "df = data\n",
    "sns.set_style('whitegrid')\n",
    "sns.countplot(x='having_At_Symbol',data=df)"
   ]
  },
  {
   "cell_type": "code",
   "execution_count": 10,
   "id": "594d7bc6",
   "metadata": {},
   "outputs": [
    {
     "data": {
      "text/plain": [
       "<matplotlib.axes._subplots.AxesSubplot at 0x1d24daa9408>"
      ]
     },
     "execution_count": 10,
     "metadata": {},
     "output_type": "execute_result"
    },
    {
     "data": {
      "image/png": "[encoded data removed]",
      "text/plain": [
       "<Figure size 432x288 with 1 Axes>"
      ]
     },
     "metadata": {},
     "output_type": "display_data"
    }
   ],
   "source": [
    "sns.countplot(x='having_IP_Address',data=df)"
   ]
  },
  {
   "cell_type": "code",
   "execution_count": 11,
   "id": "60d76213",
   "metadata": {},
   "outputs": [
    {
     "data": {
      "text/plain": [
       "<matplotlib.axes._subplots.AxesSubplot at 0x1d27ffdbf88>"
      ]
     },
     "execution_count": 11,
     "metadata": {},
     "output_type": "execute_result"
    },
    {
     "data": {
      "image/png": "[encoded data removed]",
      "text/plain": [
       "<Figure size 432x288 with 1 Axes>"
      ]
     },
     "metadata": {},
     "output_type": "display_data"
    }
   ],
   "source": [
    "sns.countplot(x='Shortining_Service', data=df)"
   ]
  },
  {
   "cell_type": "code",
   "execution_count": 12,
   "id": "b961e438",
   "metadata": {},
   "outputs": [
    {
     "data": {
      "text/plain": [
       "<matplotlib.axes._subplots.AxesSubplot at 0x1d280039f48>"
      ]
     },
     "execution_count": 12,
     "metadata": {},
     "output_type": "execute_result"
    },
    {
     "data": {
      "image/png": "[encoded data removed]",
      "text/plain": [
       "<Figure size 432x288 with 1 Axes>"
      ]
     },
     "metadata": {},
     "output_type": "display_data"
    }
   ],
   "source": [
    "sns.countplot(x='Result', data=df)"
   ]
  },
  {
   "cell_type": "markdown",
   "id": "e53fa711",
   "metadata": {},
   "source": [
    "# Model Building"
   ]
  },
  {
   "cell_type": "code",
   "execution_count": 13,
   "id": "10a4cf6a",
   "metadata": {},
   "outputs": [],
   "source": [
    "X = data.drop([\"Result\"],axis =1)\n",
    "y = data[\"Result\"]"
   ]
  },
  {
   "cell_type": "code",
   "execution_count": 14,
   "id": "aaaa1bde",
   "metadata": {},
   "outputs": [],
   "source": [
    "y_data = LabelBinarizer().fit_transform(y)\n",
    "\n",
    "X=np.array(X)\n",
    "y=np.array(y)"
   ]
  },
  {
   "cell_type": "code",
   "execution_count": 15,
   "id": "f9ae0bb3",
   "metadata": {},
   "outputs": [],
   "source": [
    "if y.dtype == np.dtype('O'):\n",
    "    y = y.astype(float)"
   ]
  },
  {
   "cell_type": "code",
   "execution_count": 16,
   "id": "125145ca",
   "metadata": {},
   "outputs": [],
   "source": [
    "if X.dtype == np.dtype('O'):\n",
    "    X = X.astype(float)"
   ]
  },
  {
   "cell_type": "markdown",
   "id": "7ad7d664",
   "metadata": {},
   "source": [
    "# CNN"
   ]
  },
  {
   "cell_type": "code",
   "execution_count": 17,
   "id": "53f404dd",
   "metadata": {},
   "outputs": [],
   "source": [
    "def recall_m(y_true, y_pred):\n",
    "    true_positives = K.sum(K.round(K.clip(y_true * y_pred, 0, 1)))\n",
    "    possible_positives = K.sum(K.round(K.clip(y_true, 0, 1)))\n",
    "    recall = true_positives / (possible_positives + K.epsilon())\n",
    "    return recall\n",
    "\n",
    "def precision_m(y_true, y_pred):\n",
    "    true_positives = K.sum(K.round(K.clip(y_true * y_pred, 0, 1)))\n",
    "    predicted_positives = K.sum(K.round(K.clip(y_pred, 0, 1)))\n",
    "    precision = true_positives / (predicted_positives + K.epsilon())\n",
    "    return precision\n",
    "\n",
    "def f1_score(y_true, y_pred):\n",
    "    precision = precision_m(y_true, y_pred)\n",
    "    recall = recall_m(y_true, y_pred)\n",
    "    \n",
    "    return 2*((precision*recall)/(precision+recall+K.epsilon()))"
   ]
  },
  {
   "cell_type": "code",
   "execution_count": 18,
   "id": "7ae57a08",
   "metadata": {},
   "outputs": [
    {
     "name": "stdout",
     "output_type": "stream",
     "text": [
      "(8844, 30) \n",
      " (2211, 30)\n"
     ]
    }
   ],
   "source": [
    "X_train, X_test, y_train, y_test = train_test_split(X,y, test_size=0.20, random_state=42)\n",
    "print(X_train.shape,'\\n',X_test.shape)"
   ]
  },
  {
   "cell_type": "code",
   "execution_count": 19,
   "id": "be526801",
   "metadata": {},
   "outputs": [
    {
     "data": {
      "text/plain": [
       "(2211, 30, 1)"
      ]
     },
     "execution_count": 19,
     "metadata": {},
     "output_type": "execute_result"
    }
   ],
   "source": [
    "X_train, X_test, y_train, y_test = train_test_split(X,y, test_size=0.20, random_state=42)\n",
    "X_train = np.reshape(X_train, (X_train.shape[0], X_train.shape[1], 1))\n",
    "X_train.shape\n",
    "X_test = np.reshape(X_test, (X_test.shape[0], X_test.shape[1], 1))\n",
    "X_test.shape"
   ]
  },
  {
   "cell_type": "code",
   "execution_count": 20,
   "id": "4abc225d",
   "metadata": {},
   "outputs": [],
   "source": [
    "y_train=to_categorical(y_train)\n",
    "y_test=to_categorical(y_test)"
   ]
  },
  {
   "cell_type": "code",
   "execution_count": 21,
   "id": "59ec9e74",
   "metadata": {},
   "outputs": [
    {
     "data": {
      "text/plain": [
       "array([[0, 1],\n",
       "       [0, 1],\n",
       "       [0, 1],\n",
       "       ...,\n",
       "       [0, 1],\n",
       "       [0, 1],\n",
       "       [0, 1]])"
      ]
     },
     "execution_count": 21,
     "metadata": {},
     "output_type": "execute_result"
    }
   ],
   "source": [
    "y_train = LabelBinarizer().fit_transform(y_train)\n",
    "y_train\n",
    "y_test = LabelBinarizer().fit_transform(y_test)\n",
    "y_test"
   ]
  },
  {
   "cell_type": "code",
   "execution_count": 22,
   "id": "891d8fac",
   "metadata": {},
   "outputs": [],
   "source": [
    "model = Sequential() \n",
    "model.add(Conv1D(32, 3, padding=\"same\",input_shape = (X_train.shape[1], 1), activation='relu'))\n",
    "model.add(MaxPool1D(pool_size=(4)))  \n",
    "model.add(Dropout(0.2))\n",
    "model.add(Conv1D(32, 3, padding=\"same\", activation='relu'))\n",
    "model.add(MaxPool1D(pool_size=(4)))  \n",
    "model.add(Dropout(0.2))\n",
    "model.add(Flatten())\n",
    "model.add(Dense(units=50))\n",
    "model.add(Dense(units=2,activation='softmax'))"
   ]
  },
  {
   "cell_type": "code",
   "execution_count": 23,
   "id": "5603318b",
   "metadata": {},
   "outputs": [
    {
     "name": "stdout",
     "output_type": "stream",
     "text": [
      "Model: \"sequential\"\n",
      "_________________________________________________________________\n",
      "Layer (type)                 Output Shape              Param #   \n",
      "=================================================================\n",
      "conv1d (Conv1D)              (None, 30, 32)            128       \n",
      "_________________________________________________________________\n",
      "max_pooling1d (MaxPooling1D) (None, 7, 32)             0         \n",
      "_________________________________________________________________\n",
      "dropout (Dropout)            (None, 7, 32)             0         \n",
      "_________________________________________________________________\n",
      "conv1d_1 (Conv1D)            (None, 7, 32)             3104      \n",
      "_________________________________________________________________\n",
      "max_pooling1d_1 (MaxPooling1 (None, 1, 32)             0         \n",
      "_________________________________________________________________\n",
      "dropout_1 (Dropout)          (None, 1, 32)             0         \n",
      "_________________________________________________________________\n",
      "flatten (Flatten)            (None, 32)                0         \n",
      "_________________________________________________________________\n",
      "dense (Dense)                (None, 50)                1650      \n",
      "_________________________________________________________________\n",
      "dense_1 (Dense)              (None, 2)                 102       \n",
      "=================================================================\n",
      "Total params: 4,984\n",
      "Trainable params: 4,984\n",
      "Non-trainable params: 0\n",
      "_________________________________________________________________\n"
     ]
    }
   ],
   "source": [
    "model.compile(loss='binary_crossentropy', optimizer='adam', metrics=['accuracy', f1_score, recall_m, precision_m])\n",
    "model.summary()"
   ]
  },
  {
   "cell_type": "code",
   "execution_count": 24,
   "id": "0cf8f5ff",
   "metadata": {},
   "outputs": [
    {
     "name": "stdout",
     "output_type": "stream",
     "text": [
      "Epoch 1/10\n",
      "111/111 [==============================] - 2s 3ms/step - loss: 0.0629 - accuracy: 0.9894 - f1_score: 0.9894 - recall_m: 0.9894 - precision_m: 0.9894 - val_loss: 6.0203e-04 - val_accuracy: 1.0000 - val_f1_score: 1.0000 - val_recall_m: 1.0000 - val_precision_m: 1.0000\n",
      "Epoch 2/10\n",
      "111/111 [==============================] - 0s 2ms/step - loss: 4.7702e-04 - accuracy: 1.0000 - f1_score: 1.0000 - recall_m: 1.0000 - precision_m: 1.0000 - val_loss: 1.7781e-04 - val_accuracy: 1.0000 - val_f1_score: 1.0000 - val_recall_m: 1.0000 - val_precision_m: 1.0000\n",
      "Epoch 3/10\n",
      "111/111 [==============================] - 0s 2ms/step - loss: 1.9119e-04 - accuracy: 1.0000 - f1_score: 1.0000 - recall_m: 1.0000 - precision_m: 1.0000 - val_loss: 8.1062e-05 - val_accuracy: 1.0000 - val_f1_score: 1.0000 - val_recall_m: 1.0000 - val_precision_m: 1.0000\n",
      "Epoch 4/10\n",
      "111/111 [==============================] - 0s 2ms/step - loss: 1.0191e-04 - accuracy: 1.0000 - f1_score: 1.0000 - recall_m: 1.0000 - precision_m: 1.0000 - val_loss: 4.6405e-05 - val_accuracy: 1.0000 - val_f1_score: 1.0000 - val_recall_m: 1.0000 - val_precision_m: 1.0000\n",
      "Epoch 5/10\n",
      "111/111 [==============================] - 0s 2ms/step - loss: 6.6956e-05 - accuracy: 1.0000 - f1_score: 1.0000 - recall_m: 1.0000 - precision_m: 1.0000 - val_loss: 2.8932e-05 - val_accuracy: 1.0000 - val_f1_score: 1.0000 - val_recall_m: 1.0000 - val_precision_m: 1.0000\n",
      "Epoch 6/10\n",
      "111/111 [==============================] - 0s 2ms/step - loss: 4.6965e-05 - accuracy: 1.0000 - f1_score: 1.0000 - recall_m: 1.0000 - precision_m: 1.0000 - val_loss: 1.9482e-05 - val_accuracy: 1.0000 - val_f1_score: 1.0000 - val_recall_m: 1.0000 - val_precision_m: 1.0000\n",
      "Epoch 7/10\n",
      "111/111 [==============================] - 0s 2ms/step - loss: 3.6110e-05 - accuracy: 1.0000 - f1_score: 1.0000 - recall_m: 1.0000 - precision_m: 1.0000 - val_loss: 1.3799e-05 - val_accuracy: 1.0000 - val_f1_score: 1.0000 - val_recall_m: 1.0000 - val_precision_m: 1.0000\n",
      "Epoch 8/10\n",
      "111/111 [==============================] - 0s 4ms/step - loss: 2.6195e-05 - accuracy: 1.0000 - f1_score: 1.0000 - recall_m: 1.0000 - precision_m: 1.0000 - val_loss: 1.0214e-05 - val_accuracy: 1.0000 - val_f1_score: 1.0000 - val_recall_m: 1.0000 - val_precision_m: 1.0000\n",
      "Epoch 9/10\n",
      "111/111 [==============================] - 0s 4ms/step - loss: 2.2350e-05 - accuracy: 1.0000 - f1_score: 1.0000 - recall_m: 1.0000 - precision_m: 1.0000 - val_loss: 7.7173e-06 - val_accuracy: 1.0000 - val_f1_score: 1.0000 - val_recall_m: 1.0000 - val_precision_m: 1.0000\n",
      "Epoch 10/10\n",
      "111/111 [==============================] - 0s 4ms/step - loss: 1.9648e-05 - accuracy: 1.0000 - f1_score: 1.0000 - recall_m: 1.0000 - precision_m: 1.0000 - val_loss: 5.9155e-06 - val_accuracy: 1.0000 - val_f1_score: 1.0000 - val_recall_m: 1.0000 - val_precision_m: 1.0000\n"
     ]
    }
   ],
   "source": [
    "history = model.fit(X_train, y_train, epochs=10, batch_size=64,validation_split=0.2)"
   ]
  },
  {
   "cell_type": "code",
   "execution_count": 25,
   "id": "d91f5ee1",
   "metadata": {},
   "outputs": [],
   "source": [
    "from sklearn.metrics import accuracy_score, precision_score, recall_score, f1_score\n",
    "y_pred = model.predict(X_test)\n",
    "\n",
    "\n",
    "y_pred_labels = np.argmax(y_pred, axis=1)\n",
    "y_test_labels = np.argmax(y_test, axis=1)\n",
    "\n",
    "accuracy = accuracy_score(y_test_labels, y_pred_labels)\n",
    "precision = precision_score(y_test_labels, y_pred_labels)\n",
    "recall = recall_score(y_test_labels, y_pred_labels)\n",
    "f1 = f1_score(y_test_labels, y_pred_labels)"
   ]
  },
  {
   "cell_type": "code",
   "execution_count": 26,
   "id": "50b78f14",
   "metadata": {},
   "outputs": [
    {
     "data": {
      "image/png": "[encoded data removed]",
      "text/plain": [
       "<Figure size 432x288 with 1 Axes>"
      ]
     },
     "metadata": {},
     "output_type": "display_data"
    },
    {
     "data": {
      "image/png": "[encoded data removed]",
      "text/plain": [
       "<Figure size 432x288 with 1 Axes>"
      ]
     },
     "metadata": {},
     "output_type": "display_data"
    }
   ],
   "source": [
    "plt.plot(history.history['loss'])\n",
    "plt.plot(history.history['val_loss'])\n",
    "plt.title('Model loss')\n",
    "plt.ylabel('Loss')\n",
    "plt.xlabel('Epoch')\n",
    "plt.legend(['Train', 'Validation'], loc='upper left')\n",
    "plt.show()\n",
    "\n",
    "\n",
    "# Plot training & validation accuracy values\n",
    "plt.plot(history.history['accuracy'])\n",
    "plt.plot(history.history['val_accuracy'])\n",
    "plt.title('Model accuracy')\n",
    "plt.ylabel('Accuracy')\n",
    "plt.xlabel('Epoch')\n",
    "plt.legend(['Train', 'Validation'], loc='upper left')\n",
    "plt.show()"
   ]
  },
  {
   "cell_type": "markdown",
   "id": "7c5510b1",
   "metadata": {},
   "source": [
    "# RNN"
   ]
  },
  {
   "cell_type": "code",
   "execution_count": 27,
   "id": "13c703f9",
   "metadata": {},
   "outputs": [],
   "source": [
    "def recall_m(y_true, y_pred):\n",
    "    true_positives = K.sum(K.round(K.clip(y_true * y_pred, 0, 1)))\n",
    "    possible_positives = K.sum(K.round(K.clip(y_true, 0, 1)))\n",
    "    recall = true_positives / (possible_positives + K.epsilon())\n",
    "    return recall\n",
    "\n",
    "def precision_m(y_true, y_pred):\n",
    "    true_positives = K.sum(K.round(K.clip(y_true * y_pred, 0, 1)))\n",
    "    predicted_positives = K.sum(K.round(K.clip(y_pred, 0, 1)))\n",
    "    precision = true_positives / (predicted_positives + K.epsilon())\n",
    "    return precision\n",
    "\n",
    "def f1_score(y_true, y_pred):\n",
    "    precision = precision_m(y_true, y_pred)\n",
    "    recall = recall_m(y_true, y_pred)\n",
    "    \n",
    "    return 2*((precision*recall)/(precision+recall+K.epsilon()))"
   ]
  },
  {
   "cell_type": "code",
   "execution_count": 28,
   "id": "b2c19245",
   "metadata": {},
   "outputs": [
    {
     "name": "stdout",
     "output_type": "stream",
     "text": [
      "(8844, 30) \n",
      " (2211, 30)\n"
     ]
    }
   ],
   "source": [
    "X_train, X_test, y_train, y_test = train_test_split(X,y, test_size=0.20, random_state=42)\n",
    "print(X_train.shape,'\\n',X_test.shape)\n",
    "\n",
    "\n",
    "X_train = np.reshape(X_train, ( X_train.shape[0], 1 , X_train.shape[1] ))\n",
    "X_test = np.reshape(X_test, ( X_test.shape[0], 1,  X_test.shape[1] ))\n",
    "\n",
    "\n",
    "\n",
    "y_train=to_categorical(y_train)\n",
    "y_test=to_categorical(y_test)"
   ]
  },
  {
   "cell_type": "code",
   "execution_count": 29,
   "id": "40a43990",
   "metadata": {},
   "outputs": [],
   "source": [
    "model = Sequential() \n",
    "model.add(SimpleRNN(64,return_sequences=True,input_shape = (1, X_train.shape[2])))\n",
    "model.add(Dropout(0.2))\n",
    "model.add(SimpleRNN(64,return_sequences=True))\n",
    "model.add(Dropout(0.2))\n",
    "model.add(SimpleRNN(64,return_sequences=True))\n",
    "model.add(Flatten())\n",
    "model.add(Dense(units=50))\n",
    "model.add(Dense(units=2,activation='softmax'))"
   ]
  },
  {
   "cell_type": "code",
   "execution_count": 30,
   "id": "d5938e7f",
   "metadata": {},
   "outputs": [
    {
     "name": "stdout",
     "output_type": "stream",
     "text": [
      "Model: \"sequential_1\"\n",
      "_________________________________________________________________\n",
      "Layer (type)                 Output Shape              Param #   \n",
      "=================================================================\n",
      "simple_rnn (SimpleRNN)       (None, 1, 64)             6080      \n",
      "_________________________________________________________________\n",
      "dropout_2 (Dropout)          (None, 1, 64)             0         \n",
      "_________________________________________________________________\n",
      "simple_rnn_1 (SimpleRNN)     (None, 1, 64)             8256      \n",
      "_________________________________________________________________\n",
      "dropout_3 (Dropout)          (None, 1, 64)             0         \n",
      "_________________________________________________________________\n",
      "simple_rnn_2 (SimpleRNN)     (None, 1, 64)             8256      \n",
      "_________________________________________________________________\n",
      "flatten_1 (Flatten)          (None, 64)                0         \n",
      "_________________________________________________________________\n",
      "dense_2 (Dense)              (None, 50)                3250      \n",
      "_________________________________________________________________\n",
      "dense_3 (Dense)              (None, 2)                 102       \n",
      "=================================================================\n",
      "Total params: 25,944\n",
      "Trainable params: 25,944\n",
      "Non-trainable params: 0\n",
      "_________________________________________________________________\n"
     ]
    }
   ],
   "source": [
    "model.compile(loss='categorical_crossentropy', optimizer='adam', metrics=['accuracy', f1_score, recall_m, precision_m])\n",
    "model.summary()"
   ]
  },
  {
   "cell_type": "code",
   "execution_count": 31,
   "id": "59a2bddb",
   "metadata": {},
   "outputs": [
    {
     "name": "stdout",
     "output_type": "stream",
     "text": [
      "Epoch 1/10\n",
      "111/111 [==============================] - 2s 10ms/step - loss: 0.0365 - accuracy: 0.9832 - f1_score: 0.9832 - recall_m: 0.9832 - precision_m: 0.9832 - val_loss: 0.0043 - val_accuracy: 0.9989 - val_f1_score: 0.9989 - val_recall_m: 0.9989 - val_precision_m: 0.9989\n",
      "Epoch 2/10\n",
      "111/111 [==============================] - 1s 7ms/step - loss: 0.0032 - accuracy: 0.9990 - f1_score: 0.9990 - recall_m: 0.9990 - precision_m: 0.9990 - val_loss: 0.0010 - val_accuracy: 0.9994 - val_f1_score: 0.9994 - val_recall_m: 0.9994 - val_precision_m: 0.9994\n",
      "Epoch 3/10\n",
      "111/111 [==============================] - 1s 7ms/step - loss: 9.9686e-04 - accuracy: 0.9997 - f1_score: 0.9997 - recall_m: 0.9997 - precision_m: 0.9997 - val_loss: 4.7069e-04 - val_accuracy: 1.0000 - val_f1_score: 1.0000 - val_recall_m: 1.0000 - val_precision_m: 1.0000\n",
      "Epoch 4/10\n",
      "111/111 [==============================] - 1s 7ms/step - loss: 5.2301e-04 - accuracy: 0.9999 - f1_score: 0.9999 - recall_m: 0.9999 - precision_m: 0.9999 - val_loss: 4.4063e-04 - val_accuracy: 1.0000 - val_f1_score: 1.0000 - val_recall_m: 1.0000 - val_precision_m: 1.0000\n",
      "Epoch 5/10\n",
      "111/111 [==============================] - 1s 7ms/step - loss: 2.7498e-04 - accuracy: 1.0000 - f1_score: 1.0000 - recall_m: 1.0000 - precision_m: 1.0000 - val_loss: 2.7121e-04 - val_accuracy: 1.0000 - val_f1_score: 1.0000 - val_recall_m: 1.0000 - val_precision_m: 1.0000\n",
      "Epoch 6/10\n",
      "111/111 [==============================] - 1s 7ms/step - loss: 1.9259e-04 - accuracy: 1.0000 - f1_score: 1.0000 - recall_m: 1.0000 - precision_m: 1.0000 - val_loss: 3.5776e-04 - val_accuracy: 1.0000 - val_f1_score: 1.0000 - val_recall_m: 1.0000 - val_precision_m: 1.0000\n",
      "Epoch 7/10\n",
      "111/111 [==============================] - 1s 7ms/step - loss: 3.3164e-04 - accuracy: 0.9999 - f1_score: 0.9999 - recall_m: 0.9999 - precision_m: 0.9999 - val_loss: 1.3858e-04 - val_accuracy: 1.0000 - val_f1_score: 1.0000 - val_recall_m: 1.0000 - val_precision_m: 1.0000\n",
      "Epoch 8/10\n",
      "111/111 [==============================] - 1s 7ms/step - loss: 9.1770e-05 - accuracy: 1.0000 - f1_score: 1.0000 - recall_m: 1.0000 - precision_m: 1.0000 - val_loss: 1.1585e-04 - val_accuracy: 1.0000 - val_f1_score: 1.0000 - val_recall_m: 1.0000 - val_precision_m: 1.0000\n",
      "Epoch 9/10\n",
      "111/111 [==============================] - 1s 7ms/step - loss: 4.6596e-05 - accuracy: 1.0000 - f1_score: 1.0000 - recall_m: 1.0000 - precision_m: 1.0000 - val_loss: 1.0655e-04 - val_accuracy: 1.0000 - val_f1_score: 1.0000 - val_recall_m: 1.0000 - val_precision_m: 1.0000\n",
      "Epoch 10/10\n",
      "111/111 [==============================] - 1s 7ms/step - loss: 7.9058e-05 - accuracy: 1.0000 - f1_score: 1.0000 - recall_m: 1.0000 - precision_m: 1.0000 - val_loss: 1.1814e-04 - val_accuracy: 1.0000 - val_f1_score: 1.0000 - val_recall_m: 1.0000 - val_precision_m: 1.0000\n"
     ]
    }
   ],
   "source": [
    "history = model.fit(X_train, y_train, epochs=10, batch_size=64,validation_split=0.2)"
   ]
  },
  {
   "cell_type": "code",
   "execution_count": 32,
   "id": "0253f858",
   "metadata": {},
   "outputs": [],
   "source": [
    "from sklearn.metrics import accuracy_score, precision_score, recall_score, f1_score\n",
    "y_pred = model.predict(X_test)\n",
    "\n",
    "\n",
    "y_pred_labels = np.argmax(y_pred, axis=1)\n",
    "y_test_labels = np.argmax(y_test, axis=1)\n",
    "\n",
    "accuracy1 = accuracy_score(y_test_labels, y_pred_labels)\n",
    "precision1 = precision_score(y_test_labels, y_pred_labels)\n",
    "recall1 = recall_score(y_test_labels, y_pred_labels)\n",
    "f11 = f1_score(y_test_labels, y_pred_labels)"
   ]
  },
  {
   "cell_type": "code",
   "execution_count": 33,
   "id": "9c06bbca",
   "metadata": {},
   "outputs": [
    {
     "data": {
      "image/png": "[encoded data removed]",
      "text/plain": [
       "<Figure size 432x288 with 1 Axes>"
      ]
     },
     "metadata": {},
     "output_type": "display_data"
    },
    {
     "data": {
      "image/png": "[encoded data removed]",
      "text/plain": [
       "<Figure size 432x288 with 1 Axes>"
      ]
     },
     "metadata": {},
     "output_type": "display_data"
    }
   ],
   "source": [
    "plt.plot(history.history['loss'])\n",
    "plt.plot(history.history['val_loss'])\n",
    "plt.title('Model loss')\n",
    "plt.ylabel('Loss')\n",
    "plt.xlabel('Epoch')\n",
    "plt.legend(['Train', 'Validation'], loc='upper left')\n",
    "plt.show()\n",
    "\n",
    "\n",
    "# Plot training & validation accuracy values\n",
    "plt.plot(history.history['accuracy'])\n",
    "plt.plot(history.history['val_accuracy'])\n",
    "plt.title('Model accuracy')\n",
    "plt.ylabel('Accuracy')\n",
    "plt.xlabel('Epoch')\n",
    "plt.legend(['Train', 'Validation'], loc='upper left')\n",
    "plt.show()"
   ]
  },
  {
   "cell_type": "markdown",
   "id": "4e30e36a",
   "metadata": {},
   "source": [
    "# Logistic Regression"
   ]
  },
  {
   "cell_type": "code",
   "execution_count": 34,
   "id": "7737ca3d",
   "metadata": {},
   "outputs": [],
   "source": [
    "X = data.drop([\"Result\"],axis =1)\n",
    "y = data[\"Result\"]\n",
    "X_train, X_test, y_train, y_test = train_test_split(X,y, test_size=0.20, random_state=42)"
   ]
  },
  {
   "cell_type": "code",
   "execution_count": 35,
   "id": "51c5fd28",
   "metadata": {},
   "outputs": [
    {
     "name": "stdout",
     "output_type": "stream",
     "text": [
      "*Accuracy score for LR:  0.9240162822252375 \n",
      "\n",
      "*Confusion Matrix for LR: \n",
      "[[ 864   92]\n",
      " [  76 1179]]\n",
      "*Classification Report for LR: \n",
      "              precision    recall  f1-score   support\n",
      "\n",
      "          -1       0.92      0.90      0.91       956\n",
      "           1       0.93      0.94      0.93      1255\n",
      "\n",
      "    accuracy                           0.92      2211\n",
      "   macro avg       0.92      0.92      0.92      2211\n",
      "weighted avg       0.92      0.92      0.92      2211\n",
      "\n"
     ]
    }
   ],
   "source": [
    "from sklearn.linear_model import LogisticRegression\n",
    "LR = LogisticRegression()\n",
    "LR.fit(X_train, y_train)\n",
    "predictions = LR.predict(X_test)\n",
    "val = (accuracy_score(y_test, predictions))\n",
    "print(\"*Accuracy score for LR: \", val, \"\\n\")\n",
    "print(\"*Confusion Matrix for LR: \")\n",
    "print(confusion_matrix(y_test, predictions))\n",
    "print(\"*Classification Report for LR: \")\n",
    "print(classification_report(y_test, predictions))"
   ]
  },
  {
   "cell_type": "code",
   "execution_count": 36,
   "id": "55c170d7",
   "metadata": {},
   "outputs": [
    {
     "name": "stdout",
     "output_type": "stream",
     "text": [
      "Scores for each fold are: [0.91186441 0.93559322 0.93333333 0.90960452 0.93099548 0.92081448\n",
      " 0.93891403 0.92986425 0.93778281 0.93552036]\n",
      "Average score: 0.93\n"
     ]
    }
   ],
   "source": [
    "lr_prec = precision_score(y_test, predictions,average='weighted')\n",
    "lr_rec = recall_score(y_test, predictions,average='weighted')\n",
    "lr_f1 = f1_score(y_test, predictions,average='weighted')\n",
    "\n",
    "kf = KFold(n_splits=10)\n",
    "\n",
    "score_lr  = cross_val_score(LR, X_train, y_train, cv= kf, scoring=\"accuracy\")\n",
    "print(f'Scores for each fold are: {score_lr}')\n",
    "print(f'Average score: {\"{:.2f}\".format(score_lr.mean())}')"
   ]
  },
  {
   "cell_type": "markdown",
   "id": "cfe915e4",
   "metadata": {},
   "source": [
    "# Decision Tree"
   ]
  },
  {
   "cell_type": "code",
   "execution_count": 37,
   "id": "5891d04f",
   "metadata": {},
   "outputs": [
    {
     "name": "stdout",
     "output_type": "stream",
     "text": [
      "*Accuracy score for DT:  0.9140660334690185 \n",
      "\n",
      "*Confusion Matrix for DT: \n",
      "[[ 865   91]\n",
      " [  99 1156]]\n",
      "*Classification Report for DT: \n",
      "              precision    recall  f1-score   support\n",
      "\n",
      "          -1       0.90      0.90      0.90       956\n",
      "           1       0.93      0.92      0.92      1255\n",
      "\n",
      "    accuracy                           0.91      2211\n",
      "   macro avg       0.91      0.91      0.91      2211\n",
      "weighted avg       0.91      0.91      0.91      2211\n",
      "\n"
     ]
    }
   ],
   "source": [
    "from sklearn.tree import DecisionTreeClassifier\n",
    "DT = DecisionTreeClassifier(max_depth =3, random_state = 42)\n",
    "DT.fit(X_train, y_train)\n",
    "predictions = DT.predict(X_test)\n",
    "val1 = (accuracy_score(y_test, predictions))\n",
    "print(\"*Accuracy score for DT: \", val1, \"\\n\")\n",
    "print(\"*Confusion Matrix for DT: \")\n",
    "print(confusion_matrix(y_test, predictions))\n",
    "print(\"*Classification Report for DT: \")\n",
    "print(classification_report(y_test, predictions))"
   ]
  },
  {
   "cell_type": "code",
   "execution_count": 38,
   "id": "38ff0585",
   "metadata": {},
   "outputs": [
    {
     "name": "stdout",
     "output_type": "stream",
     "text": [
      "Scores for each fold are: [0.8960452  0.91638418 0.88926554 0.89830508 0.88800905 0.90497738\n",
      " 0.90837104 0.92081448 0.90271493 0.89819005]\n",
      "Average score: 0.90\n"
     ]
    }
   ],
   "source": [
    "dt_prec = precision_score(y_test, predictions,average='weighted')\n",
    "dt_rec = recall_score(y_test, predictions,average='weighted')\n",
    "dt_f1 = f1_score(y_test, predictions,average='weighted')\n",
    "\n",
    "kf = KFold(n_splits=10)\n",
    "\n",
    "score_dt = cross_val_score(DT, X_train, y_train, cv= kf, scoring=\"accuracy\")\n",
    "print(f'Scores for each fold are: {score_dt}')\n",
    "print(f'Average score: {\"{:.2f}\".format(score_dt.mean())}')"
   ]
  },
  {
   "cell_type": "markdown",
   "id": "a28fc7c5",
   "metadata": {},
   "source": [
    "# SVM"
   ]
  },
  {
   "cell_type": "code",
   "execution_count": 39,
   "id": "f1b5f655",
   "metadata": {},
   "outputs": [
    {
     "name": "stdout",
     "output_type": "stream",
     "text": [
      "*Accuracy score for SVM:  0.9470827679782904 \n",
      "\n",
      "*Confusion Matrix for SVM: \n",
      "[[ 882   74]\n",
      " [  43 1212]]\n",
      "*Classification Report for SVM: \n",
      "              precision    recall  f1-score   support\n",
      "\n",
      "          -1       0.95      0.92      0.94       956\n",
      "           1       0.94      0.97      0.95      1255\n",
      "\n",
      "    accuracy                           0.95      2211\n",
      "   macro avg       0.95      0.94      0.95      2211\n",
      "weighted avg       0.95      0.95      0.95      2211\n",
      "\n"
     ]
    }
   ],
   "source": [
    "from sklearn.svm import SVC\n",
    "SVM = SVC()\n",
    "SVM.fit(X_train, y_train)\n",
    "predictions = SVM.predict(X_test)\n",
    "val2 = (accuracy_score(y_test, predictions))\n",
    "print(\"*Accuracy score for SVM: \", val2, \"\\n\")\n",
    "print(\"*Confusion Matrix for SVM: \")\n",
    "print(confusion_matrix(y_test, predictions))\n",
    "print(\"*Classification Report for SVM: \")\n",
    "print(classification_report(y_test, predictions))"
   ]
  },
  {
   "cell_type": "code",
   "execution_count": 40,
   "id": "e62a7371",
   "metadata": {},
   "outputs": [
    {
     "name": "stdout",
     "output_type": "stream",
     "text": [
      "Scores for each fold are: [0.93220339 0.95367232 0.94576271 0.94350282 0.95022624 0.94343891\n",
      " 0.95701357 0.95248869 0.95135747 0.95361991]\n",
      "Average score: 0.95\n"
     ]
    }
   ],
   "source": [
    "svm_prec = precision_score(y_test, predictions,average='weighted')\n",
    "svm_rec = recall_score(y_test, predictions,average='weighted')\n",
    "svm_f1 = f1_score(y_test, predictions,average='weighted')\n",
    "\n",
    "kf = KFold(n_splits=10)\n",
    "\n",
    "score_svm = cross_val_score(SVM, X_train, y_train, cv= kf, scoring=\"accuracy\")\n",
    "print(f'Scores for each fold are: {score_svm}')\n",
    "print(f'Average score: {\"{:.2f}\".format(score_svm.mean())}')"
   ]
  },
  {
   "cell_type": "markdown",
   "id": "dce72e70",
   "metadata": {},
   "source": [
    "## KNN"
   ]
  },
  {
   "cell_type": "code",
   "execution_count": 41,
   "id": "100cd8bc",
   "metadata": {},
   "outputs": [
    {
     "name": "stdout",
     "output_type": "stream",
     "text": [
      "*Accuracy score for KNN:  0.9466304839439168 \n",
      "\n",
      "*Confusion Matrix for KNN: \n",
      "[[ 884   72]\n",
      " [  46 1209]]\n",
      "*Classification Report for KNN: \n",
      "              precision    recall  f1-score   support\n",
      "\n",
      "          -1       0.95      0.92      0.94       956\n",
      "           1       0.94      0.96      0.95      1255\n",
      "\n",
      "    accuracy                           0.95      2211\n",
      "   macro avg       0.95      0.94      0.95      2211\n",
      "weighted avg       0.95      0.95      0.95      2211\n",
      "\n"
     ]
    }
   ],
   "source": [
    "from sklearn.neighbors import KNeighborsClassifier\n",
    "KNN = KNeighborsClassifier(n_neighbors=3)\n",
    "KNN.fit(X_train, y_train)\n",
    "predictions = KNN.predict(X_test)\n",
    "val3 = (accuracy_score(y_test, predictions))\n",
    "print(\"*Accuracy score for KNN: \", val3, \"\\n\")\n",
    "print(\"*Confusion Matrix for KNN: \")\n",
    "print(confusion_matrix(y_test, predictions))\n",
    "print(\"*Classification Report for KNN: \")\n",
    "print(classification_report(y_test, predictions))"
   ]
  },
  {
   "cell_type": "code",
   "execution_count": 42,
   "id": "ba54252c",
   "metadata": {},
   "outputs": [
    {
     "name": "stdout",
     "output_type": "stream",
     "text": [
      "Scores for each fold are: [0.94124294 0.95367232 0.94915254 0.94689266 0.95475113 0.93778281\n",
      " 0.94117647 0.94457014 0.96040724 0.94230769]\n",
      "Average score: 0.95\n"
     ]
    }
   ],
   "source": [
    "knn_prec = precision_score(y_test, predictions,average='weighted')\n",
    "knn_rec = recall_score(y_test, predictions,average='weighted')\n",
    "knn_f1 = f1_score(y_test, predictions,average='weighted')\n",
    "\n",
    "kf = KFold(n_splits=10)\n",
    "\n",
    "score_knn = cross_val_score(KNN, X_train, y_train, cv= kf, scoring=\"accuracy\")\n",
    "print(f'Scores for each fold are: {score_knn}')\n",
    "print(f'Average score: {\"{:.2f}\".format(score_knn.mean())}')"
   ]
  },
  {
   "cell_type": "markdown",
   "id": "1a933453",
   "metadata": {},
   "source": [
    "# Gaussian Naive Bayes"
   ]
  },
  {
   "cell_type": "code",
   "execution_count": 43,
   "id": "fc2ce84f",
   "metadata": {},
   "outputs": [
    {
     "name": "stdout",
     "output_type": "stream",
     "text": [
      "*Accuracy score for NB:  0.5829941203075532 \n",
      "\n",
      "*Confusion Matrix for NB: \n",
      "[[955   1]\n",
      " [921 334]]\n",
      "*Classification Report for NB: \n",
      "              precision    recall  f1-score   support\n",
      "\n",
      "          -1       0.51      1.00      0.67       956\n",
      "           1       1.00      0.27      0.42      1255\n",
      "\n",
      "    accuracy                           0.58      2211\n",
      "   macro avg       0.75      0.63      0.55      2211\n",
      "weighted avg       0.79      0.58      0.53      2211\n",
      "\n"
     ]
    }
   ],
   "source": [
    "from sklearn.naive_bayes import GaussianNB\n",
    "NB = GaussianNB()\n",
    "NB.fit(X_train, y_train)\n",
    "predictions = NB.predict(X_test)\n",
    "val4 = (accuracy_score(y_test, predictions))\n",
    "print(\"*Accuracy score for NB: \", val4, \"\\n\")\n",
    "print(\"*Confusion Matrix for NB: \")\n",
    "print(confusion_matrix(y_test, predictions))\n",
    "print(\"*Classification Report for NB: \")\n",
    "print(classification_report(y_test, predictions))"
   ]
  },
  {
   "cell_type": "code",
   "execution_count": 44,
   "id": "50c7e3c8",
   "metadata": {},
   "outputs": [
    {
     "name": "stdout",
     "output_type": "stream",
     "text": [
      "Scores for each fold are: [0.60112994 0.58644068 0.60903955 0.62372881 0.60180995 0.59728507\n",
      " 0.62330317 0.60859729 0.60972851 0.60633484]\n",
      "Average score: 0.61\n"
     ]
    }
   ],
   "source": [
    "nb_prec = precision_score(y_test, predictions,average='weighted')\n",
    "nb_rec = recall_score(y_test, predictions,average='weighted')\n",
    "nb_f1 = f1_score(y_test, predictions,average='weighted')\n",
    "\n",
    "kf = KFold(n_splits=10)\n",
    "\n",
    "score_gn = cross_val_score(NB, X_train, y_train, cv= kf, scoring=\"accuracy\")\n",
    "print(f'Scores for each fold are: {score_gn}')\n",
    "print(f'Average score: {\"{:.2f}\".format(score_gn.mean())}')"
   ]
  },
  {
   "cell_type": "markdown",
   "id": "174abaa4",
   "metadata": {},
   "source": [
    "# LDA"
   ]
  },
  {
   "cell_type": "code",
   "execution_count": 45,
   "id": "548b7dee",
   "metadata": {},
   "outputs": [
    {
     "name": "stdout",
     "output_type": "stream",
     "text": [
      "*Accuracy score for LDA:  0.9208502939846224 \n",
      "\n",
      "*Confusion Matrix for LDA: \n",
      "[[ 846  110]\n",
      " [  65 1190]]\n",
      "*Classification Report for LDA: \n",
      "              precision    recall  f1-score   support\n",
      "\n",
      "          -1       0.93      0.88      0.91       956\n",
      "           1       0.92      0.95      0.93      1255\n",
      "\n",
      "    accuracy                           0.92      2211\n",
      "   macro avg       0.92      0.92      0.92      2211\n",
      "weighted avg       0.92      0.92      0.92      2211\n",
      "\n"
     ]
    }
   ],
   "source": [
    "from sklearn.discriminant_analysis import LinearDiscriminantAnalysis\n",
    "LDA = LinearDiscriminantAnalysis()\n",
    "LDA.fit(X_train, y_train)\n",
    "predictions = LDA.predict(X_test)\n",
    "val5 = (accuracy_score(y_test, predictions))\n",
    "print(\"*Accuracy score for LDA: \", val5, \"\\n\")\n",
    "print(\"*Confusion Matrix for LDA: \")\n",
    "print(confusion_matrix(y_test, predictions))\n",
    "print(\"*Classification Report for LDA: \")\n",
    "print(classification_report(y_test, predictions))"
   ]
  },
  {
   "cell_type": "code",
   "execution_count": 46,
   "id": "9be8f7f6",
   "metadata": {},
   "outputs": [
    {
     "name": "stdout",
     "output_type": "stream",
     "text": [
      "Scores for each fold are: [0.91299435 0.93107345 0.9220339  0.90960452 0.91289593 0.92307692\n",
      " 0.9321267  0.91855204 0.92760181 0.9219457 ]\n",
      "Average score: 0.92\n"
     ]
    }
   ],
   "source": [
    "lda_prec = precision_score(y_test, predictions,average='weighted')\n",
    "lda_rec = recall_score(y_test, predictions,average='weighted')\n",
    "lda_f1 = f1_score(y_test, predictions,average='weighted')\n",
    "kf = KFold(n_splits=10)\n",
    "score_lda = cross_val_score(LDA, X_train, y_train, cv= kf, scoring=\"accuracy\")\n",
    "print(f'Scores for each fold are: {score_lda}')\n",
    "print(f'Average score: {\"{:.2f}\".format(score_lda.mean())}')"
   ]
  },
  {
   "cell_type": "markdown",
   "id": "c9c7396e",
   "metadata": {},
   "source": [
    "# Extension"
   ]
  },
  {
   "cell_type": "code",
   "execution_count": 47,
   "id": "fa4e7b19",
   "metadata": {},
   "outputs": [
    {
     "name": "stdout",
     "output_type": "stream",
     "text": [
      "*Confusion Matrix for Voting Classifier: \n",
      "[[ 902   54]\n",
      " [  37 1218]]\n",
      "*Accuracy score for Voting:  0.9588421528720036 \n",
      "\n",
      "*Classification Report for Voting: \n",
      "              precision    recall  f1-score   support\n",
      "\n",
      "          -1       0.96      0.94      0.95       956\n",
      "           1       0.96      0.97      0.96      1255\n",
      "\n",
      "    accuracy                           0.96      2211\n",
      "   macro avg       0.96      0.96      0.96      2211\n",
      "weighted avg       0.96      0.96      0.96      2211\n",
      "\n"
     ]
    }
   ],
   "source": [
    "from sklearn.tree import DecisionTreeClassifier\n",
    "from sklearn.ensemble import RandomForestClassifier, VotingClassifier\n",
    "from sklearn.ensemble import AdaBoostClassifier\n",
    "clf1 = AdaBoostClassifier()\n",
    "clf2 = RandomForestClassifier(n_estimators=50, random_state=1)\n",
    "clf3 = DecisionTreeClassifier()\n",
    "eclf1 = VotingClassifier(estimators=[('nb', clf1), ('rf', clf2), ('dt', clf3)], voting='soft')\n",
    "eclf1.fit(X_train, y_train)\n",
    "predictions = eclf1.predict(X_test)\n",
    "print(\"*Confusion Matrix for Voting Classifier: \")\n",
    "print(confusion_matrix(y_test, predictions))\n",
    "\n",
    "val6 = (accuracy_score(y_test, predictions))\n",
    "print(\"*Accuracy score for Voting: \", val6, \"\\n\")\n",
    "print(\"*Classification Report for Voting: \")\n",
    "print(classification_report(y_test, predictions))"
   ]
  },
  {
   "cell_type": "code",
   "execution_count": 48,
   "id": "6402c800",
   "metadata": {},
   "outputs": [
    {
     "name": "stdout",
     "output_type": "stream",
     "text": [
      "Scores for each fold are: [0.95706215 0.96723164 0.96158192 0.97966102 0.96606335 0.96606335\n",
      " 0.96606335 0.96040724 0.9739819  0.95135747]\n",
      "Average score: 0.96\n"
     ]
    }
   ],
   "source": [
    "vot_prec = precision_score(y_test, predictions,average='weighted')\n",
    "vot_rec = recall_score(y_test, predictions,average='weighted')\n",
    "vot_f1 = f1_score(y_test, predictions,average='weighted')\n",
    "kf = KFold(n_splits=10)\n",
    "score_voting = cross_val_score(eclf1, X_train, y_train, cv= kf, scoring=\"accuracy\")\n",
    "print(f'Scores for each fold are: {score_voting}')\n",
    "print(f'Average score: {\"{:.2f}\".format(score_voting.mean())}')"
   ]
  },
  {
   "cell_type": "markdown",
   "id": "e277ca60",
   "metadata": {},
   "source": [
    "# Comparison"
   ]
  },
  {
   "cell_type": "code",
   "execution_count": 49,
   "id": "cedb29b9",
   "metadata": {},
   "outputs": [],
   "source": [
    "score = [accuracy,accuracy1,val,val1,val2,val3,val4,val5,val6]\n",
    "score1 = [precision,precision1,lr_prec,dt_prec,svm_prec,knn_prec,nb_prec,lda_prec,vot_prec]\n",
    "score2 = [recall,recall1,lr_rec,dt_rec,svm_rec,knn_rec,nb_rec,lda_rec,vot_rec]\n",
    "score3 = [f1,f11,lr_f1,dt_f1,svm_f1,knn_f1,nb_f1,lda_f1,vot_f1]"
   ]
  },
  {
   "cell_type": "code",
   "execution_count": 50,
   "id": "e04628e5",
   "metadata": {},
   "outputs": [
    {
     "name": "stdout",
     "output_type": "stream",
     "text": [
      "[0 1 2 3 4 5 6 7 8]\n",
      "[1.0, 1.0, 0.9240162822252375, 0.9140660334690185, 0.9470827679782904, 0.9466304839439168, 0.5829941203075532, 0.9208502939846224, 0.9588421528720036]\n"
     ]
    }
   ],
   "source": [
    "classifier = ('CNN','RNN','Logistic Regression','Decision Tree','SVM','KNN','Naive Bayes','LDA','Voting Classifier')\n",
    "y_pos = np.arange(len(classifier))\n",
    "print(y_pos)\n",
    "print(score)\n",
    "        \n",
    "\n",
    "results = {\n",
    "    'Accuracy': score,\n",
    "    'Recall': score1,\n",
    "    'Precision': score2,\n",
    "    'F1': score3\n",
    "}\n",
    "\n",
    "index = ['CNN','RNN','Logistic Regression','Decision Tree','SVM','KNN','Naive Bayes','LDA','Voting Classifier']"
   ]
  },
  {
   "cell_type": "code",
   "execution_count": 51,
   "id": "d7748fce",
   "metadata": {},
   "outputs": [
    {
     "name": "stdout",
     "output_type": "stream",
     "text": [
      "                     Accuracy    Recall  Precision        F1\n",
      "CNN                  1.000000  1.000000   1.000000  1.000000\n",
      "RNN                  1.000000  1.000000   1.000000  1.000000\n",
      "Logistic Regression  0.924016  0.923955   0.924016  0.923936\n",
      "Decision Tree        0.914066  0.914174   0.914066  0.914108\n",
      "SVM                  0.947083  0.947238   0.947083  0.946970\n",
      "KNN                  0.946630  0.946710   0.946630  0.946536\n",
      "Naive Bayes          0.582994  0.786032   0.582994  0.530085\n",
      "LDA                  0.920850  0.921120   0.920850  0.920593\n",
      "Voting Classifier    0.958842  0.958866   0.958842  0.958796\n"
     ]
    }
   ],
   "source": [
    "results =pd.DataFrame(results,index=index)\n",
    "print(results)"
   ]
  },
  {
   "cell_type": "code",
   "execution_count": 52,
   "id": "785d1232",
   "metadata": {},
   "outputs": [
    {
     "data": {
      "image/png": "[encoded data removed]",
      "text/plain": [
       "<Figure size 1368x1368 with 1 Axes>"
      ]
     },
     "metadata": {},
     "output_type": "display_data"
    }
   ],
   "source": [
    "fig =results.plot(kind='bar',title='Comaprison of models',figsize =(19,19)).get_figure()\n",
    "fig.savefig('Final Result.png')"
   ]
  },
  {
   "cell_type": "markdown",
   "id": "a44c2b0c",
   "metadata": {},
   "source": [
    "# Accuracy"
   ]
  },
  {
   "cell_type": "code",
   "execution_count": 53,
   "id": "b2c0f610",
   "metadata": {},
   "outputs": [
    {
     "data": {
      "image/png": "[encoded data removed]",
      "text/plain": [
       "<Figure size 432x288 with 1 Axes>"
      ]
     },
     "metadata": {},
     "output_type": "display_data"
    }
   ],
   "source": [
    "plt2.barh(y_pos, score, align='center', alpha=0.5,color='blue')\n",
    "plt2.yticks(y_pos, classifier)\n",
    "plt2.xlabel('Accuracy Score')\n",
    "plt2.title('Model Performance')\n",
    "plt2.show()"
   ]
  },
  {
   "cell_type": "markdown",
   "id": "330f7101",
   "metadata": {},
   "source": [
    "# Precision"
   ]
  },
  {
   "cell_type": "code",
   "execution_count": 54,
   "id": "9f5495d2",
   "metadata": {},
   "outputs": [
    {
     "data": {
      "image/png": "[encoded data removed]",
      "text/plain": [
       "<Figure size 432x288 with 1 Axes>"
      ]
     },
     "metadata": {},
     "output_type": "display_data"
    }
   ],
   "source": [
    "plt2.barh(y_pos, score1, align='center', alpha=0.5,color='red')\n",
    "plt2.yticks(y_pos, classifier)\n",
    "plt2.xlabel('Precision Score')\n",
    "plt2.title('Model Performance')\n",
    "plt2.show()"
   ]
  },
  {
   "cell_type": "markdown",
   "id": "65a4d115",
   "metadata": {},
   "source": [
    "# Recall"
   ]
  },
  {
   "cell_type": "code",
   "execution_count": 55,
   "id": "1682f270",
   "metadata": {},
   "outputs": [
    {
     "data": {
      "image/png": "[encoded data removed]",
      "text/plain": [
       "<Figure size 432x288 with 1 Axes>"
      ]
     },
     "metadata": {},
     "output_type": "display_data"
    }
   ],
   "source": [
    "plt2.barh(y_pos, score2, align='center', alpha=0.5,color='orange')\n",
    "plt2.yticks(y_pos, classifier)\n",
    "plt2.xlabel('Recall Score')\n",
    "plt2.title('Model Performance')\n",
    "plt2.show()"
   ]
  },
  {
   "cell_type": "markdown",
   "id": "d2cdcbc5",
   "metadata": {},
   "source": [
    "# F1 Score"
   ]
  },
  {
   "cell_type": "code",
   "execution_count": 56,
   "id": "b8a4acd7",
   "metadata": {},
   "outputs": [
    {
     "data": {
      "image/png": "[encoded data removed]",
      "text/plain": [
       "<Figure size 432x288 with 1 Axes>"
      ]
     },
     "metadata": {},
     "output_type": "display_data"
    }
   ],
   "source": [
    "plt2.barh(y_pos, score3, align='center', alpha=0.5,color='pink')\n",
    "plt2.yticks(y_pos, classifier)\n",
    "plt2.xlabel('F1 Score')\n",
    "plt2.title('Model Performance')\n",
    "plt2.show()"
   ]
  },
  {
   "cell_type": "markdown",
   "id": "1d4fec06",
   "metadata": {},
   "source": [
    "# Saving the model"
   ]
  },
  {
   "cell_type": "code",
   "execution_count": 57,
   "id": "e49a6027",
   "metadata": {},
   "outputs": [],
   "source": [
    "pickle.dump(eclf1,open('model_1.pkl','wb'))"
   ]
  },
  {
   "cell_type": "code",
   "execution_count": null,
   "id": "f51e9a9d",
   "metadata": {},
   "outputs": [],
   "source": []
  }
 ],
 "metadata": {
  "kernelspec": {
   "display_name": "Python 3",
   "language": "python",
   "name": "python3"
  },
  "language_info": {
   "codemirror_mode": {
    "name": "ipython",
    "version": 3
   },
   "file_extension": ".py",
   "mimetype": "text/x-python",
   "name": "python",
   "nbconvert_exporter": "python",
   "pygments_lexer": "ipython3",
   "version": "3.7.4"
  }
 },
 "nbformat": 4,
 "nbformat_minor": 5
}
