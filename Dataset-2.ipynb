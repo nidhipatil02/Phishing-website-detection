{
 "cells": [
  {
   "cell_type": "markdown",
   "id": "2e63bac3",
   "metadata": {},
   "source": [
    "# Importing Libraries"
   ]
  },
  {
   "cell_type": "code",
   "execution_count": 1,
   "id": "9571f796",
   "metadata": {},
   "outputs": [],
   "source": [
    "import warnings\n",
    "warnings.filterwarnings('ignore')"
   ]
  },
  {
   "cell_type": "code",
   "execution_count": 2,
   "id": "79d6bcd0",
   "metadata": {},
   "outputs": [],
   "source": [
    "import numpy as np\n",
    "import pandas as pd\n",
    "import matplotlib.pyplot as plt\n",
    "import matplotlib.pyplot as plt2\n",
    "import pickle\n",
    "%matplotlib inline\n",
    "import seaborn as sns\n",
    "from scipy.io import arff\n",
    "import pandas\n",
    "from sklearn.model_selection import train_test_split\n",
    "from sklearn.model_selection import cross_val_score\n",
    "from sklearn.metrics import classification_report\n",
    "from sklearn.metrics import confusion_matrix\n",
    "from sklearn.metrics import accuracy_score,precision_score,recall_score,f1_score\n",
    "from sklearn.model_selection import train_test_split, cross_val_score, KFold\n",
    "from tensorflow.keras.models import Sequential\n",
    "from tensorflow.keras.layers import Conv1D, MaxPooling1D, Flatten, Dense\n",
    "from sklearn.preprocessing import LabelBinarizer\n",
    "from tensorflow.keras.utils import to_categorical\n",
    "from tensorflow.keras.layers import Dense, LSTM, GRU, MaxPool1D, SimpleRNN, Flatten, Dropout, Conv1D\n",
    "import tensorflow.keras.backend as K"
   ]
  },
  {
   "cell_type": "markdown",
   "id": "5385881a",
   "metadata": {},
   "source": [
    "# Importing Dataset"
   ]
  },
  {
   "cell_type": "code",
   "execution_count": 3,
   "id": "ddae8532",
   "metadata": {},
   "outputs": [],
   "source": [
    "data = pd.read_csv('Dataset/dataset.csv')"
   ]
  },
  {
   "cell_type": "markdown",
   "id": "07f9403e",
   "metadata": {},
   "source": [
    "# EDA"
   ]
  },
  {
   "cell_type": "code",
   "execution_count": 4,
   "id": "a4256b1e",
   "metadata": {},
   "outputs": [
    {
     "data": {
      "text/html": [
       "<div>\n",
       "<style scoped>\n",
       "    .dataframe tbody tr th:only-of-type {\n",
       "        vertical-align: middle;\n",
       "    }\n",
       "\n",
       "    .dataframe tbody tr th {\n",
       "        vertical-align: top;\n",
       "    }\n",
       "\n",
       "    .dataframe thead th {\n",
       "        text-align: right;\n",
       "    }\n",
       "</style>\n",
       "<table border=\"1\" class=\"dataframe\">\n",
       "  <thead>\n",
       "    <tr style=\"text-align: right;\">\n",
       "      <th></th>\n",
       "      <th>having_IPhaving_IP_Address</th>\n",
       "      <th>URLURL_Length</th>\n",
       "      <th>Shortining_Service</th>\n",
       "      <th>having_At_Symbol</th>\n",
       "      <th>double_slash_redirecting</th>\n",
       "      <th>Prefix_Suffix</th>\n",
       "      <th>having_Sub_Domain</th>\n",
       "      <th>SSLfinal_State</th>\n",
       "      <th>Domain_registeration_length</th>\n",
       "      <th>Favicon</th>\n",
       "      <th>...</th>\n",
       "      <th>popUpWidnow</th>\n",
       "      <th>Iframe</th>\n",
       "      <th>age_of_domain</th>\n",
       "      <th>DNSRecord</th>\n",
       "      <th>web_traffic</th>\n",
       "      <th>Page_Rank</th>\n",
       "      <th>Google_Index</th>\n",
       "      <th>Links_pointing_to_page</th>\n",
       "      <th>Statistical_report</th>\n",
       "      <th>Result</th>\n",
       "    </tr>\n",
       "  </thead>\n",
       "  <tbody>\n",
       "    <tr>\n",
       "      <th>0</th>\n",
       "      <td>-1</td>\n",
       "      <td>1</td>\n",
       "      <td>1</td>\n",
       "      <td>1</td>\n",
       "      <td>-1</td>\n",
       "      <td>-1</td>\n",
       "      <td>-1</td>\n",
       "      <td>-1</td>\n",
       "      <td>-1</td>\n",
       "      <td>1</td>\n",
       "      <td>...</td>\n",
       "      <td>1</td>\n",
       "      <td>1</td>\n",
       "      <td>-1</td>\n",
       "      <td>-1</td>\n",
       "      <td>-1</td>\n",
       "      <td>-1</td>\n",
       "      <td>1</td>\n",
       "      <td>1</td>\n",
       "      <td>-1</td>\n",
       "      <td>-1</td>\n",
       "    </tr>\n",
       "    <tr>\n",
       "      <th>1</th>\n",
       "      <td>1</td>\n",
       "      <td>1</td>\n",
       "      <td>1</td>\n",
       "      <td>1</td>\n",
       "      <td>1</td>\n",
       "      <td>-1</td>\n",
       "      <td>0</td>\n",
       "      <td>1</td>\n",
       "      <td>-1</td>\n",
       "      <td>1</td>\n",
       "      <td>...</td>\n",
       "      <td>1</td>\n",
       "      <td>1</td>\n",
       "      <td>-1</td>\n",
       "      <td>-1</td>\n",
       "      <td>0</td>\n",
       "      <td>-1</td>\n",
       "      <td>1</td>\n",
       "      <td>1</td>\n",
       "      <td>1</td>\n",
       "      <td>-1</td>\n",
       "    </tr>\n",
       "    <tr>\n",
       "      <th>2</th>\n",
       "      <td>1</td>\n",
       "      <td>0</td>\n",
       "      <td>1</td>\n",
       "      <td>1</td>\n",
       "      <td>1</td>\n",
       "      <td>-1</td>\n",
       "      <td>-1</td>\n",
       "      <td>-1</td>\n",
       "      <td>-1</td>\n",
       "      <td>1</td>\n",
       "      <td>...</td>\n",
       "      <td>1</td>\n",
       "      <td>1</td>\n",
       "      <td>1</td>\n",
       "      <td>-1</td>\n",
       "      <td>1</td>\n",
       "      <td>-1</td>\n",
       "      <td>1</td>\n",
       "      <td>0</td>\n",
       "      <td>-1</td>\n",
       "      <td>-1</td>\n",
       "    </tr>\n",
       "    <tr>\n",
       "      <th>3</th>\n",
       "      <td>1</td>\n",
       "      <td>0</td>\n",
       "      <td>1</td>\n",
       "      <td>1</td>\n",
       "      <td>1</td>\n",
       "      <td>-1</td>\n",
       "      <td>-1</td>\n",
       "      <td>-1</td>\n",
       "      <td>1</td>\n",
       "      <td>1</td>\n",
       "      <td>...</td>\n",
       "      <td>1</td>\n",
       "      <td>1</td>\n",
       "      <td>-1</td>\n",
       "      <td>-1</td>\n",
       "      <td>1</td>\n",
       "      <td>-1</td>\n",
       "      <td>1</td>\n",
       "      <td>-1</td>\n",
       "      <td>1</td>\n",
       "      <td>-1</td>\n",
       "    </tr>\n",
       "    <tr>\n",
       "      <th>4</th>\n",
       "      <td>1</td>\n",
       "      <td>0</td>\n",
       "      <td>-1</td>\n",
       "      <td>1</td>\n",
       "      <td>1</td>\n",
       "      <td>-1</td>\n",
       "      <td>1</td>\n",
       "      <td>1</td>\n",
       "      <td>-1</td>\n",
       "      <td>1</td>\n",
       "      <td>...</td>\n",
       "      <td>-1</td>\n",
       "      <td>1</td>\n",
       "      <td>-1</td>\n",
       "      <td>-1</td>\n",
       "      <td>0</td>\n",
       "      <td>-1</td>\n",
       "      <td>1</td>\n",
       "      <td>1</td>\n",
       "      <td>1</td>\n",
       "      <td>1</td>\n",
       "    </tr>\n",
       "  </tbody>\n",
       "</table>\n",
       "<p>5 rows × 31 columns</p>\n",
       "</div>"
      ],
      "text/plain": [
       "   having_IPhaving_IP_Address  URLURL_Length  Shortining_Service  \\\n",
       "0                          -1              1                   1   \n",
       "1                           1              1                   1   \n",
       "2                           1              0                   1   \n",
       "3                           1              0                   1   \n",
       "4                           1              0                  -1   \n",
       "\n",
       "   having_At_Symbol  double_slash_redirecting  Prefix_Suffix  \\\n",
       "0                 1                        -1             -1   \n",
       "1                 1                         1             -1   \n",
       "2                 1                         1             -1   \n",
       "3                 1                         1             -1   \n",
       "4                 1                         1             -1   \n",
       "\n",
       "   having_Sub_Domain  SSLfinal_State  Domain_registeration_length  Favicon  \\\n",
       "0                 -1              -1                           -1        1   \n",
       "1                  0               1                           -1        1   \n",
       "2                 -1              -1                           -1        1   \n",
       "3                 -1              -1                            1        1   \n",
       "4                  1               1                           -1        1   \n",
       "\n",
       "   ...  popUpWidnow  Iframe  age_of_domain  DNSRecord  web_traffic  Page_Rank  \\\n",
       "0  ...            1       1             -1         -1           -1         -1   \n",
       "1  ...            1       1             -1         -1            0         -1   \n",
       "2  ...            1       1              1         -1            1         -1   \n",
       "3  ...            1       1             -1         -1            1         -1   \n",
       "4  ...           -1       1             -1         -1            0         -1   \n",
       "\n",
       "   Google_Index  Links_pointing_to_page  Statistical_report  Result  \n",
       "0             1                       1                  -1      -1  \n",
       "1             1                       1                   1      -1  \n",
       "2             1                       0                  -1      -1  \n",
       "3             1                      -1                   1      -1  \n",
       "4             1                       1                   1       1  \n",
       "\n",
       "[5 rows x 31 columns]"
      ]
     },
     "execution_count": 4,
     "metadata": {},
     "output_type": "execute_result"
    }
   ],
   "source": [
    "data = data.drop(['index'], axis =1)\n",
    "data.head()"
   ]
  },
  {
   "cell_type": "code",
   "execution_count": 5,
   "id": "b1c2531a",
   "metadata": {},
   "outputs": [
    {
     "name": "stdout",
     "output_type": "stream",
     "text": [
      "<class 'pandas.core.frame.DataFrame'>\n",
      "RangeIndex: 11055 entries, 0 to 11054\n",
      "Data columns (total 31 columns):\n",
      " #   Column                       Non-Null Count  Dtype\n",
      "---  ------                       --------------  -----\n",
      " 0   having_IPhaving_IP_Address   11055 non-null  int64\n",
      " 1   URLURL_Length                11055 non-null  int64\n",
      " 2   Shortining_Service           11055 non-null  int64\n",
      " 3   having_At_Symbol             11055 non-null  int64\n",
      " 4   double_slash_redirecting     11055 non-null  int64\n",
      " 5   Prefix_Suffix                11055 non-null  int64\n",
      " 6   having_Sub_Domain            11055 non-null  int64\n",
      " 7   SSLfinal_State               11055 non-null  int64\n",
      " 8   Domain_registeration_length  11055 non-null  int64\n",
      " 9   Favicon                      11055 non-null  int64\n",
      " 10  port                         11055 non-null  int64\n",
      " 11  HTTPS_token                  11055 non-null  int64\n",
      " 12  Request_URL                  11055 non-null  int64\n",
      " 13  URL_of_Anchor                11055 non-null  int64\n",
      " 14  Links_in_tags                11055 non-null  int64\n",
      " 15  SFH                          11055 non-null  int64\n",
      " 16  Submitting_to_email          11055 non-null  int64\n",
      " 17  Abnormal_URL                 11055 non-null  int64\n",
      " 18  Redirect                     11055 non-null  int64\n",
      " 19  on_mouseover                 11055 non-null  int64\n",
      " 20  RightClick                   11055 non-null  int64\n",
      " 21  popUpWidnow                  11055 non-null  int64\n",
      " 22  Iframe                       11055 non-null  int64\n",
      " 23  age_of_domain                11055 non-null  int64\n",
      " 24  DNSRecord                    11055 non-null  int64\n",
      " 25  web_traffic                  11055 non-null  int64\n",
      " 26  Page_Rank                    11055 non-null  int64\n",
      " 27  Google_Index                 11055 non-null  int64\n",
      " 28  Links_pointing_to_page       11055 non-null  int64\n",
      " 29  Statistical_report           11055 non-null  int64\n",
      " 30  Result                       11055 non-null  int64\n",
      "dtypes: int64(31)\n",
      "memory usage: 2.6 MB\n"
     ]
    }
   ],
   "source": [
    "data.info()"
   ]
  },
  {
   "cell_type": "code",
   "execution_count": 6,
   "id": "d351aebb",
   "metadata": {},
   "outputs": [],
   "source": [
    "data = data.applymap(lambda x: np.nan if x == '?' else x)"
   ]
  },
  {
   "cell_type": "code",
   "execution_count": 7,
   "id": "8af186f6",
   "metadata": {},
   "outputs": [
    {
     "data": {
      "text/plain": [
       "having_IPhaving_IP_Address     0\n",
       "URLURL_Length                  0\n",
       "Shortining_Service             0\n",
       "having_At_Symbol               0\n",
       "double_slash_redirecting       0\n",
       "Prefix_Suffix                  0\n",
       "having_Sub_Domain              0\n",
       "SSLfinal_State                 0\n",
       "Domain_registeration_length    0\n",
       "Favicon                        0\n",
       "port                           0\n",
       "HTTPS_token                    0\n",
       "Request_URL                    0\n",
       "URL_of_Anchor                  0\n",
       "Links_in_tags                  0\n",
       "SFH                            0\n",
       "Submitting_to_email            0\n",
       "Abnormal_URL                   0\n",
       "Redirect                       0\n",
       "on_mouseover                   0\n",
       "RightClick                     0\n",
       "popUpWidnow                    0\n",
       "Iframe                         0\n",
       "age_of_domain                  0\n",
       "DNSRecord                      0\n",
       "web_traffic                    0\n",
       "Page_Rank                      0\n",
       "Google_Index                   0\n",
       "Links_pointing_to_page         0\n",
       "Statistical_report             0\n",
       "Result                         0\n",
       "dtype: int64"
      ]
     },
     "execution_count": 7,
     "metadata": {},
     "output_type": "execute_result"
    }
   ],
   "source": [
    "data.isnull().sum()"
   ]
  },
  {
   "cell_type": "code",
   "execution_count": 8,
   "id": "bee9cbc5",
   "metadata": {},
   "outputs": [
    {
     "data": {
      "text/html": [
       "<div>\n",
       "<style scoped>\n",
       "    .dataframe tbody tr th:only-of-type {\n",
       "        vertical-align: middle;\n",
       "    }\n",
       "\n",
       "    .dataframe tbody tr th {\n",
       "        vertical-align: top;\n",
       "    }\n",
       "\n",
       "    .dataframe thead th {\n",
       "        text-align: right;\n",
       "    }\n",
       "</style>\n",
       "<table border=\"1\" class=\"dataframe\">\n",
       "  <thead>\n",
       "    <tr style=\"text-align: right;\">\n",
       "      <th></th>\n",
       "      <th>having_IPhaving_IP_Address</th>\n",
       "      <th>URLURL_Length</th>\n",
       "      <th>Shortining_Service</th>\n",
       "      <th>having_At_Symbol</th>\n",
       "      <th>double_slash_redirecting</th>\n",
       "      <th>Prefix_Suffix</th>\n",
       "      <th>having_Sub_Domain</th>\n",
       "      <th>SSLfinal_State</th>\n",
       "      <th>Domain_registeration_length</th>\n",
       "      <th>Favicon</th>\n",
       "      <th>...</th>\n",
       "      <th>popUpWidnow</th>\n",
       "      <th>Iframe</th>\n",
       "      <th>age_of_domain</th>\n",
       "      <th>DNSRecord</th>\n",
       "      <th>web_traffic</th>\n",
       "      <th>Page_Rank</th>\n",
       "      <th>Google_Index</th>\n",
       "      <th>Links_pointing_to_page</th>\n",
       "      <th>Statistical_report</th>\n",
       "      <th>Result</th>\n",
       "    </tr>\n",
       "  </thead>\n",
       "  <tbody>\n",
       "    <tr>\n",
       "      <th>count</th>\n",
       "      <td>11055.000000</td>\n",
       "      <td>11055.000000</td>\n",
       "      <td>11055.000000</td>\n",
       "      <td>11055.000000</td>\n",
       "      <td>11055.000000</td>\n",
       "      <td>11055.000000</td>\n",
       "      <td>11055.000000</td>\n",
       "      <td>11055.000000</td>\n",
       "      <td>11055.000000</td>\n",
       "      <td>11055.000000</td>\n",
       "      <td>...</td>\n",
       "      <td>11055.000000</td>\n",
       "      <td>11055.000000</td>\n",
       "      <td>11055.000000</td>\n",
       "      <td>11055.000000</td>\n",
       "      <td>11055.000000</td>\n",
       "      <td>11055.000000</td>\n",
       "      <td>11055.000000</td>\n",
       "      <td>11055.000000</td>\n",
       "      <td>11055.000000</td>\n",
       "      <td>11055.000000</td>\n",
       "    </tr>\n",
       "    <tr>\n",
       "      <th>mean</th>\n",
       "      <td>0.313795</td>\n",
       "      <td>-0.633198</td>\n",
       "      <td>0.738761</td>\n",
       "      <td>0.700588</td>\n",
       "      <td>0.741474</td>\n",
       "      <td>-0.734962</td>\n",
       "      <td>0.063953</td>\n",
       "      <td>0.250927</td>\n",
       "      <td>-0.336771</td>\n",
       "      <td>0.628584</td>\n",
       "      <td>...</td>\n",
       "      <td>0.613388</td>\n",
       "      <td>0.816915</td>\n",
       "      <td>0.061239</td>\n",
       "      <td>0.377114</td>\n",
       "      <td>0.287291</td>\n",
       "      <td>-0.483673</td>\n",
       "      <td>0.721574</td>\n",
       "      <td>0.344007</td>\n",
       "      <td>0.719584</td>\n",
       "      <td>0.113885</td>\n",
       "    </tr>\n",
       "    <tr>\n",
       "      <th>std</th>\n",
       "      <td>0.949534</td>\n",
       "      <td>0.766095</td>\n",
       "      <td>0.673998</td>\n",
       "      <td>0.713598</td>\n",
       "      <td>0.671011</td>\n",
       "      <td>0.678139</td>\n",
       "      <td>0.817518</td>\n",
       "      <td>0.911892</td>\n",
       "      <td>0.941629</td>\n",
       "      <td>0.777777</td>\n",
       "      <td>...</td>\n",
       "      <td>0.789818</td>\n",
       "      <td>0.576784</td>\n",
       "      <td>0.998168</td>\n",
       "      <td>0.926209</td>\n",
       "      <td>0.827733</td>\n",
       "      <td>0.875289</td>\n",
       "      <td>0.692369</td>\n",
       "      <td>0.569944</td>\n",
       "      <td>0.694437</td>\n",
       "      <td>0.993539</td>\n",
       "    </tr>\n",
       "    <tr>\n",
       "      <th>min</th>\n",
       "      <td>-1.000000</td>\n",
       "      <td>-1.000000</td>\n",
       "      <td>-1.000000</td>\n",
       "      <td>-1.000000</td>\n",
       "      <td>-1.000000</td>\n",
       "      <td>-1.000000</td>\n",
       "      <td>-1.000000</td>\n",
       "      <td>-1.000000</td>\n",
       "      <td>-1.000000</td>\n",
       "      <td>-1.000000</td>\n",
       "      <td>...</td>\n",
       "      <td>-1.000000</td>\n",
       "      <td>-1.000000</td>\n",
       "      <td>-1.000000</td>\n",
       "      <td>-1.000000</td>\n",
       "      <td>-1.000000</td>\n",
       "      <td>-1.000000</td>\n",
       "      <td>-1.000000</td>\n",
       "      <td>-1.000000</td>\n",
       "      <td>-1.000000</td>\n",
       "      <td>-1.000000</td>\n",
       "    </tr>\n",
       "    <tr>\n",
       "      <th>25%</th>\n",
       "      <td>-1.000000</td>\n",
       "      <td>-1.000000</td>\n",
       "      <td>1.000000</td>\n",
       "      <td>1.000000</td>\n",
       "      <td>1.000000</td>\n",
       "      <td>-1.000000</td>\n",
       "      <td>-1.000000</td>\n",
       "      <td>-1.000000</td>\n",
       "      <td>-1.000000</td>\n",
       "      <td>1.000000</td>\n",
       "      <td>...</td>\n",
       "      <td>1.000000</td>\n",
       "      <td>1.000000</td>\n",
       "      <td>-1.000000</td>\n",
       "      <td>-1.000000</td>\n",
       "      <td>0.000000</td>\n",
       "      <td>-1.000000</td>\n",
       "      <td>1.000000</td>\n",
       "      <td>0.000000</td>\n",
       "      <td>1.000000</td>\n",
       "      <td>-1.000000</td>\n",
       "    </tr>\n",
       "    <tr>\n",
       "      <th>50%</th>\n",
       "      <td>1.000000</td>\n",
       "      <td>-1.000000</td>\n",
       "      <td>1.000000</td>\n",
       "      <td>1.000000</td>\n",
       "      <td>1.000000</td>\n",
       "      <td>-1.000000</td>\n",
       "      <td>0.000000</td>\n",
       "      <td>1.000000</td>\n",
       "      <td>-1.000000</td>\n",
       "      <td>1.000000</td>\n",
       "      <td>...</td>\n",
       "      <td>1.000000</td>\n",
       "      <td>1.000000</td>\n",
       "      <td>1.000000</td>\n",
       "      <td>1.000000</td>\n",
       "      <td>1.000000</td>\n",
       "      <td>-1.000000</td>\n",
       "      <td>1.000000</td>\n",
       "      <td>0.000000</td>\n",
       "      <td>1.000000</td>\n",
       "      <td>1.000000</td>\n",
       "    </tr>\n",
       "    <tr>\n",
       "      <th>75%</th>\n",
       "      <td>1.000000</td>\n",
       "      <td>-1.000000</td>\n",
       "      <td>1.000000</td>\n",
       "      <td>1.000000</td>\n",
       "      <td>1.000000</td>\n",
       "      <td>-1.000000</td>\n",
       "      <td>1.000000</td>\n",
       "      <td>1.000000</td>\n",
       "      <td>1.000000</td>\n",
       "      <td>1.000000</td>\n",
       "      <td>...</td>\n",
       "      <td>1.000000</td>\n",
       "      <td>1.000000</td>\n",
       "      <td>1.000000</td>\n",
       "      <td>1.000000</td>\n",
       "      <td>1.000000</td>\n",
       "      <td>1.000000</td>\n",
       "      <td>1.000000</td>\n",
       "      <td>1.000000</td>\n",
       "      <td>1.000000</td>\n",
       "      <td>1.000000</td>\n",
       "    </tr>\n",
       "    <tr>\n",
       "      <th>max</th>\n",
       "      <td>1.000000</td>\n",
       "      <td>1.000000</td>\n",
       "      <td>1.000000</td>\n",
       "      <td>1.000000</td>\n",
       "      <td>1.000000</td>\n",
       "      <td>1.000000</td>\n",
       "      <td>1.000000</td>\n",
       "      <td>1.000000</td>\n",
       "      <td>1.000000</td>\n",
       "      <td>1.000000</td>\n",
       "      <td>...</td>\n",
       "      <td>1.000000</td>\n",
       "      <td>1.000000</td>\n",
       "      <td>1.000000</td>\n",
       "      <td>1.000000</td>\n",
       "      <td>1.000000</td>\n",
       "      <td>1.000000</td>\n",
       "      <td>1.000000</td>\n",
       "      <td>1.000000</td>\n",
       "      <td>1.000000</td>\n",
       "      <td>1.000000</td>\n",
       "    </tr>\n",
       "  </tbody>\n",
       "</table>\n",
       "<p>8 rows × 31 columns</p>\n",
       "</div>"
      ],
      "text/plain": [
       "       having_IPhaving_IP_Address  URLURL_Length  Shortining_Service  \\\n",
       "count                11055.000000   11055.000000        11055.000000   \n",
       "mean                     0.313795      -0.633198            0.738761   \n",
       "std                      0.949534       0.766095            0.673998   \n",
       "min                     -1.000000      -1.000000           -1.000000   \n",
       "25%                     -1.000000      -1.000000            1.000000   \n",
       "50%                      1.000000      -1.000000            1.000000   \n",
       "75%                      1.000000      -1.000000            1.000000   \n",
       "max                      1.000000       1.000000            1.000000   \n",
       "\n",
       "       having_At_Symbol  double_slash_redirecting  Prefix_Suffix  \\\n",
       "count      11055.000000              11055.000000   11055.000000   \n",
       "mean           0.700588                  0.741474      -0.734962   \n",
       "std            0.713598                  0.671011       0.678139   \n",
       "min           -1.000000                 -1.000000      -1.000000   \n",
       "25%            1.000000                  1.000000      -1.000000   \n",
       "50%            1.000000                  1.000000      -1.000000   \n",
       "75%            1.000000                  1.000000      -1.000000   \n",
       "max            1.000000                  1.000000       1.000000   \n",
       "\n",
       "       having_Sub_Domain  SSLfinal_State  Domain_registeration_length  \\\n",
       "count       11055.000000    11055.000000                 11055.000000   \n",
       "mean            0.063953        0.250927                    -0.336771   \n",
       "std             0.817518        0.911892                     0.941629   \n",
       "min            -1.000000       -1.000000                    -1.000000   \n",
       "25%            -1.000000       -1.000000                    -1.000000   \n",
       "50%             0.000000        1.000000                    -1.000000   \n",
       "75%             1.000000        1.000000                     1.000000   \n",
       "max             1.000000        1.000000                     1.000000   \n",
       "\n",
       "            Favicon  ...   popUpWidnow        Iframe  age_of_domain  \\\n",
       "count  11055.000000  ...  11055.000000  11055.000000   11055.000000   \n",
       "mean       0.628584  ...      0.613388      0.816915       0.061239   \n",
       "std        0.777777  ...      0.789818      0.576784       0.998168   \n",
       "min       -1.000000  ...     -1.000000     -1.000000      -1.000000   \n",
       "25%        1.000000  ...      1.000000      1.000000      -1.000000   \n",
       "50%        1.000000  ...      1.000000      1.000000       1.000000   \n",
       "75%        1.000000  ...      1.000000      1.000000       1.000000   \n",
       "max        1.000000  ...      1.000000      1.000000       1.000000   \n",
       "\n",
       "          DNSRecord   web_traffic     Page_Rank  Google_Index  \\\n",
       "count  11055.000000  11055.000000  11055.000000  11055.000000   \n",
       "mean       0.377114      0.287291     -0.483673      0.721574   \n",
       "std        0.926209      0.827733      0.875289      0.692369   \n",
       "min       -1.000000     -1.000000     -1.000000     -1.000000   \n",
       "25%       -1.000000      0.000000     -1.000000      1.000000   \n",
       "50%        1.000000      1.000000     -1.000000      1.000000   \n",
       "75%        1.000000      1.000000      1.000000      1.000000   \n",
       "max        1.000000      1.000000      1.000000      1.000000   \n",
       "\n",
       "       Links_pointing_to_page  Statistical_report        Result  \n",
       "count            11055.000000        11055.000000  11055.000000  \n",
       "mean                 0.344007            0.719584      0.113885  \n",
       "std                  0.569944            0.694437      0.993539  \n",
       "min                 -1.000000           -1.000000     -1.000000  \n",
       "25%                  0.000000            1.000000     -1.000000  \n",
       "50%                  0.000000            1.000000      1.000000  \n",
       "75%                  1.000000            1.000000      1.000000  \n",
       "max                  1.000000            1.000000      1.000000  \n",
       "\n",
       "[8 rows x 31 columns]"
      ]
     },
     "execution_count": 8,
     "metadata": {},
     "output_type": "execute_result"
    }
   ],
   "source": [
    "data.describe()"
   ]
  },
  {
   "cell_type": "markdown",
   "id": "d9df048d",
   "metadata": {},
   "source": [
    "# Data Visualization"
   ]
  },
  {
   "cell_type": "code",
   "execution_count": 9,
   "id": "8bfba11a",
   "metadata": {},
   "outputs": [
    {
     "data": {
      "text/plain": [
       "<matplotlib.axes._subplots.AxesSubplot at 0x1e461ac9b88>"
      ]
     },
     "execution_count": 9,
     "metadata": {},
     "output_type": "execute_result"
    },
    {
     "data": {
      "image/png": "[encoded data removed]",
      "text/plain": [
       "<Figure size 432x288 with 1 Axes>"
      ]
     },
     "metadata": {},
     "output_type": "display_data"
    }
   ],
   "source": [
    "df = data\n",
    "sns.set_style('whitegrid')\n",
    "sns.countplot(x='having_At_Symbol',data=df)"
   ]
  },
  {
   "cell_type": "code",
   "execution_count": 10,
   "id": "f6697b4e",
   "metadata": {},
   "outputs": [
    {
     "data": {
      "text/plain": [
       "<matplotlib.axes._subplots.AxesSubplot at 0x1e50030a4c8>"
      ]
     },
     "execution_count": 10,
     "metadata": {},
     "output_type": "execute_result"
    },
    {
     "data": {
      "image/png": "[encoded data removed]",
      "text/plain": [
       "<Figure size 432x288 with 1 Axes>"
      ]
     },
     "metadata": {},
     "output_type": "display_data"
    }
   ],
   "source": [
    "sns.countplot(x='having_IPhaving_IP_Address',data=df)"
   ]
  },
  {
   "cell_type": "code",
   "execution_count": 11,
   "id": "a59f9c1f",
   "metadata": {},
   "outputs": [
    {
     "data": {
      "text/plain": [
       "<matplotlib.axes._subplots.AxesSubplot at 0x1e50035c748>"
      ]
     },
     "execution_count": 11,
     "metadata": {},
     "output_type": "execute_result"
    },
    {
     "data": {
      "image/png": "[encoded data removed]",
      "text/plain": [
       "<Figure size 432x288 with 1 Axes>"
      ]
     },
     "metadata": {},
     "output_type": "display_data"
    }
   ],
   "source": [
    "sns.countplot(x='Shortining_Service', data=df)"
   ]
  },
  {
   "cell_type": "code",
   "execution_count": 12,
   "id": "dc43f7b4",
   "metadata": {},
   "outputs": [
    {
     "data": {
      "text/plain": [
       "<matplotlib.axes._subplots.AxesSubplot at 0x1e501658488>"
      ]
     },
     "execution_count": 12,
     "metadata": {},
     "output_type": "execute_result"
    },
    {
     "data": {
      "image/png": "[encoded data removed]",
      "text/plain": [
       "<Figure size 432x288 with 1 Axes>"
      ]
     },
     "metadata": {},
     "output_type": "display_data"
    }
   ],
   "source": [
    "sns.countplot(x='Result', data=df)"
   ]
  },
  {
   "cell_type": "markdown",
   "id": "d9b7467d",
   "metadata": {},
   "source": [
    "# Model Building"
   ]
  },
  {
   "cell_type": "code",
   "execution_count": 13,
   "id": "c5bc3136",
   "metadata": {},
   "outputs": [],
   "source": [
    "X = data.drop([\"Result\"],axis =1)\n",
    "y = data[\"Result\"]"
   ]
  },
  {
   "cell_type": "code",
   "execution_count": 14,
   "id": "e294eace",
   "metadata": {},
   "outputs": [],
   "source": [
    "y_data = LabelBinarizer().fit_transform(y)\n",
    "\n",
    "X=np.array(X)\n",
    "y=np.array(y)\n",
    "\n",
    "if y.dtype == np.dtype('O'):\n",
    "    y = y.astype(float)\n",
    "    \n",
    "if X.dtype == np.dtype('O'):\n",
    "    X = X.astype(float)"
   ]
  },
  {
   "cell_type": "markdown",
   "id": "2ed9ffac",
   "metadata": {},
   "source": [
    "# CNN"
   ]
  },
  {
   "cell_type": "code",
   "execution_count": 15,
   "id": "92269a7f",
   "metadata": {},
   "outputs": [],
   "source": [
    "def recall_m(y_true, y_pred):\n",
    "    true_positives = K.sum(K.round(K.clip(y_true * y_pred, 0, 1)))\n",
    "    possible_positives = K.sum(K.round(K.clip(y_true, 0, 1)))\n",
    "    recall = true_positives / (possible_positives + K.epsilon())\n",
    "    return recall\n",
    "\n",
    "def precision_m(y_true, y_pred):\n",
    "    true_positives = K.sum(K.round(K.clip(y_true * y_pred, 0, 1)))\n",
    "    predicted_positives = K.sum(K.round(K.clip(y_pred, 0, 1)))\n",
    "    precision = true_positives / (predicted_positives + K.epsilon())\n",
    "    return precision\n",
    "\n",
    "def f1_score(y_true, y_pred):\n",
    "    precision = precision_m(y_true, y_pred)\n",
    "    recall = recall_m(y_true, y_pred)\n",
    "    \n",
    "    return 2*((precision*recall)/(precision+recall+K.epsilon()))"
   ]
  },
  {
   "cell_type": "code",
   "execution_count": 16,
   "id": "ef8df97d",
   "metadata": {},
   "outputs": [
    {
     "name": "stdout",
     "output_type": "stream",
     "text": [
      "(8844, 30) \n",
      " (2211, 30)\n"
     ]
    }
   ],
   "source": [
    "X_train, X_test, y_train, y_test = train_test_split(X,y, test_size=0.20, random_state=42)\n",
    "print(X_train.shape,'\\n',X_test.shape)"
   ]
  },
  {
   "cell_type": "code",
   "execution_count": 17,
   "id": "9b6ad56f",
   "metadata": {},
   "outputs": [
    {
     "data": {
      "text/plain": [
       "(2211, 30, 1)"
      ]
     },
     "execution_count": 17,
     "metadata": {},
     "output_type": "execute_result"
    }
   ],
   "source": [
    "X_train, X_test, y_train, y_test = train_test_split(X,y, test_size=0.20, random_state=42)\n",
    "X_train = np.reshape(X_train, (X_train.shape[0], X_train.shape[1], 1))\n",
    "X_train.shape\n",
    "X_test = np.reshape(X_test, (X_test.shape[0], X_test.shape[1], 1))\n",
    "X_test.shape"
   ]
  },
  {
   "cell_type": "code",
   "execution_count": 18,
   "id": "e927ba52",
   "metadata": {},
   "outputs": [],
   "source": [
    "y_train=to_categorical(y_train)\n",
    "y_test=to_categorical(y_test)"
   ]
  },
  {
   "cell_type": "code",
   "execution_count": 19,
   "id": "18e50311",
   "metadata": {},
   "outputs": [
    {
     "data": {
      "text/plain": [
       "array([[0, 1],\n",
       "       [0, 1],\n",
       "       [0, 1],\n",
       "       ...,\n",
       "       [0, 1],\n",
       "       [0, 1],\n",
       "       [0, 1]])"
      ]
     },
     "execution_count": 19,
     "metadata": {},
     "output_type": "execute_result"
    }
   ],
   "source": [
    "y_train = LabelBinarizer().fit_transform(y_train)\n",
    "y_train\n",
    "y_test = LabelBinarizer().fit_transform(y_test)\n",
    "y_test"
   ]
  },
  {
   "cell_type": "code",
   "execution_count": 20,
   "id": "7aa28360",
   "metadata": {},
   "outputs": [],
   "source": [
    "model = Sequential() \n",
    "model.add(Conv1D(32, 3, padding=\"same\",input_shape = (X_train.shape[1], 1), activation='relu'))\n",
    "model.add(MaxPool1D(pool_size=(4)))  \n",
    "model.add(Dropout(0.2))\n",
    "model.add(Conv1D(32, 3, padding=\"same\", activation='relu'))\n",
    "model.add(MaxPool1D(pool_size=(4)))  \n",
    "model.add(Dropout(0.2))\n",
    "model.add(Flatten())\n",
    "model.add(Dense(units=50))\n",
    "model.add(Dense(units=2,activation='softmax'))"
   ]
  },
  {
   "cell_type": "code",
   "execution_count": 21,
   "id": "c9bdcb3f",
   "metadata": {},
   "outputs": [
    {
     "name": "stdout",
     "output_type": "stream",
     "text": [
      "Model: \"sequential\"\n",
      "_________________________________________________________________\n",
      "Layer (type)                 Output Shape              Param #   \n",
      "=================================================================\n",
      "conv1d (Conv1D)              (None, 30, 32)            128       \n",
      "_________________________________________________________________\n",
      "max_pooling1d (MaxPooling1D) (None, 7, 32)             0         \n",
      "_________________________________________________________________\n",
      "dropout (Dropout)            (None, 7, 32)             0         \n",
      "_________________________________________________________________\n",
      "conv1d_1 (Conv1D)            (None, 7, 32)             3104      \n",
      "_________________________________________________________________\n",
      "max_pooling1d_1 (MaxPooling1 (None, 1, 32)             0         \n",
      "_________________________________________________________________\n",
      "dropout_1 (Dropout)          (None, 1, 32)             0         \n",
      "_________________________________________________________________\n",
      "flatten (Flatten)            (None, 32)                0         \n",
      "_________________________________________________________________\n",
      "dense (Dense)                (None, 50)                1650      \n",
      "_________________________________________________________________\n",
      "dense_1 (Dense)              (None, 2)                 102       \n",
      "=================================================================\n",
      "Total params: 4,984\n",
      "Trainable params: 4,984\n",
      "Non-trainable params: 0\n",
      "_________________________________________________________________\n"
     ]
    }
   ],
   "source": [
    "model.compile(loss='binary_crossentropy', optimizer='adam', metrics=['accuracy', f1_score, recall_m, precision_m])\n",
    "model.summary()"
   ]
  },
  {
   "cell_type": "code",
   "execution_count": 22,
   "id": "2afa4514",
   "metadata": {},
   "outputs": [
    {
     "name": "stdout",
     "output_type": "stream",
     "text": [
      "Epoch 1/10\n",
      "111/111 [==============================] - 38s 11ms/step - loss: 0.0624 - accuracy: 0.9907 - f1_score: 0.9907 - recall_m: 0.9907 - precision_m: 0.9907 - val_loss: 3.9186e-04 - val_accuracy: 1.0000 - val_f1_score: 1.0000 - val_recall_m: 1.0000 - val_precision_m: 1.0000\n",
      "Epoch 2/10\n",
      "111/111 [==============================] - 1s 5ms/step - loss: 3.3352e-04 - accuracy: 1.0000 - f1_score: 1.0000 - recall_m: 1.0000 - precision_m: 1.0000 - val_loss: 1.0644e-04 - val_accuracy: 1.0000 - val_f1_score: 1.0000 - val_recall_m: 1.0000 - val_precision_m: 1.0000\n",
      "Epoch 3/10\n",
      "111/111 [==============================] - 1s 5ms/step - loss: 1.4079e-04 - accuracy: 1.0000 - f1_score: 1.0000 - recall_m: 1.0000 - precision_m: 1.0000 - val_loss: 4.5734e-05 - val_accuracy: 1.0000 - val_f1_score: 1.0000 - val_recall_m: 1.0000 - val_precision_m: 1.0000\n",
      "Epoch 4/10\n",
      "111/111 [==============================] - 1s 5ms/step - loss: 8.3596e-05 - accuracy: 1.0000 - f1_score: 1.0000 - recall_m: 1.0000 - precision_m: 1.0000 - val_loss: 2.3579e-05 - val_accuracy: 1.0000 - val_f1_score: 1.0000 - val_recall_m: 1.0000 - val_precision_m: 1.0000\n",
      "Epoch 5/10\n",
      "111/111 [==============================] - 1s 5ms/step - loss: 5.1693e-05 - accuracy: 1.0000 - f1_score: 1.0000 - recall_m: 1.0000 - precision_m: 1.0000 - val_loss: 1.3936e-05 - val_accuracy: 1.0000 - val_f1_score: 1.0000 - val_recall_m: 1.0000 - val_precision_m: 1.0000\n",
      "Epoch 6/10\n",
      "111/111 [==============================] - 1s 5ms/step - loss: 3.6570e-05 - accuracy: 1.0000 - f1_score: 1.0000 - recall_m: 1.0000 - precision_m: 1.0000 - val_loss: 9.1154e-06 - val_accuracy: 1.0000 - val_f1_score: 1.0000 - val_recall_m: 1.0000 - val_precision_m: 1.0000\n",
      "Epoch 7/10\n",
      "111/111 [==============================] - 1s 5ms/step - loss: 2.9361e-05 - accuracy: 1.0000 - f1_score: 1.0000 - recall_m: 1.0000 - precision_m: 1.0000 - val_loss: 6.0918e-06 - val_accuracy: 1.0000 - val_f1_score: 1.0000 - val_recall_m: 1.0000 - val_precision_m: 1.0000\n",
      "Epoch 8/10\n",
      "111/111 [==============================] - 1s 5ms/step - loss: 2.2734e-05 - accuracy: 1.0000 - f1_score: 1.0000 - recall_m: 1.0000 - precision_m: 1.0000 - val_loss: 4.3550e-06 - val_accuracy: 1.0000 - val_f1_score: 1.0000 - val_recall_m: 1.0000 - val_precision_m: 1.0000\n",
      "Epoch 9/10\n",
      "111/111 [==============================] - 1s 5ms/step - loss: 1.7932e-05 - accuracy: 1.0000 - f1_score: 1.0000 - recall_m: 1.0000 - precision_m: 1.0000 - val_loss: 3.2206e-06 - val_accuracy: 1.0000 - val_f1_score: 1.0000 - val_recall_m: 1.0000 - val_precision_m: 1.0000\n",
      "Epoch 10/10\n",
      "111/111 [==============================] - 1s 5ms/step - loss: 1.6935e-05 - accuracy: 1.0000 - f1_score: 1.0000 - recall_m: 1.0000 - precision_m: 1.0000 - val_loss: 2.3942e-06 - val_accuracy: 1.0000 - val_f1_score: 1.0000 - val_recall_m: 1.0000 - val_precision_m: 1.0000\n"
     ]
    }
   ],
   "source": [
    "history = model.fit(X_train, y_train, epochs=10, batch_size=64,validation_split=0.2)"
   ]
  },
  {
   "cell_type": "code",
   "execution_count": 23,
   "id": "51e85502",
   "metadata": {},
   "outputs": [],
   "source": [
    "from sklearn.metrics import accuracy_score, precision_score, recall_score, f1_score\n",
    "y_pred = model.predict(X_test)\n",
    "\n",
    "\n",
    "y_pred_labels = np.argmax(y_pred, axis=1)\n",
    "y_test_labels = np.argmax(y_test, axis=1)\n",
    "\n",
    "accuracy = accuracy_score(y_test_labels, y_pred_labels)\n",
    "precision = precision_score(y_test_labels, y_pred_labels)\n",
    "recall = recall_score(y_test_labels, y_pred_labels)\n",
    "f1 = f1_score(y_test_labels, y_pred_labels)"
   ]
  },
  {
   "cell_type": "code",
   "execution_count": 24,
   "id": "840a6f10",
   "metadata": {},
   "outputs": [
    {
     "data": {
      "image/png": "[encoded data removed]",
      "text/plain": [
       "<Figure size 432x288 with 1 Axes>"
      ]
     },
     "metadata": {},
     "output_type": "display_data"
    },
    {
     "data": {
      "image/png": "[encoded data removed]",
      "text/plain": [
       "<Figure size 432x288 with 1 Axes>"
      ]
     },
     "metadata": {},
     "output_type": "display_data"
    }
   ],
   "source": [
    "plt.plot(history.history['loss'])\n",
    "plt.plot(history.history['val_loss'])\n",
    "plt.title('Model loss')\n",
    "plt.ylabel('Loss')\n",
    "plt.xlabel('Epoch')\n",
    "plt.legend(['Train', 'Validation'], loc='upper left')\n",
    "plt.show()\n",
    "\n",
    "\n",
    "# Plot training & validation accuracy values\n",
    "plt.plot(history.history['accuracy'])\n",
    "plt.plot(history.history['val_accuracy'])\n",
    "plt.title('Model accuracy')\n",
    "plt.ylabel('Accuracy')\n",
    "plt.xlabel('Epoch')\n",
    "plt.legend(['Train', 'Validation'], loc='upper left')\n",
    "plt.show()"
   ]
  },
  {
   "cell_type": "markdown",
   "id": "9aaa64d4",
   "metadata": {},
   "source": [
    "# RNN"
   ]
  },
  {
   "cell_type": "code",
   "execution_count": 25,
   "id": "d4036aa4",
   "metadata": {},
   "outputs": [],
   "source": [
    "def recall_m(y_true, y_pred):\n",
    "    true_positives = K.sum(K.round(K.clip(y_true * y_pred, 0, 1)))\n",
    "    possible_positives = K.sum(K.round(K.clip(y_true, 0, 1)))\n",
    "    recall = true_positives / (possible_positives + K.epsilon())\n",
    "    return recall\n",
    "\n",
    "def precision_m(y_true, y_pred):\n",
    "    true_positives = K.sum(K.round(K.clip(y_true * y_pred, 0, 1)))\n",
    "    predicted_positives = K.sum(K.round(K.clip(y_pred, 0, 1)))\n",
    "    precision = true_positives / (predicted_positives + K.epsilon())\n",
    "    return precision\n",
    "\n",
    "def f1_score(y_true, y_pred):\n",
    "    precision = precision_m(y_true, y_pred)\n",
    "    recall = recall_m(y_true, y_pred)\n",
    "    \n",
    "    return 2*((precision*recall)/(precision+recall+K.epsilon()))"
   ]
  },
  {
   "cell_type": "code",
   "execution_count": 26,
   "id": "8a9dcbee",
   "metadata": {},
   "outputs": [
    {
     "name": "stdout",
     "output_type": "stream",
     "text": [
      "(8844, 30) \n",
      " (2211, 30)\n"
     ]
    }
   ],
   "source": [
    "X_train, X_test, y_train, y_test = train_test_split(X,y, test_size=0.20, random_state=42)\n",
    "print(X_train.shape,'\\n',X_test.shape)\n",
    "\n",
    "\n",
    "X_train = np.reshape(X_train, ( X_train.shape[0], 1 , X_train.shape[1] ))\n",
    "X_test = np.reshape(X_test, ( X_test.shape[0], 1,  X_test.shape[1] ))\n",
    "\n",
    "\n",
    "\n",
    "y_train=to_categorical(y_train)\n",
    "y_test=to_categorical(y_test)"
   ]
  },
  {
   "cell_type": "code",
   "execution_count": 27,
   "id": "9441e98b",
   "metadata": {},
   "outputs": [],
   "source": [
    "model = Sequential() \n",
    "model.add(SimpleRNN(64,return_sequences=True,input_shape = (1, X_train.shape[2])))\n",
    "model.add(Dropout(0.2))\n",
    "model.add(SimpleRNN(64,return_sequences=True))\n",
    "model.add(Dropout(0.2))\n",
    "model.add(SimpleRNN(64,return_sequences=True))\n",
    "model.add(Flatten())\n",
    "model.add(Dense(units=50))\n",
    "model.add(Dense(units=2,activation='softmax'))"
   ]
  },
  {
   "cell_type": "code",
   "execution_count": 28,
   "id": "6b03bb68",
   "metadata": {},
   "outputs": [
    {
     "name": "stdout",
     "output_type": "stream",
     "text": [
      "Model: \"sequential_1\"\n",
      "_________________________________________________________________\n",
      "Layer (type)                 Output Shape              Param #   \n",
      "=================================================================\n",
      "simple_rnn (SimpleRNN)       (None, 1, 64)             6080      \n",
      "_________________________________________________________________\n",
      "dropout_2 (Dropout)          (None, 1, 64)             0         \n",
      "_________________________________________________________________\n",
      "simple_rnn_1 (SimpleRNN)     (None, 1, 64)             8256      \n",
      "_________________________________________________________________\n",
      "dropout_3 (Dropout)          (None, 1, 64)             0         \n",
      "_________________________________________________________________\n",
      "simple_rnn_2 (SimpleRNN)     (None, 1, 64)             8256      \n",
      "_________________________________________________________________\n",
      "flatten_1 (Flatten)          (None, 64)                0         \n",
      "_________________________________________________________________\n",
      "dense_2 (Dense)              (None, 50)                3250      \n",
      "_________________________________________________________________\n",
      "dense_3 (Dense)              (None, 2)                 102       \n",
      "=================================================================\n",
      "Total params: 25,944\n",
      "Trainable params: 25,944\n",
      "Non-trainable params: 0\n",
      "_________________________________________________________________\n"
     ]
    }
   ],
   "source": [
    "model.compile(loss='categorical_crossentropy', optimizer='adam', metrics=['accuracy', f1_score, recall_m, precision_m])\n",
    "model.summary()"
   ]
  },
  {
   "cell_type": "code",
   "execution_count": 29,
   "id": "d9a5c1ba",
   "metadata": {},
   "outputs": [
    {
     "name": "stdout",
     "output_type": "stream",
     "text": [
      "Epoch 1/10\n",
      "111/111 [==============================] - 3s 12ms/step - loss: 0.0598 - accuracy: 0.9731 - f1_score: 0.9733 - recall_m: 0.9733 - precision_m: 0.9733 - val_loss: 0.0040 - val_accuracy: 0.9983 - val_f1_score: 0.9983 - val_recall_m: 0.9983 - val_precision_m: 0.9983\n",
      "Epoch 2/10\n",
      "111/111 [==============================] - 1s 8ms/step - loss: 0.0044 - accuracy: 0.9989 - f1_score: 0.9989 - recall_m: 0.9989 - precision_m: 0.9989 - val_loss: 9.2699e-04 - val_accuracy: 0.9994 - val_f1_score: 0.9994 - val_recall_m: 0.9994 - val_precision_m: 0.9994\n",
      "Epoch 3/10\n",
      "111/111 [==============================] - 1s 8ms/step - loss: 0.0012 - accuracy: 0.9997 - f1_score: 0.9997 - recall_m: 0.9997 - precision_m: 0.9997 - val_loss: 3.1074e-04 - val_accuracy: 1.0000 - val_f1_score: 1.0000 - val_recall_m: 1.0000 - val_precision_m: 1.0000\n",
      "Epoch 4/10\n",
      "111/111 [==============================] - 1s 8ms/step - loss: 7.8032e-04 - accuracy: 0.9999 - f1_score: 0.9999 - recall_m: 0.9999 - precision_m: 0.9999 - val_loss: 2.2656e-04 - val_accuracy: 1.0000 - val_f1_score: 1.0000 - val_recall_m: 1.0000 - val_precision_m: 1.0000\n",
      "Epoch 5/10\n",
      "111/111 [==============================] - 1s 7ms/step - loss: 6.7468e-04 - accuracy: 0.9999 - f1_score: 0.9999 - recall_m: 0.9999 - precision_m: 0.9999 - val_loss: 1.3073e-04 - val_accuracy: 1.0000 - val_f1_score: 1.0000 - val_recall_m: 1.0000 - val_precision_m: 1.0000\n",
      "Epoch 6/10\n",
      "111/111 [==============================] - 1s 8ms/step - loss: 5.4256e-04 - accuracy: 0.9997 - f1_score: 0.9997 - recall_m: 0.9997 - precision_m: 0.9997 - val_loss: 3.4177e-05 - val_accuracy: 1.0000 - val_f1_score: 1.0000 - val_recall_m: 1.0000 - val_precision_m: 1.0000\n",
      "Epoch 7/10\n",
      "111/111 [==============================] - 1s 7ms/step - loss: 1.4220e-04 - accuracy: 1.0000 - f1_score: 1.0000 - recall_m: 1.0000 - precision_m: 1.0000 - val_loss: 2.8452e-05 - val_accuracy: 1.0000 - val_f1_score: 1.0000 - val_recall_m: 1.0000 - val_precision_m: 1.0000\n",
      "Epoch 8/10\n",
      "111/111 [==============================] - 1s 8ms/step - loss: 7.7565e-05 - accuracy: 1.0000 - f1_score: 1.0000 - recall_m: 1.0000 - precision_m: 1.0000 - val_loss: 2.2826e-05 - val_accuracy: 1.0000 - val_f1_score: 1.0000 - val_recall_m: 1.0000 - val_precision_m: 1.0000\n",
      "Epoch 9/10\n",
      "111/111 [==============================] - 1s 8ms/step - loss: 6.3848e-05 - accuracy: 1.0000 - f1_score: 1.0000 - recall_m: 1.0000 - precision_m: 1.0000 - val_loss: 2.5867e-05 - val_accuracy: 1.0000 - val_f1_score: 1.0000 - val_recall_m: 1.0000 - val_precision_m: 1.0000\n",
      "Epoch 10/10\n",
      "111/111 [==============================] - 1s 8ms/step - loss: 4.5001e-05 - accuracy: 1.0000 - f1_score: 1.0000 - recall_m: 1.0000 - precision_m: 1.0000 - val_loss: 1.9666e-05 - val_accuracy: 1.0000 - val_f1_score: 1.0000 - val_recall_m: 1.0000 - val_precision_m: 1.0000\n"
     ]
    }
   ],
   "source": [
    "history = model.fit(X_train, y_train, epochs=10, batch_size=64,validation_split=0.2)"
   ]
  },
  {
   "cell_type": "code",
   "execution_count": 30,
   "id": "051f10e1",
   "metadata": {},
   "outputs": [],
   "source": [
    "from sklearn.metrics import accuracy_score, precision_score, recall_score, f1_score\n",
    "y_pred = model.predict(X_test)\n",
    "\n",
    "\n",
    "y_pred_labels = np.argmax(y_pred, axis=1)\n",
    "y_test_labels = np.argmax(y_test, axis=1)\n",
    "\n",
    "accuracy1 = accuracy_score(y_test_labels, y_pred_labels)\n",
    "precision1 = precision_score(y_test_labels, y_pred_labels)\n",
    "recall1 = recall_score(y_test_labels, y_pred_labels)\n",
    "f11 = f1_score(y_test_labels, y_pred_labels)"
   ]
  },
  {
   "cell_type": "code",
   "execution_count": 31,
   "id": "456a9ec5",
   "metadata": {},
   "outputs": [
    {
     "data": {
      "image/png": "[encoded data removed]",
      "text/plain": [
       "<Figure size 432x288 with 1 Axes>"
      ]
     },
     "metadata": {},
     "output_type": "display_data"
    },
    {
     "data": {
      "image/png": "[encoded data removed]",
      "text/plain": [
       "<Figure size 432x288 with 1 Axes>"
      ]
     },
     "metadata": {},
     "output_type": "display_data"
    }
   ],
   "source": [
    "plt.plot(history.history['loss'])\n",
    "plt.plot(history.history['val_loss'])\n",
    "plt.title('Model loss')\n",
    "plt.ylabel('Loss')\n",
    "plt.xlabel('Epoch')\n",
    "plt.legend(['Train', 'Validation'], loc='upper left')\n",
    "plt.show()\n",
    "\n",
    "\n",
    "# Plot training & validation accuracy values\n",
    "plt.plot(history.history['accuracy'])\n",
    "plt.plot(history.history['val_accuracy'])\n",
    "plt.title('Model accuracy')\n",
    "plt.ylabel('Accuracy')\n",
    "plt.xlabel('Epoch')\n",
    "plt.legend(['Train', 'Validation'], loc='upper left')\n",
    "plt.show()"
   ]
  },
  {
   "cell_type": "markdown",
   "id": "6d647d43",
   "metadata": {},
   "source": [
    "# Logistic Regression"
   ]
  },
  {
   "cell_type": "code",
   "execution_count": 32,
   "id": "9b83339a",
   "metadata": {},
   "outputs": [],
   "source": [
    "X = data.drop([\"Result\"],axis =1)\n",
    "y = data[\"Result\"]\n",
    "X_train, X_test, y_train, y_test = train_test_split(X,y, test_size=0.20, random_state=42)"
   ]
  },
  {
   "cell_type": "code",
   "execution_count": 33,
   "id": "99fd7f6a",
   "metadata": {},
   "outputs": [
    {
     "name": "stdout",
     "output_type": "stream",
     "text": [
      "*Accuracy score for LR:  0.9240162822252375 \n",
      "\n",
      "*Confusion Matrix for LR: \n",
      "[[ 864   92]\n",
      " [  76 1179]]\n",
      "*Classification Report for LR: \n",
      "              precision    recall  f1-score   support\n",
      "\n",
      "          -1       0.92      0.90      0.91       956\n",
      "           1       0.93      0.94      0.93      1255\n",
      "\n",
      "    accuracy                           0.92      2211\n",
      "   macro avg       0.92      0.92      0.92      2211\n",
      "weighted avg       0.92      0.92      0.92      2211\n",
      "\n"
     ]
    }
   ],
   "source": [
    "from sklearn.linear_model import LogisticRegression\n",
    "LR = LogisticRegression()\n",
    "LR.fit(X_train, y_train)\n",
    "predictions = LR.predict(X_test)\n",
    "val = (accuracy_score(y_test, predictions))\n",
    "print(\"*Accuracy score for LR: \", val, \"\\n\")\n",
    "print(\"*Confusion Matrix for LR: \")\n",
    "print(confusion_matrix(y_test, predictions))\n",
    "print(\"*Classification Report for LR: \")\n",
    "print(classification_report(y_test, predictions))"
   ]
  },
  {
   "cell_type": "code",
   "execution_count": 34,
   "id": "5b969f15",
   "metadata": {},
   "outputs": [
    {
     "name": "stdout",
     "output_type": "stream",
     "text": [
      "Scores for each fold are: [0.91186441 0.93559322 0.93333333 0.90960452 0.93099548 0.92081448\n",
      " 0.93891403 0.92986425 0.93778281 0.93552036]\n",
      "Average score: 0.93\n"
     ]
    }
   ],
   "source": [
    "lr_prec = precision_score(y_test, predictions,average='weighted')\n",
    "lr_rec = recall_score(y_test, predictions,average='weighted')\n",
    "lr_f1 = f1_score(y_test, predictions,average='weighted')\n",
    "\n",
    "kf = KFold(n_splits=10)\n",
    "\n",
    "score_lr  = cross_val_score(LR, X_train, y_train, cv= kf, scoring=\"accuracy\")\n",
    "print(f'Scores for each fold are: {score_lr}')\n",
    "print(f'Average score: {\"{:.2f}\".format(score_lr.mean())}')"
   ]
  },
  {
   "cell_type": "markdown",
   "id": "7af27a23",
   "metadata": {},
   "source": [
    "# Decision Tree"
   ]
  },
  {
   "cell_type": "code",
   "execution_count": 35,
   "id": "4252cdcd",
   "metadata": {},
   "outputs": [
    {
     "name": "stdout",
     "output_type": "stream",
     "text": [
      "*Accuracy score for DT:  0.9140660334690185 \n",
      "\n",
      "*Confusion Matrix for DT: \n",
      "[[ 865   91]\n",
      " [  99 1156]]\n",
      "*Classification Report for DT: \n",
      "              precision    recall  f1-score   support\n",
      "\n",
      "          -1       0.90      0.90      0.90       956\n",
      "           1       0.93      0.92      0.92      1255\n",
      "\n",
      "    accuracy                           0.91      2211\n",
      "   macro avg       0.91      0.91      0.91      2211\n",
      "weighted avg       0.91      0.91      0.91      2211\n",
      "\n"
     ]
    }
   ],
   "source": [
    "from sklearn.tree import DecisionTreeClassifier\n",
    "DT = DecisionTreeClassifier(max_depth =3, random_state = 42)\n",
    "DT.fit(X_train, y_train)\n",
    "predictions = DT.predict(X_test)\n",
    "val1 = (accuracy_score(y_test, predictions))\n",
    "print(\"*Accuracy score for DT: \", val1, \"\\n\")\n",
    "print(\"*Confusion Matrix for DT: \")\n",
    "print(confusion_matrix(y_test, predictions))\n",
    "print(\"*Classification Report for DT: \")\n",
    "print(classification_report(y_test, predictions))"
   ]
  },
  {
   "cell_type": "code",
   "execution_count": 36,
   "id": "cce0e6b3",
   "metadata": {},
   "outputs": [
    {
     "name": "stdout",
     "output_type": "stream",
     "text": [
      "Scores for each fold are: [0.8960452  0.91638418 0.88926554 0.89830508 0.88800905 0.90497738\n",
      " 0.90837104 0.92081448 0.90271493 0.89819005]\n",
      "Average score: 0.90\n"
     ]
    }
   ],
   "source": [
    "dt_prec = precision_score(y_test, predictions,average='weighted')\n",
    "dt_rec = recall_score(y_test, predictions,average='weighted')\n",
    "dt_f1 = f1_score(y_test, predictions,average='weighted')\n",
    "\n",
    "kf = KFold(n_splits=10)\n",
    "\n",
    "score_dt = cross_val_score(DT, X_train, y_train, cv= kf, scoring=\"accuracy\")\n",
    "print(f'Scores for each fold are: {score_dt}')\n",
    "print(f'Average score: {\"{:.2f}\".format(score_dt.mean())}')"
   ]
  },
  {
   "cell_type": "markdown",
   "id": "7158d967",
   "metadata": {},
   "source": [
    "# SVM"
   ]
  },
  {
   "cell_type": "code",
   "execution_count": 37,
   "id": "d533931d",
   "metadata": {},
   "outputs": [
    {
     "name": "stdout",
     "output_type": "stream",
     "text": [
      "*Accuracy score for SVM:  0.9470827679782904 \n",
      "\n",
      "*Confusion Matrix for SVM: \n",
      "[[ 882   74]\n",
      " [  43 1212]]\n",
      "*Classification Report for SVM: \n",
      "              precision    recall  f1-score   support\n",
      "\n",
      "          -1       0.95      0.92      0.94       956\n",
      "           1       0.94      0.97      0.95      1255\n",
      "\n",
      "    accuracy                           0.95      2211\n",
      "   macro avg       0.95      0.94      0.95      2211\n",
      "weighted avg       0.95      0.95      0.95      2211\n",
      "\n"
     ]
    }
   ],
   "source": [
    "from sklearn.svm import SVC\n",
    "SVM = SVC()\n",
    "SVM.fit(X_train, y_train)\n",
    "predictions = SVM.predict(X_test)\n",
    "val2 = (accuracy_score(y_test, predictions))\n",
    "print(\"*Accuracy score for SVM: \", val2, \"\\n\")\n",
    "print(\"*Confusion Matrix for SVM: \")\n",
    "print(confusion_matrix(y_test, predictions))\n",
    "print(\"*Classification Report for SVM: \")\n",
    "print(classification_report(y_test, predictions))"
   ]
  },
  {
   "cell_type": "code",
   "execution_count": 38,
   "id": "998d6b16",
   "metadata": {},
   "outputs": [
    {
     "name": "stdout",
     "output_type": "stream",
     "text": [
      "Scores for each fold are: [0.93220339 0.95367232 0.94576271 0.94350282 0.95022624 0.94343891\n",
      " 0.95701357 0.95248869 0.95135747 0.95361991]\n",
      "Average score: 0.95\n"
     ]
    }
   ],
   "source": [
    "svm_prec = precision_score(y_test, predictions,average='weighted')\n",
    "svm_rec = recall_score(y_test, predictions,average='weighted')\n",
    "svm_f1 = f1_score(y_test, predictions,average='weighted')\n",
    "\n",
    "kf = KFold(n_splits=10)\n",
    "\n",
    "score_svm = cross_val_score(SVM, X_train, y_train, cv= kf, scoring=\"accuracy\")\n",
    "print(f'Scores for each fold are: {score_svm}')\n",
    "print(f'Average score: {\"{:.2f}\".format(score_svm.mean())}')"
   ]
  },
  {
   "cell_type": "markdown",
   "id": "7f06e784",
   "metadata": {},
   "source": [
    "## KNN"
   ]
  },
  {
   "cell_type": "code",
   "execution_count": 39,
   "id": "41700149",
   "metadata": {},
   "outputs": [
    {
     "name": "stdout",
     "output_type": "stream",
     "text": [
      "*Accuracy score for KNN:  0.9466304839439168 \n",
      "\n",
      "*Confusion Matrix for KNN: \n",
      "[[ 884   72]\n",
      " [  46 1209]]\n",
      "*Classification Report for KNN: \n",
      "              precision    recall  f1-score   support\n",
      "\n",
      "          -1       0.95      0.92      0.94       956\n",
      "           1       0.94      0.96      0.95      1255\n",
      "\n",
      "    accuracy                           0.95      2211\n",
      "   macro avg       0.95      0.94      0.95      2211\n",
      "weighted avg       0.95      0.95      0.95      2211\n",
      "\n"
     ]
    }
   ],
   "source": [
    "from sklearn.neighbors import KNeighborsClassifier\n",
    "KNN = KNeighborsClassifier(n_neighbors=3)\n",
    "KNN.fit(X_train, y_train)\n",
    "predictions = KNN.predict(X_test)\n",
    "val3 = (accuracy_score(y_test, predictions))\n",
    "print(\"*Accuracy score for KNN: \", val3, \"\\n\")\n",
    "print(\"*Confusion Matrix for KNN: \")\n",
    "print(confusion_matrix(y_test, predictions))\n",
    "print(\"*Classification Report for KNN: \")\n",
    "print(classification_report(y_test, predictions))"
   ]
  },
  {
   "cell_type": "code",
   "execution_count": 40,
   "id": "73adf6b4",
   "metadata": {},
   "outputs": [
    {
     "name": "stdout",
     "output_type": "stream",
     "text": [
      "Scores for each fold are: [0.94124294 0.95367232 0.94915254 0.94689266 0.95475113 0.93778281\n",
      " 0.94117647 0.94457014 0.96040724 0.94230769]\n",
      "Average score: 0.95\n"
     ]
    }
   ],
   "source": [
    "knn_prec = precision_score(y_test, predictions,average='weighted')\n",
    "knn_rec = recall_score(y_test, predictions,average='weighted')\n",
    "knn_f1 = f1_score(y_test, predictions,average='weighted')\n",
    "\n",
    "kf = KFold(n_splits=10)\n",
    "\n",
    "score_knn = cross_val_score(KNN, X_train, y_train, cv= kf, scoring=\"accuracy\")\n",
    "print(f'Scores for each fold are: {score_knn}')\n",
    "print(f'Average score: {\"{:.2f}\".format(score_knn.mean())}')"
   ]
  },
  {
   "cell_type": "markdown",
   "id": "309b68ba",
   "metadata": {},
   "source": [
    "# Gaussian Naive Bayes"
   ]
  },
  {
   "cell_type": "code",
   "execution_count": 41,
   "id": "c13797ea",
   "metadata": {},
   "outputs": [
    {
     "name": "stdout",
     "output_type": "stream",
     "text": [
      "*Accuracy score for NB:  0.5829941203075532 \n",
      "\n",
      "*Confusion Matrix for NB: \n",
      "[[955   1]\n",
      " [921 334]]\n",
      "*Classification Report for NB: \n",
      "              precision    recall  f1-score   support\n",
      "\n",
      "          -1       0.51      1.00      0.67       956\n",
      "           1       1.00      0.27      0.42      1255\n",
      "\n",
      "    accuracy                           0.58      2211\n",
      "   macro avg       0.75      0.63      0.55      2211\n",
      "weighted avg       0.79      0.58      0.53      2211\n",
      "\n"
     ]
    }
   ],
   "source": [
    "from sklearn.naive_bayes import GaussianNB\n",
    "NB = GaussianNB()\n",
    "NB.fit(X_train, y_train)\n",
    "predictions = NB.predict(X_test)\n",
    "val4 = (accuracy_score(y_test, predictions))\n",
    "print(\"*Accuracy score for NB: \", val4, \"\\n\")\n",
    "print(\"*Confusion Matrix for NB: \")\n",
    "print(confusion_matrix(y_test, predictions))\n",
    "print(\"*Classification Report for NB: \")\n",
    "print(classification_report(y_test, predictions))"
   ]
  },
  {
   "cell_type": "code",
   "execution_count": 42,
   "id": "1b52ab14",
   "metadata": {},
   "outputs": [
    {
     "name": "stdout",
     "output_type": "stream",
     "text": [
      "Scores for each fold are: [0.60112994 0.58644068 0.60903955 0.62372881 0.60180995 0.59728507\n",
      " 0.62330317 0.60859729 0.60972851 0.60633484]\n",
      "Average score: 0.61\n"
     ]
    }
   ],
   "source": [
    "nb_prec = precision_score(y_test, predictions,average='weighted')\n",
    "nb_rec = recall_score(y_test, predictions,average='weighted')\n",
    "nb_f1 = f1_score(y_test, predictions,average='weighted')\n",
    "\n",
    "kf = KFold(n_splits=10)\n",
    "\n",
    "score_gn = cross_val_score(NB, X_train, y_train, cv= kf, scoring=\"accuracy\")\n",
    "print(f'Scores for each fold are: {score_gn}')\n",
    "print(f'Average score: {\"{:.2f}\".format(score_gn.mean())}')"
   ]
  },
  {
   "cell_type": "markdown",
   "id": "e930ea30",
   "metadata": {},
   "source": [
    "# LDA"
   ]
  },
  {
   "cell_type": "code",
   "execution_count": 43,
   "id": "d5df9666",
   "metadata": {},
   "outputs": [
    {
     "name": "stdout",
     "output_type": "stream",
     "text": [
      "*Accuracy score for LDA:  0.9208502939846224 \n",
      "\n",
      "*Confusion Matrix for LDA: \n",
      "[[ 846  110]\n",
      " [  65 1190]]\n",
      "*Classification Report for LDA: \n",
      "              precision    recall  f1-score   support\n",
      "\n",
      "          -1       0.93      0.88      0.91       956\n",
      "           1       0.92      0.95      0.93      1255\n",
      "\n",
      "    accuracy                           0.92      2211\n",
      "   macro avg       0.92      0.92      0.92      2211\n",
      "weighted avg       0.92      0.92      0.92      2211\n",
      "\n"
     ]
    }
   ],
   "source": [
    "from sklearn.discriminant_analysis import LinearDiscriminantAnalysis\n",
    "LDA = LinearDiscriminantAnalysis()\n",
    "LDA.fit(X_train, y_train)\n",
    "predictions = LDA.predict(X_test)\n",
    "val5 = (accuracy_score(y_test, predictions))\n",
    "print(\"*Accuracy score for LDA: \", val5, \"\\n\")\n",
    "print(\"*Confusion Matrix for LDA: \")\n",
    "print(confusion_matrix(y_test, predictions))\n",
    "print(\"*Classification Report for LDA: \")\n",
    "print(classification_report(y_test, predictions))"
   ]
  },
  {
   "cell_type": "code",
   "execution_count": 44,
   "id": "552c1137",
   "metadata": {},
   "outputs": [
    {
     "name": "stdout",
     "output_type": "stream",
     "text": [
      "Scores for each fold are: [0.91299435 0.93107345 0.9220339  0.90960452 0.91289593 0.92307692\n",
      " 0.9321267  0.91855204 0.92760181 0.9219457 ]\n",
      "Average score: 0.92\n"
     ]
    }
   ],
   "source": [
    "lda_prec = precision_score(y_test, predictions,average='weighted')\n",
    "lda_rec = recall_score(y_test, predictions,average='weighted')\n",
    "lda_f1 = f1_score(y_test, predictions,average='weighted')\n",
    "kf = KFold(n_splits=10)\n",
    "score_lda = cross_val_score(LDA, X_train, y_train, cv= kf, scoring=\"accuracy\")\n",
    "print(f'Scores for each fold are: {score_lda}')\n",
    "print(f'Average score: {\"{:.2f}\".format(score_lda.mean())}')"
   ]
  },
  {
   "cell_type": "markdown",
   "id": "0d7d0226",
   "metadata": {},
   "source": [
    "# Extension"
   ]
  },
  {
   "cell_type": "code",
   "execution_count": 45,
   "id": "fac329a0",
   "metadata": {},
   "outputs": [
    {
     "name": "stdout",
     "output_type": "stream",
     "text": [
      "*Confusion Matrix for Voting Classifier: \n",
      "[[ 904   52]\n",
      " [  39 1216]]\n",
      "*Accuracy score for Voting:  0.9588421528720036 \n",
      "\n",
      "*Classification Report for Voting: \n",
      "              precision    recall  f1-score   support\n",
      "\n",
      "          -1       0.96      0.95      0.95       956\n",
      "           1       0.96      0.97      0.96      1255\n",
      "\n",
      "    accuracy                           0.96      2211\n",
      "   macro avg       0.96      0.96      0.96      2211\n",
      "weighted avg       0.96      0.96      0.96      2211\n",
      "\n"
     ]
    }
   ],
   "source": [
    "from sklearn.tree import DecisionTreeClassifier\n",
    "from sklearn.ensemble import RandomForestClassifier, VotingClassifier\n",
    "from sklearn.ensemble import AdaBoostClassifier\n",
    "clf1 = AdaBoostClassifier()\n",
    "clf2 = RandomForestClassifier(n_estimators=50, random_state=1)\n",
    "clf3 = DecisionTreeClassifier()\n",
    "eclf1 = VotingClassifier(estimators=[('nb', clf1), ('rf', clf2), ('dt', clf3)], voting='soft')\n",
    "eclf1.fit(X_train, y_train)\n",
    "predictions = eclf1.predict(X_test)\n",
    "print(\"*Confusion Matrix for Voting Classifier: \")\n",
    "print(confusion_matrix(y_test, predictions))\n",
    "\n",
    "val6 = (accuracy_score(y_test, predictions))\n",
    "print(\"*Accuracy score for Voting: \", val6, \"\\n\")\n",
    "print(\"*Classification Report for Voting: \")\n",
    "print(classification_report(y_test, predictions))"
   ]
  },
  {
   "cell_type": "code",
   "execution_count": 46,
   "id": "d7574de9",
   "metadata": {},
   "outputs": [
    {
     "name": "stdout",
     "output_type": "stream",
     "text": [
      "Scores for each fold are: [0.95932203 0.96497175 0.96497175 0.97853107 0.96493213 0.96606335\n",
      " 0.96153846 0.95135747 0.97737557 0.9479638 ]\n",
      "Average score: 0.96\n"
     ]
    }
   ],
   "source": [
    "vot_prec = precision_score(y_test, predictions,average='weighted')\n",
    "vot_rec = recall_score(y_test, predictions,average='weighted')\n",
    "vot_f1 = f1_score(y_test, predictions,average='weighted')\n",
    "kf = KFold(n_splits=10)\n",
    "score_voting = cross_val_score(eclf1, X_train, y_train, cv= kf, scoring=\"accuracy\")\n",
    "print(f'Scores for each fold are: {score_voting}')\n",
    "print(f'Average score: {\"{:.2f}\".format(score_voting.mean())}')"
   ]
  },
  {
   "cell_type": "markdown",
   "id": "09e4e47e",
   "metadata": {},
   "source": [
    "# Comparison"
   ]
  },
  {
   "cell_type": "code",
   "execution_count": 47,
   "id": "0f0485b2",
   "metadata": {},
   "outputs": [],
   "source": [
    "score = [accuracy,accuracy1,val,val1,val2,val3,val4,val5,val6]\n",
    "score1 = [precision,precision1,lr_prec,dt_prec,svm_prec,knn_prec,nb_prec,lda_prec,vot_prec]\n",
    "score2 = [recall,recall1,lr_rec,dt_rec,svm_rec,knn_rec,nb_rec,lda_rec,vot_rec]\n",
    "score3 = [f1,f11,lr_f1,dt_f1,svm_f1,knn_f1,nb_f1,lda_f1,vot_f1]"
   ]
  },
  {
   "cell_type": "code",
   "execution_count": 48,
   "id": "ee791cb0",
   "metadata": {},
   "outputs": [
    {
     "name": "stdout",
     "output_type": "stream",
     "text": [
      "[0 1 2 3 4 5 6 7 8]\n",
      "[1.0, 1.0, 0.9240162822252375, 0.9140660334690185, 0.9470827679782904, 0.9466304839439168, 0.5829941203075532, 0.9208502939846224, 0.9588421528720036]\n"
     ]
    }
   ],
   "source": [
    "classifier = ('CNN','RNN','Logistic Regression','Decision Tree','SVM','KNN','Naive Bayes','LDA','Voting Classifier')\n",
    "y_pos = np.arange(len(classifier))\n",
    "print(y_pos)\n",
    "print(score)\n",
    "        \n",
    "\n",
    "results = {\n",
    "    'Accuracy': score,\n",
    "    'Recall': score1,\n",
    "    'Precision': score2,\n",
    "    'F1': score3\n",
    "}\n",
    "\n",
    "index = ['CNN','RNN','Logistic Regression','Decision Tree','SVM','KNN','Naive Bayes','LDA','Voting Classifier']"
   ]
  },
  {
   "cell_type": "code",
   "execution_count": 49,
   "id": "8ed56afc",
   "metadata": {},
   "outputs": [
    {
     "name": "stdout",
     "output_type": "stream",
     "text": [
      "                     Accuracy    Recall  Precision        F1\n",
      "CNN                  1.000000  1.000000   1.000000  1.000000\n",
      "RNN                  1.000000  1.000000   1.000000  1.000000\n",
      "Logistic Regression  0.924016  0.923955   0.924016  0.923936\n",
      "Decision Tree        0.914066  0.914174   0.914066  0.914108\n",
      "SVM                  0.947083  0.947238   0.947083  0.946970\n",
      "KNN                  0.946630  0.946710   0.946630  0.946536\n",
      "Naive Bayes          0.582994  0.786032   0.582994  0.530085\n",
      "LDA                  0.920850  0.921120   0.920850  0.920593\n",
      "Voting Classifier    0.958842  0.958840   0.958842  0.958807\n"
     ]
    }
   ],
   "source": [
    "results =pd.DataFrame(results,index=index)\n",
    "print(results)"
   ]
  },
  {
   "cell_type": "code",
   "execution_count": 50,
   "id": "eb522415",
   "metadata": {},
   "outputs": [
    {
     "data": {
      "image/png": "[encoded data removed]",
      "text/plain": [
       "<Figure size 1368x1368 with 1 Axes>"
      ]
     },
     "metadata": {},
     "output_type": "display_data"
    }
   ],
   "source": [
    "fig =results.plot(kind='bar',title='Comaprison of models',figsize =(19,19)).get_figure()\n",
    "fig.savefig('Final Result1.png')"
   ]
  },
  {
   "cell_type": "markdown",
   "id": "400d970e",
   "metadata": {},
   "source": [
    "# Accuracy"
   ]
  },
  {
   "cell_type": "code",
   "execution_count": 51,
   "id": "ff76efea",
   "metadata": {},
   "outputs": [
    {
     "data": {
      "image/png": "[encoded data removed]",
      "text/plain": [
       "<Figure size 432x288 with 1 Axes>"
      ]
     },
     "metadata": {},
     "output_type": "display_data"
    }
   ],
   "source": [
    "plt2.barh(y_pos, score, align='center', alpha=0.5,color='blue')\n",
    "plt2.yticks(y_pos, classifier)\n",
    "plt2.xlabel('Accuracy Score')\n",
    "plt2.title('Model Performance')\n",
    "plt2.show()"
   ]
  },
  {
   "cell_type": "markdown",
   "id": "3d1acee0",
   "metadata": {},
   "source": [
    "# Precision"
   ]
  },
  {
   "cell_type": "code",
   "execution_count": 52,
   "id": "6ecbf579",
   "metadata": {},
   "outputs": [
    {
     "data": {
      "image/png": "[encoded data removed]",
      "text/plain": [
       "<Figure size 432x288 with 1 Axes>"
      ]
     },
     "metadata": {},
     "output_type": "display_data"
    }
   ],
   "source": [
    "plt2.barh(y_pos, score1, align='center', alpha=0.5,color='red')\n",
    "plt2.yticks(y_pos, classifier)\n",
    "plt2.xlabel('Precision Score')\n",
    "plt2.title('Model Performance')\n",
    "plt2.show()"
   ]
  },
  {
   "cell_type": "markdown",
   "id": "14c97182",
   "metadata": {},
   "source": [
    "# Recall"
   ]
  },
  {
   "cell_type": "code",
   "execution_count": 53,
   "id": "ae4b2534",
   "metadata": {},
   "outputs": [
    {
     "data": {
      "image/png": "[encoded data removed]",
      "text/plain": [
       "<Figure size 432x288 with 1 Axes>"
      ]
     },
     "metadata": {},
     "output_type": "display_data"
    }
   ],
   "source": [
    "plt2.barh(y_pos, score2, align='center', alpha=0.5,color='orange')\n",
    "plt2.yticks(y_pos, classifier)\n",
    "plt2.xlabel('Recall Score')\n",
    "plt2.title('Model Performance')\n",
    "plt2.show()"
   ]
  },
  {
   "cell_type": "markdown",
   "id": "ca474270",
   "metadata": {},
   "source": [
    "# F1 Score"
   ]
  },
  {
   "cell_type": "code",
   "execution_count": 54,
   "id": "1b2303b1",
   "metadata": {},
   "outputs": [
    {
     "data": {
      "image/png": "[encoded data removed]",
      "text/plain": [
       "<Figure size 432x288 with 1 Axes>"
      ]
     },
     "metadata": {},
     "output_type": "display_data"
    }
   ],
   "source": [
    "plt2.barh(y_pos, score3, align='center', alpha=0.5,color='pink')\n",
    "plt2.yticks(y_pos, classifier)\n",
    "plt2.xlabel('F1 Score')\n",
    "plt2.title('Model Performance')\n",
    "plt2.show()"
   ]
  },
  {
   "cell_type": "markdown",
   "id": "40549f2a",
   "metadata": {},
   "source": [
    "# Saving the model"
   ]
  },
  {
   "cell_type": "code",
   "execution_count": 55,
   "id": "d133c5d6",
   "metadata": {},
   "outputs": [],
   "source": [
    "pickle.dump(eclf1,open('model_2.pkl','wb'))"
   ]
  },
  {
   "cell_type": "code",
   "execution_count": null,
   "id": "39c2eb74",
   "metadata": {},
   "outputs": [],
   "source": []
  }
 ],
 "metadata": {
  "kernelspec": {
   "display_name": "Python 3",
   "language": "python",
   "name": "python3"
  },
  "language_info": {
   "codemirror_mode": {
    "name": "ipython",
    "version": 3
   },
   "file_extension": ".py",
   "mimetype": "text/x-python",
   "name": "python",
   "nbconvert_exporter": "python",
   "pygments_lexer": "ipython3",
   "version": "3.7.4"
  }
 },
 "nbformat": 4,
 "nbformat_minor": 5
}
