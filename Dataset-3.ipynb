{
 "cells": [
  {
   "cell_type": "markdown",
   "id": "9c9f153a",
   "metadata": {},
   "source": [
    "# Importing Libraries"
   ]
  },
  {
   "cell_type": "code",
   "execution_count": 1,
   "id": "8de47b0c",
   "metadata": {},
   "outputs": [],
   "source": [
    "import warnings\n",
    "warnings.filterwarnings('ignore')"
   ]
  },
  {
   "cell_type": "code",
   "execution_count": 2,
   "id": "97070ce7",
   "metadata": {},
   "outputs": [],
   "source": [
    "import numpy as np\n",
    "import pandas as pd\n",
    "import matplotlib.pyplot as plt\n",
    "import matplotlib.pyplot as plt2\n",
    "import pickle\n",
    "%matplotlib inline\n",
    "import seaborn as sns\n",
    "from scipy.io import arff\n",
    "import pandas\n",
    "from sklearn.model_selection import train_test_split\n",
    "from sklearn.model_selection import cross_val_score\n",
    "from sklearn.metrics import classification_report\n",
    "from sklearn.metrics import confusion_matrix\n",
    "from sklearn.metrics import accuracy_score,precision_score,recall_score,f1_score\n",
    "from sklearn.model_selection import train_test_split, cross_val_score, KFold\n",
    "from tensorflow.keras.models import Sequential\n",
    "from tensorflow.keras.layers import Conv1D, MaxPooling1D, Flatten, Dense\n",
    "from sklearn.preprocessing import LabelBinarizer\n",
    "from tensorflow.keras.utils import to_categorical\n",
    "from tensorflow.keras.layers import Dense, LSTM, GRU, MaxPool1D, SimpleRNN, Flatten, Dropout, Conv1D\n",
    "import tensorflow.keras.backend as K"
   ]
  },
  {
   "cell_type": "markdown",
   "id": "f4c5c6ab",
   "metadata": {},
   "source": [
    "# Importing Dataset"
   ]
  },
  {
   "cell_type": "code",
   "execution_count": 3,
   "id": "0133ac60",
   "metadata": {},
   "outputs": [],
   "source": [
    "data = pd.read_csv('dataset.csv')"
   ]
  },
  {
   "cell_type": "markdown",
   "id": "8541a455",
   "metadata": {},
   "source": [
    "# EDA"
   ]
  },
  {
   "cell_type": "code",
   "execution_count": 4,
   "id": "2bccb3b5",
   "metadata": {},
   "outputs": [
    {
     "data": {
      "text/html": [
       "<div>\n",
       "<style scoped>\n",
       "    .dataframe tbody tr th:only-of-type {\n",
       "        vertical-align: middle;\n",
       "    }\n",
       "\n",
       "    .dataframe tbody tr th {\n",
       "        vertical-align: top;\n",
       "    }\n",
       "\n",
       "    .dataframe thead th {\n",
       "        text-align: right;\n",
       "    }\n",
       "</style>\n",
       "<table border=\"1\" class=\"dataframe\">\n",
       "  <thead>\n",
       "    <tr style=\"text-align: right;\">\n",
       "      <th></th>\n",
       "      <th>having_IP_Address</th>\n",
       "      <th>URL_Length</th>\n",
       "      <th>Shortining_Service</th>\n",
       "      <th>having_At_Symbol</th>\n",
       "      <th>double_slash_redirecting</th>\n",
       "      <th>Prefix_Suffix</th>\n",
       "      <th>having_Sub_Domain</th>\n",
       "      <th>SSLfinal_State</th>\n",
       "      <th>Domain_registeration_length</th>\n",
       "      <th>Favicon</th>\n",
       "      <th>...</th>\n",
       "      <th>popUpWidnow</th>\n",
       "      <th>Iframe</th>\n",
       "      <th>age_of_domain</th>\n",
       "      <th>DNSRecord</th>\n",
       "      <th>web_traffic</th>\n",
       "      <th>Page_Rank</th>\n",
       "      <th>Google_Index</th>\n",
       "      <th>Links_pointing_to_page</th>\n",
       "      <th>Statistical_report</th>\n",
       "      <th>Result</th>\n",
       "    </tr>\n",
       "  </thead>\n",
       "  <tbody>\n",
       "    <tr>\n",
       "      <th>0</th>\n",
       "      <td>-1</td>\n",
       "      <td>1</td>\n",
       "      <td>1</td>\n",
       "      <td>1</td>\n",
       "      <td>-1</td>\n",
       "      <td>-1</td>\n",
       "      <td>-1</td>\n",
       "      <td>-1</td>\n",
       "      <td>-1</td>\n",
       "      <td>1</td>\n",
       "      <td>...</td>\n",
       "      <td>1</td>\n",
       "      <td>1</td>\n",
       "      <td>-1</td>\n",
       "      <td>-1</td>\n",
       "      <td>-1</td>\n",
       "      <td>-1</td>\n",
       "      <td>1</td>\n",
       "      <td>1</td>\n",
       "      <td>-1</td>\n",
       "      <td>-1</td>\n",
       "    </tr>\n",
       "    <tr>\n",
       "      <th>1</th>\n",
       "      <td>1</td>\n",
       "      <td>1</td>\n",
       "      <td>1</td>\n",
       "      <td>1</td>\n",
       "      <td>1</td>\n",
       "      <td>-1</td>\n",
       "      <td>0</td>\n",
       "      <td>1</td>\n",
       "      <td>-1</td>\n",
       "      <td>1</td>\n",
       "      <td>...</td>\n",
       "      <td>1</td>\n",
       "      <td>1</td>\n",
       "      <td>-1</td>\n",
       "      <td>-1</td>\n",
       "      <td>0</td>\n",
       "      <td>-1</td>\n",
       "      <td>1</td>\n",
       "      <td>1</td>\n",
       "      <td>1</td>\n",
       "      <td>-1</td>\n",
       "    </tr>\n",
       "    <tr>\n",
       "      <th>2</th>\n",
       "      <td>1</td>\n",
       "      <td>0</td>\n",
       "      <td>1</td>\n",
       "      <td>1</td>\n",
       "      <td>1</td>\n",
       "      <td>-1</td>\n",
       "      <td>-1</td>\n",
       "      <td>-1</td>\n",
       "      <td>-1</td>\n",
       "      <td>1</td>\n",
       "      <td>...</td>\n",
       "      <td>1</td>\n",
       "      <td>1</td>\n",
       "      <td>1</td>\n",
       "      <td>-1</td>\n",
       "      <td>1</td>\n",
       "      <td>-1</td>\n",
       "      <td>1</td>\n",
       "      <td>0</td>\n",
       "      <td>-1</td>\n",
       "      <td>-1</td>\n",
       "    </tr>\n",
       "    <tr>\n",
       "      <th>3</th>\n",
       "      <td>1</td>\n",
       "      <td>0</td>\n",
       "      <td>1</td>\n",
       "      <td>1</td>\n",
       "      <td>1</td>\n",
       "      <td>-1</td>\n",
       "      <td>-1</td>\n",
       "      <td>-1</td>\n",
       "      <td>1</td>\n",
       "      <td>1</td>\n",
       "      <td>...</td>\n",
       "      <td>1</td>\n",
       "      <td>1</td>\n",
       "      <td>-1</td>\n",
       "      <td>-1</td>\n",
       "      <td>1</td>\n",
       "      <td>-1</td>\n",
       "      <td>1</td>\n",
       "      <td>-1</td>\n",
       "      <td>1</td>\n",
       "      <td>-1</td>\n",
       "    </tr>\n",
       "    <tr>\n",
       "      <th>4</th>\n",
       "      <td>1</td>\n",
       "      <td>0</td>\n",
       "      <td>-1</td>\n",
       "      <td>1</td>\n",
       "      <td>1</td>\n",
       "      <td>-1</td>\n",
       "      <td>1</td>\n",
       "      <td>1</td>\n",
       "      <td>-1</td>\n",
       "      <td>1</td>\n",
       "      <td>...</td>\n",
       "      <td>-1</td>\n",
       "      <td>1</td>\n",
       "      <td>-1</td>\n",
       "      <td>-1</td>\n",
       "      <td>0</td>\n",
       "      <td>-1</td>\n",
       "      <td>1</td>\n",
       "      <td>1</td>\n",
       "      <td>1</td>\n",
       "      <td>1</td>\n",
       "    </tr>\n",
       "  </tbody>\n",
       "</table>\n",
       "<p>5 rows × 31 columns</p>\n",
       "</div>"
      ],
      "text/plain": [
       "   having_IP_Address  URL_Length  Shortining_Service  having_At_Symbol  \\\n",
       "0                 -1           1                   1                 1   \n",
       "1                  1           1                   1                 1   \n",
       "2                  1           0                   1                 1   \n",
       "3                  1           0                   1                 1   \n",
       "4                  1           0                  -1                 1   \n",
       "\n",
       "   double_slash_redirecting  Prefix_Suffix  having_Sub_Domain  SSLfinal_State  \\\n",
       "0                        -1             -1                 -1              -1   \n",
       "1                         1             -1                  0               1   \n",
       "2                         1             -1                 -1              -1   \n",
       "3                         1             -1                 -1              -1   \n",
       "4                         1             -1                  1               1   \n",
       "\n",
       "   Domain_registeration_length  Favicon  ...  popUpWidnow  Iframe  \\\n",
       "0                           -1        1  ...            1       1   \n",
       "1                           -1        1  ...            1       1   \n",
       "2                           -1        1  ...            1       1   \n",
       "3                            1        1  ...            1       1   \n",
       "4                           -1        1  ...           -1       1   \n",
       "\n",
       "   age_of_domain  DNSRecord  web_traffic  Page_Rank  Google_Index  \\\n",
       "0             -1         -1           -1         -1             1   \n",
       "1             -1         -1            0         -1             1   \n",
       "2              1         -1            1         -1             1   \n",
       "3             -1         -1            1         -1             1   \n",
       "4             -1         -1            0         -1             1   \n",
       "\n",
       "   Links_pointing_to_page  Statistical_report  Result  \n",
       "0                       1                  -1      -1  \n",
       "1                       1                   1      -1  \n",
       "2                       0                  -1      -1  \n",
       "3                      -1                   1      -1  \n",
       "4                       1                   1       1  \n",
       "\n",
       "[5 rows x 31 columns]"
      ]
     },
     "execution_count": 4,
     "metadata": {},
     "output_type": "execute_result"
    }
   ],
   "source": [
    "data.head()"
   ]
  },
  {
   "cell_type": "code",
   "execution_count": 5,
   "id": "f69d86d3",
   "metadata": {},
   "outputs": [
    {
     "name": "stdout",
     "output_type": "stream",
     "text": [
      "<class 'pandas.core.frame.DataFrame'>\n",
      "RangeIndex: 22110 entries, 0 to 22109\n",
      "Data columns (total 31 columns):\n",
      " #   Column                       Non-Null Count  Dtype\n",
      "---  ------                       --------------  -----\n",
      " 0   having_IP_Address            22110 non-null  int64\n",
      " 1   URL_Length                   22110 non-null  int64\n",
      " 2   Shortining_Service           22110 non-null  int64\n",
      " 3   having_At_Symbol             22110 non-null  int64\n",
      " 4   double_slash_redirecting     22110 non-null  int64\n",
      " 5   Prefix_Suffix                22110 non-null  int64\n",
      " 6   having_Sub_Domain            22110 non-null  int64\n",
      " 7   SSLfinal_State               22110 non-null  int64\n",
      " 8   Domain_registeration_length  22110 non-null  int64\n",
      " 9   Favicon                      22110 non-null  int64\n",
      " 10  port                         22110 non-null  int64\n",
      " 11  HTTPS_token                  22110 non-null  int64\n",
      " 12  Request_URL                  22110 non-null  int64\n",
      " 13  URL_of_Anchor                22110 non-null  int64\n",
      " 14  Links_in_tags                22110 non-null  int64\n",
      " 15  SFH                          22110 non-null  int64\n",
      " 16  Submitting_to_email          22110 non-null  int64\n",
      " 17  Abnormal_URL                 22110 non-null  int64\n",
      " 18  Redirect                     22110 non-null  int64\n",
      " 19  on_mouseover                 22110 non-null  int64\n",
      " 20  RightClick                   22110 non-null  int64\n",
      " 21  popUpWidnow                  22110 non-null  int64\n",
      " 22  Iframe                       22110 non-null  int64\n",
      " 23  age_of_domain                22110 non-null  int64\n",
      " 24  DNSRecord                    22110 non-null  int64\n",
      " 25  web_traffic                  22110 non-null  int64\n",
      " 26  Page_Rank                    22110 non-null  int64\n",
      " 27  Google_Index                 22110 non-null  int64\n",
      " 28  Links_pointing_to_page       22110 non-null  int64\n",
      " 29  Statistical_report           22110 non-null  int64\n",
      " 30  Result                       22110 non-null  int64\n",
      "dtypes: int64(31)\n",
      "memory usage: 5.2 MB\n"
     ]
    }
   ],
   "source": [
    "data.info()"
   ]
  },
  {
   "cell_type": "code",
   "execution_count": 6,
   "id": "5033f567",
   "metadata": {},
   "outputs": [],
   "source": [
    "data = data.applymap(lambda x: np.nan if x == '?' else x)"
   ]
  },
  {
   "cell_type": "code",
   "execution_count": 7,
   "id": "e8450c12",
   "metadata": {},
   "outputs": [
    {
     "data": {
      "text/plain": [
       "having_IP_Address              0\n",
       "URL_Length                     0\n",
       "Shortining_Service             0\n",
       "having_At_Symbol               0\n",
       "double_slash_redirecting       0\n",
       "Prefix_Suffix                  0\n",
       "having_Sub_Domain              0\n",
       "SSLfinal_State                 0\n",
       "Domain_registeration_length    0\n",
       "Favicon                        0\n",
       "port                           0\n",
       "HTTPS_token                    0\n",
       "Request_URL                    0\n",
       "URL_of_Anchor                  0\n",
       "Links_in_tags                  0\n",
       "SFH                            0\n",
       "Submitting_to_email            0\n",
       "Abnormal_URL                   0\n",
       "Redirect                       0\n",
       "on_mouseover                   0\n",
       "RightClick                     0\n",
       "popUpWidnow                    0\n",
       "Iframe                         0\n",
       "age_of_domain                  0\n",
       "DNSRecord                      0\n",
       "web_traffic                    0\n",
       "Page_Rank                      0\n",
       "Google_Index                   0\n",
       "Links_pointing_to_page         0\n",
       "Statistical_report             0\n",
       "Result                         0\n",
       "dtype: int64"
      ]
     },
     "execution_count": 7,
     "metadata": {},
     "output_type": "execute_result"
    }
   ],
   "source": [
    "data.isnull().sum()"
   ]
  },
  {
   "cell_type": "code",
   "execution_count": 8,
   "id": "6df0eb6a",
   "metadata": {},
   "outputs": [
    {
     "data": {
      "text/html": [
       "<div>\n",
       "<style scoped>\n",
       "    .dataframe tbody tr th:only-of-type {\n",
       "        vertical-align: middle;\n",
       "    }\n",
       "\n",
       "    .dataframe tbody tr th {\n",
       "        vertical-align: top;\n",
       "    }\n",
       "\n",
       "    .dataframe thead th {\n",
       "        text-align: right;\n",
       "    }\n",
       "</style>\n",
       "<table border=\"1\" class=\"dataframe\">\n",
       "  <thead>\n",
       "    <tr style=\"text-align: right;\">\n",
       "      <th></th>\n",
       "      <th>having_IP_Address</th>\n",
       "      <th>URL_Length</th>\n",
       "      <th>Shortining_Service</th>\n",
       "      <th>having_At_Symbol</th>\n",
       "      <th>double_slash_redirecting</th>\n",
       "      <th>Prefix_Suffix</th>\n",
       "      <th>having_Sub_Domain</th>\n",
       "      <th>SSLfinal_State</th>\n",
       "      <th>Domain_registeration_length</th>\n",
       "      <th>Favicon</th>\n",
       "      <th>...</th>\n",
       "      <th>popUpWidnow</th>\n",
       "      <th>Iframe</th>\n",
       "      <th>age_of_domain</th>\n",
       "      <th>DNSRecord</th>\n",
       "      <th>web_traffic</th>\n",
       "      <th>Page_Rank</th>\n",
       "      <th>Google_Index</th>\n",
       "      <th>Links_pointing_to_page</th>\n",
       "      <th>Statistical_report</th>\n",
       "      <th>Result</th>\n",
       "    </tr>\n",
       "  </thead>\n",
       "  <tbody>\n",
       "    <tr>\n",
       "      <th>count</th>\n",
       "      <td>22110.000000</td>\n",
       "      <td>22110.000000</td>\n",
       "      <td>22110.000000</td>\n",
       "      <td>22110.000000</td>\n",
       "      <td>22110.000000</td>\n",
       "      <td>22110.000000</td>\n",
       "      <td>22110.000000</td>\n",
       "      <td>22110.000000</td>\n",
       "      <td>22110.000000</td>\n",
       "      <td>22110.000000</td>\n",
       "      <td>...</td>\n",
       "      <td>22110.000000</td>\n",
       "      <td>22110.000000</td>\n",
       "      <td>22110.000000</td>\n",
       "      <td>22110.000000</td>\n",
       "      <td>22110.000000</td>\n",
       "      <td>22110.000000</td>\n",
       "      <td>22110.000000</td>\n",
       "      <td>22110.000000</td>\n",
       "      <td>22110.000000</td>\n",
       "      <td>22110.000000</td>\n",
       "    </tr>\n",
       "    <tr>\n",
       "      <th>mean</th>\n",
       "      <td>0.313795</td>\n",
       "      <td>-0.633198</td>\n",
       "      <td>0.738761</td>\n",
       "      <td>0.700588</td>\n",
       "      <td>0.741474</td>\n",
       "      <td>-0.734962</td>\n",
       "      <td>0.063953</td>\n",
       "      <td>0.250927</td>\n",
       "      <td>-0.336771</td>\n",
       "      <td>0.628584</td>\n",
       "      <td>...</td>\n",
       "      <td>0.613388</td>\n",
       "      <td>0.816915</td>\n",
       "      <td>0.061239</td>\n",
       "      <td>0.377114</td>\n",
       "      <td>0.287291</td>\n",
       "      <td>-0.483673</td>\n",
       "      <td>0.721574</td>\n",
       "      <td>0.344007</td>\n",
       "      <td>0.719584</td>\n",
       "      <td>0.113885</td>\n",
       "    </tr>\n",
       "    <tr>\n",
       "      <th>std</th>\n",
       "      <td>0.949512</td>\n",
       "      <td>0.766078</td>\n",
       "      <td>0.673983</td>\n",
       "      <td>0.713582</td>\n",
       "      <td>0.670996</td>\n",
       "      <td>0.678124</td>\n",
       "      <td>0.817500</td>\n",
       "      <td>0.911872</td>\n",
       "      <td>0.941608</td>\n",
       "      <td>0.777759</td>\n",
       "      <td>...</td>\n",
       "      <td>0.789800</td>\n",
       "      <td>0.576771</td>\n",
       "      <td>0.998146</td>\n",
       "      <td>0.926188</td>\n",
       "      <td>0.827715</td>\n",
       "      <td>0.875269</td>\n",
       "      <td>0.692353</td>\n",
       "      <td>0.569931</td>\n",
       "      <td>0.694421</td>\n",
       "      <td>0.993516</td>\n",
       "    </tr>\n",
       "    <tr>\n",
       "      <th>min</th>\n",
       "      <td>-1.000000</td>\n",
       "      <td>-1.000000</td>\n",
       "      <td>-1.000000</td>\n",
       "      <td>-1.000000</td>\n",
       "      <td>-1.000000</td>\n",
       "      <td>-1.000000</td>\n",
       "      <td>-1.000000</td>\n",
       "      <td>-1.000000</td>\n",
       "      <td>-1.000000</td>\n",
       "      <td>-1.000000</td>\n",
       "      <td>...</td>\n",
       "      <td>-1.000000</td>\n",
       "      <td>-1.000000</td>\n",
       "      <td>-1.000000</td>\n",
       "      <td>-1.000000</td>\n",
       "      <td>-1.000000</td>\n",
       "      <td>-1.000000</td>\n",
       "      <td>-1.000000</td>\n",
       "      <td>-1.000000</td>\n",
       "      <td>-1.000000</td>\n",
       "      <td>-1.000000</td>\n",
       "    </tr>\n",
       "    <tr>\n",
       "      <th>25%</th>\n",
       "      <td>-1.000000</td>\n",
       "      <td>-1.000000</td>\n",
       "      <td>1.000000</td>\n",
       "      <td>1.000000</td>\n",
       "      <td>1.000000</td>\n",
       "      <td>-1.000000</td>\n",
       "      <td>-1.000000</td>\n",
       "      <td>-1.000000</td>\n",
       "      <td>-1.000000</td>\n",
       "      <td>1.000000</td>\n",
       "      <td>...</td>\n",
       "      <td>1.000000</td>\n",
       "      <td>1.000000</td>\n",
       "      <td>-1.000000</td>\n",
       "      <td>-1.000000</td>\n",
       "      <td>0.000000</td>\n",
       "      <td>-1.000000</td>\n",
       "      <td>1.000000</td>\n",
       "      <td>0.000000</td>\n",
       "      <td>1.000000</td>\n",
       "      <td>-1.000000</td>\n",
       "    </tr>\n",
       "    <tr>\n",
       "      <th>50%</th>\n",
       "      <td>1.000000</td>\n",
       "      <td>-1.000000</td>\n",
       "      <td>1.000000</td>\n",
       "      <td>1.000000</td>\n",
       "      <td>1.000000</td>\n",
       "      <td>-1.000000</td>\n",
       "      <td>0.000000</td>\n",
       "      <td>1.000000</td>\n",
       "      <td>-1.000000</td>\n",
       "      <td>1.000000</td>\n",
       "      <td>...</td>\n",
       "      <td>1.000000</td>\n",
       "      <td>1.000000</td>\n",
       "      <td>1.000000</td>\n",
       "      <td>1.000000</td>\n",
       "      <td>1.000000</td>\n",
       "      <td>-1.000000</td>\n",
       "      <td>1.000000</td>\n",
       "      <td>0.000000</td>\n",
       "      <td>1.000000</td>\n",
       "      <td>1.000000</td>\n",
       "    </tr>\n",
       "    <tr>\n",
       "      <th>75%</th>\n",
       "      <td>1.000000</td>\n",
       "      <td>-1.000000</td>\n",
       "      <td>1.000000</td>\n",
       "      <td>1.000000</td>\n",
       "      <td>1.000000</td>\n",
       "      <td>-1.000000</td>\n",
       "      <td>1.000000</td>\n",
       "      <td>1.000000</td>\n",
       "      <td>1.000000</td>\n",
       "      <td>1.000000</td>\n",
       "      <td>...</td>\n",
       "      <td>1.000000</td>\n",
       "      <td>1.000000</td>\n",
       "      <td>1.000000</td>\n",
       "      <td>1.000000</td>\n",
       "      <td>1.000000</td>\n",
       "      <td>1.000000</td>\n",
       "      <td>1.000000</td>\n",
       "      <td>1.000000</td>\n",
       "      <td>1.000000</td>\n",
       "      <td>1.000000</td>\n",
       "    </tr>\n",
       "    <tr>\n",
       "      <th>max</th>\n",
       "      <td>1.000000</td>\n",
       "      <td>1.000000</td>\n",
       "      <td>1.000000</td>\n",
       "      <td>1.000000</td>\n",
       "      <td>1.000000</td>\n",
       "      <td>1.000000</td>\n",
       "      <td>1.000000</td>\n",
       "      <td>1.000000</td>\n",
       "      <td>1.000000</td>\n",
       "      <td>1.000000</td>\n",
       "      <td>...</td>\n",
       "      <td>1.000000</td>\n",
       "      <td>1.000000</td>\n",
       "      <td>1.000000</td>\n",
       "      <td>1.000000</td>\n",
       "      <td>1.000000</td>\n",
       "      <td>1.000000</td>\n",
       "      <td>1.000000</td>\n",
       "      <td>1.000000</td>\n",
       "      <td>1.000000</td>\n",
       "      <td>1.000000</td>\n",
       "    </tr>\n",
       "  </tbody>\n",
       "</table>\n",
       "<p>8 rows × 31 columns</p>\n",
       "</div>"
      ],
      "text/plain": [
       "       having_IP_Address    URL_Length  Shortining_Service  having_At_Symbol  \\\n",
       "count       22110.000000  22110.000000        22110.000000      22110.000000   \n",
       "mean            0.313795     -0.633198            0.738761          0.700588   \n",
       "std             0.949512      0.766078            0.673983          0.713582   \n",
       "min            -1.000000     -1.000000           -1.000000         -1.000000   \n",
       "25%            -1.000000     -1.000000            1.000000          1.000000   \n",
       "50%             1.000000     -1.000000            1.000000          1.000000   \n",
       "75%             1.000000     -1.000000            1.000000          1.000000   \n",
       "max             1.000000      1.000000            1.000000          1.000000   \n",
       "\n",
       "       double_slash_redirecting  Prefix_Suffix  having_Sub_Domain  \\\n",
       "count              22110.000000   22110.000000       22110.000000   \n",
       "mean                   0.741474      -0.734962           0.063953   \n",
       "std                    0.670996       0.678124           0.817500   \n",
       "min                   -1.000000      -1.000000          -1.000000   \n",
       "25%                    1.000000      -1.000000          -1.000000   \n",
       "50%                    1.000000      -1.000000           0.000000   \n",
       "75%                    1.000000      -1.000000           1.000000   \n",
       "max                    1.000000       1.000000           1.000000   \n",
       "\n",
       "       SSLfinal_State  Domain_registeration_length       Favicon  ...  \\\n",
       "count    22110.000000                 22110.000000  22110.000000  ...   \n",
       "mean         0.250927                    -0.336771      0.628584  ...   \n",
       "std          0.911872                     0.941608      0.777759  ...   \n",
       "min         -1.000000                    -1.000000     -1.000000  ...   \n",
       "25%         -1.000000                    -1.000000      1.000000  ...   \n",
       "50%          1.000000                    -1.000000      1.000000  ...   \n",
       "75%          1.000000                     1.000000      1.000000  ...   \n",
       "max          1.000000                     1.000000      1.000000  ...   \n",
       "\n",
       "        popUpWidnow        Iframe  age_of_domain     DNSRecord   web_traffic  \\\n",
       "count  22110.000000  22110.000000   22110.000000  22110.000000  22110.000000   \n",
       "mean       0.613388      0.816915       0.061239      0.377114      0.287291   \n",
       "std        0.789800      0.576771       0.998146      0.926188      0.827715   \n",
       "min       -1.000000     -1.000000      -1.000000     -1.000000     -1.000000   \n",
       "25%        1.000000      1.000000      -1.000000     -1.000000      0.000000   \n",
       "50%        1.000000      1.000000       1.000000      1.000000      1.000000   \n",
       "75%        1.000000      1.000000       1.000000      1.000000      1.000000   \n",
       "max        1.000000      1.000000       1.000000      1.000000      1.000000   \n",
       "\n",
       "          Page_Rank  Google_Index  Links_pointing_to_page  Statistical_report  \\\n",
       "count  22110.000000  22110.000000            22110.000000        22110.000000   \n",
       "mean      -0.483673      0.721574                0.344007            0.719584   \n",
       "std        0.875269      0.692353                0.569931            0.694421   \n",
       "min       -1.000000     -1.000000               -1.000000           -1.000000   \n",
       "25%       -1.000000      1.000000                0.000000            1.000000   \n",
       "50%       -1.000000      1.000000                0.000000            1.000000   \n",
       "75%        1.000000      1.000000                1.000000            1.000000   \n",
       "max        1.000000      1.000000                1.000000            1.000000   \n",
       "\n",
       "             Result  \n",
       "count  22110.000000  \n",
       "mean       0.113885  \n",
       "std        0.993516  \n",
       "min       -1.000000  \n",
       "25%       -1.000000  \n",
       "50%        1.000000  \n",
       "75%        1.000000  \n",
       "max        1.000000  \n",
       "\n",
       "[8 rows x 31 columns]"
      ]
     },
     "execution_count": 8,
     "metadata": {},
     "output_type": "execute_result"
    }
   ],
   "source": [
    "data.describe()"
   ]
  },
  {
   "cell_type": "markdown",
   "id": "3c6e7515",
   "metadata": {},
   "source": [
    "# Data Visualization"
   ]
  },
  {
   "cell_type": "code",
   "execution_count": 9,
   "id": "e862c0c4",
   "metadata": {},
   "outputs": [
    {
     "data": {
      "text/plain": [
       "<matplotlib.axes._subplots.AxesSubplot at 0x1ae4dd4c788>"
      ]
     },
     "execution_count": 9,
     "metadata": {},
     "output_type": "execute_result"
    },
    {
     "data": {
      "image/png": "[encoded data removed]",
      "text/plain": [
       "<Figure size 432x288 with 1 Axes>"
      ]
     },
     "metadata": {},
     "output_type": "display_data"
    }
   ],
   "source": [
    "df = data\n",
    "sns.set_style('whitegrid')\n",
    "sns.countplot(x='having_At_Symbol',data=df)"
   ]
  },
  {
   "cell_type": "code",
   "execution_count": 10,
   "id": "3ecc98ba",
   "metadata": {},
   "outputs": [
    {
     "data": {
      "text/plain": [
       "<matplotlib.axes._subplots.AxesSubplot at 0x1ae8005a2c8>"
      ]
     },
     "execution_count": 10,
     "metadata": {},
     "output_type": "execute_result"
    },
    {
     "data": {
      "image/png": "[encoded data removed]",
      "text/plain": [
       "<Figure size 432x288 with 1 Axes>"
      ]
     },
     "metadata": {},
     "output_type": "display_data"
    }
   ],
   "source": [
    "sns.countplot(x='having_IP_Address',data=df)"
   ]
  },
  {
   "cell_type": "code",
   "execution_count": 11,
   "id": "ee633855",
   "metadata": {},
   "outputs": [
    {
     "data": {
      "text/plain": [
       "<matplotlib.axes._subplots.AxesSubplot at 0x1ae800c2d08>"
      ]
     },
     "execution_count": 11,
     "metadata": {},
     "output_type": "execute_result"
    },
    {
     "data": {
      "image/png": "[encoded data removed]",
      "text/plain": [
       "<Figure size 432x288 with 1 Axes>"
      ]
     },
     "metadata": {},
     "output_type": "display_data"
    }
   ],
   "source": [
    "sns.countplot(x='Shortining_Service', data=df)"
   ]
  },
  {
   "cell_type": "code",
   "execution_count": 12,
   "id": "0b7999ce",
   "metadata": {},
   "outputs": [
    {
     "data": {
      "text/plain": [
       "<matplotlib.axes._subplots.AxesSubplot at 0x1ae8012d708>"
      ]
     },
     "execution_count": 12,
     "metadata": {},
     "output_type": "execute_result"
    },
    {
     "data": {
      "image/png": "[encoded data removed]",
      "text/plain": [
       "<Figure size 432x288 with 1 Axes>"
      ]
     },
     "metadata": {},
     "output_type": "display_data"
    }
   ],
   "source": [
    "sns.countplot(x='Result', data=df)"
   ]
  },
  {
   "cell_type": "markdown",
   "id": "6cfc9218",
   "metadata": {},
   "source": [
    "# Model Building"
   ]
  },
  {
   "cell_type": "code",
   "execution_count": 13,
   "id": "4b856c66",
   "metadata": {},
   "outputs": [],
   "source": [
    "X = data.drop([\"Result\"],axis =1)\n",
    "y = data[\"Result\"]"
   ]
  },
  {
   "cell_type": "code",
   "execution_count": 14,
   "id": "118d3b60",
   "metadata": {},
   "outputs": [],
   "source": [
    "y_data = LabelBinarizer().fit_transform(y)\n",
    "\n",
    "X=np.array(X)\n",
    "y=np.array(y)\n",
    "\n",
    "if y.dtype == np.dtype('O'):\n",
    "    y = y.astype(float)\n",
    "    \n",
    "if X.dtype == np.dtype('O'):\n",
    "    X = X.astype(float)"
   ]
  },
  {
   "cell_type": "markdown",
   "id": "3d38998c",
   "metadata": {},
   "source": [
    "# CNN"
   ]
  },
  {
   "cell_type": "code",
   "execution_count": 15,
   "id": "cd9919d4",
   "metadata": {},
   "outputs": [],
   "source": [
    "def recall_m(y_true, y_pred):\n",
    "    true_positives = K.sum(K.round(K.clip(y_true * y_pred, 0, 1)))\n",
    "    possible_positives = K.sum(K.round(K.clip(y_true, 0, 1)))\n",
    "    recall = true_positives / (possible_positives + K.epsilon())\n",
    "    return recall\n",
    "\n",
    "def precision_m(y_true, y_pred):\n",
    "    true_positives = K.sum(K.round(K.clip(y_true * y_pred, 0, 1)))\n",
    "    predicted_positives = K.sum(K.round(K.clip(y_pred, 0, 1)))\n",
    "    precision = true_positives / (predicted_positives + K.epsilon())\n",
    "    return precision\n",
    "\n",
    "def f1_score(y_true, y_pred):\n",
    "    precision = precision_m(y_true, y_pred)\n",
    "    recall = recall_m(y_true, y_pred)\n",
    "    \n",
    "    return 2*((precision*recall)/(precision+recall+K.epsilon()))"
   ]
  },
  {
   "cell_type": "code",
   "execution_count": 16,
   "id": "dccb2d91",
   "metadata": {},
   "outputs": [
    {
     "name": "stdout",
     "output_type": "stream",
     "text": [
      "(17688, 30) \n",
      " (4422, 30)\n"
     ]
    }
   ],
   "source": [
    "X_train, X_test, y_train, y_test = train_test_split(X,y, test_size=0.20, random_state=42)\n",
    "print(X_train.shape,'\\n',X_test.shape)"
   ]
  },
  {
   "cell_type": "code",
   "execution_count": 17,
   "id": "7f535491",
   "metadata": {},
   "outputs": [
    {
     "data": {
      "text/plain": [
       "(4422, 30, 1)"
      ]
     },
     "execution_count": 17,
     "metadata": {},
     "output_type": "execute_result"
    }
   ],
   "source": [
    "X_train, X_test, y_train, y_test = train_test_split(X,y, test_size=0.20, random_state=42)\n",
    "X_train = np.reshape(X_train, (X_train.shape[0], X_train.shape[1], 1))\n",
    "X_train.shape\n",
    "X_test = np.reshape(X_test, (X_test.shape[0], X_test.shape[1], 1))\n",
    "X_test.shape"
   ]
  },
  {
   "cell_type": "code",
   "execution_count": 18,
   "id": "37cd77d9",
   "metadata": {},
   "outputs": [],
   "source": [
    "y_train=to_categorical(y_train)\n",
    "y_test=to_categorical(y_test)"
   ]
  },
  {
   "cell_type": "code",
   "execution_count": 19,
   "id": "479694c3",
   "metadata": {},
   "outputs": [
    {
     "data": {
      "text/plain": [
       "array([[0, 1],\n",
       "       [0, 1],\n",
       "       [0, 1],\n",
       "       ...,\n",
       "       [0, 1],\n",
       "       [0, 1],\n",
       "       [0, 1]])"
      ]
     },
     "execution_count": 19,
     "metadata": {},
     "output_type": "execute_result"
    }
   ],
   "source": [
    "y_train = LabelBinarizer().fit_transform(y_train)\n",
    "y_train\n",
    "y_test = LabelBinarizer().fit_transform(y_test)\n",
    "y_test"
   ]
  },
  {
   "cell_type": "code",
   "execution_count": 20,
   "id": "b5571e03",
   "metadata": {},
   "outputs": [],
   "source": [
    "model = Sequential() \n",
    "model.add(Conv1D(32, 3, padding=\"same\",input_shape = (X_train.shape[1], 1), activation='relu'))\n",
    "model.add(MaxPool1D(pool_size=(4)))  \n",
    "model.add(Dropout(0.2))\n",
    "model.add(Conv1D(32, 3, padding=\"same\", activation='relu'))\n",
    "model.add(MaxPool1D(pool_size=(4)))  \n",
    "model.add(Dropout(0.2))\n",
    "model.add(Flatten())\n",
    "model.add(Dense(units=50))\n",
    "model.add(Dense(units=2,activation='softmax'))"
   ]
  },
  {
   "cell_type": "code",
   "execution_count": 21,
   "id": "4bb62c7e",
   "metadata": {},
   "outputs": [
    {
     "name": "stdout",
     "output_type": "stream",
     "text": [
      "Model: \"sequential\"\n",
      "_________________________________________________________________\n",
      "Layer (type)                 Output Shape              Param #   \n",
      "=================================================================\n",
      "conv1d (Conv1D)              (None, 30, 32)            128       \n",
      "_________________________________________________________________\n",
      "max_pooling1d (MaxPooling1D) (None, 7, 32)             0         \n",
      "_________________________________________________________________\n",
      "dropout (Dropout)            (None, 7, 32)             0         \n",
      "_________________________________________________________________\n",
      "conv1d_1 (Conv1D)            (None, 7, 32)             3104      \n",
      "_________________________________________________________________\n",
      "max_pooling1d_1 (MaxPooling1 (None, 1, 32)             0         \n",
      "_________________________________________________________________\n",
      "dropout_1 (Dropout)          (None, 1, 32)             0         \n",
      "_________________________________________________________________\n",
      "flatten (Flatten)            (None, 32)                0         \n",
      "_________________________________________________________________\n",
      "dense (Dense)                (None, 50)                1650      \n",
      "_________________________________________________________________\n",
      "dense_1 (Dense)              (None, 2)                 102       \n",
      "=================================================================\n",
      "Total params: 4,984\n",
      "Trainable params: 4,984\n",
      "Non-trainable params: 0\n",
      "_________________________________________________________________\n"
     ]
    }
   ],
   "source": [
    "model.compile(loss='binary_crossentropy', optimizer='adam', metrics=['accuracy', f1_score, recall_m, precision_m])\n",
    "model.summary()"
   ]
  },
  {
   "cell_type": "code",
   "execution_count": 22,
   "id": "1909625e",
   "metadata": {},
   "outputs": [
    {
     "name": "stdout",
     "output_type": "stream",
     "text": [
      "Epoch 1/10\n",
      "222/222 [==============================] - 8s 6ms/step - loss: 0.0379 - accuracy: 0.9890 - f1_score: 0.9891 - recall_m: 0.9891 - precision_m: 0.9891 - val_loss: 2.0581e-04 - val_accuracy: 1.0000 - val_f1_score: 1.0000 - val_recall_m: 1.0000 - val_precision_m: 1.0000\n",
      "Epoch 2/10\n",
      "222/222 [==============================] - 1s 4ms/step - loss: 1.8070e-04 - accuracy: 1.0000 - f1_score: 1.0000 - recall_m: 1.0000 - precision_m: 1.0000 - val_loss: 5.3104e-05 - val_accuracy: 1.0000 - val_f1_score: 1.0000 - val_recall_m: 1.0000 - val_precision_m: 1.0000\n",
      "Epoch 3/10\n",
      "222/222 [==============================] - 1s 4ms/step - loss: 6.9423e-05 - accuracy: 1.0000 - f1_score: 1.0000 - recall_m: 1.0000 - precision_m: 1.0000 - val_loss: 2.2419e-05 - val_accuracy: 1.0000 - val_f1_score: 1.0000 - val_recall_m: 1.0000 - val_precision_m: 1.0000\n",
      "Epoch 4/10\n",
      "222/222 [==============================] - 1s 4ms/step - loss: 4.2557e-05 - accuracy: 1.0000 - f1_score: 1.0000 - recall_m: 1.0000 - precision_m: 1.0000 - val_loss: 1.1305e-05 - val_accuracy: 1.0000 - val_f1_score: 1.0000 - val_recall_m: 1.0000 - val_precision_m: 1.0000\n",
      "Epoch 5/10\n",
      "222/222 [==============================] - 1s 5ms/step - loss: 2.3544e-05 - accuracy: 1.0000 - f1_score: 1.0000 - recall_m: 1.0000 - precision_m: 1.0000 - val_loss: 6.7303e-06 - val_accuracy: 1.0000 - val_f1_score: 1.0000 - val_recall_m: 1.0000 - val_precision_m: 1.0000\n",
      "Epoch 6/10\n",
      "222/222 [==============================] - 1s 5ms/step - loss: 1.6172e-05 - accuracy: 1.0000 - f1_score: 1.0000 - recall_m: 1.0000 - precision_m: 1.0000 - val_loss: 4.3590e-06 - val_accuracy: 1.0000 - val_f1_score: 1.0000 - val_recall_m: 1.0000 - val_precision_m: 1.0000\n",
      "Epoch 7/10\n",
      "222/222 [==============================] - 1s 5ms/step - loss: 1.1469e-05 - accuracy: 1.0000 - f1_score: 1.0000 - recall_m: 1.0000 - precision_m: 1.0000 - val_loss: 2.9876e-06 - val_accuracy: 1.0000 - val_f1_score: 1.0000 - val_recall_m: 1.0000 - val_precision_m: 1.0000\n",
      "Epoch 8/10\n",
      "222/222 [==============================] - 1s 5ms/step - loss: 8.0782e-06 - accuracy: 1.0000 - f1_score: 1.0000 - recall_m: 1.0000 - precision_m: 1.0000 - val_loss: 2.1606e-06 - val_accuracy: 1.0000 - val_f1_score: 1.0000 - val_recall_m: 1.0000 - val_precision_m: 1.0000\n",
      "Epoch 9/10\n",
      "222/222 [==============================] - 1s 4ms/step - loss: 7.4474e-06 - accuracy: 1.0000 - f1_score: 1.0000 - recall_m: 1.0000 - precision_m: 1.0000 - val_loss: 1.5532e-06 - val_accuracy: 1.0000 - val_f1_score: 1.0000 - val_recall_m: 1.0000 - val_precision_m: 1.0000\n",
      "Epoch 10/10\n",
      "222/222 [==============================] - 1s 4ms/step - loss: 5.2947e-06 - accuracy: 1.0000 - f1_score: 1.0000 - recall_m: 1.0000 - precision_m: 1.0000 - val_loss: 1.1697e-06 - val_accuracy: 1.0000 - val_f1_score: 1.0000 - val_recall_m: 1.0000 - val_precision_m: 1.0000\n"
     ]
    }
   ],
   "source": [
    "history = model.fit(X_train, y_train, epochs=10, batch_size=64,validation_split=0.2)"
   ]
  },
  {
   "cell_type": "code",
   "execution_count": 23,
   "id": "bcbef555",
   "metadata": {},
   "outputs": [],
   "source": [
    "from sklearn.metrics import accuracy_score, precision_score, recall_score, f1_score\n",
    "y_pred = model.predict(X_test)\n",
    "\n",
    "\n",
    "y_pred_labels = np.argmax(y_pred, axis=1)\n",
    "y_test_labels = np.argmax(y_test, axis=1)\n",
    "\n",
    "accuracy = accuracy_score(y_test_labels, y_pred_labels)\n",
    "precision = precision_score(y_test_labels, y_pred_labels)\n",
    "recall = recall_score(y_test_labels, y_pred_labels)\n",
    "f1 = f1_score(y_test_labels, y_pred_labels)"
   ]
  },
  {
   "cell_type": "code",
   "execution_count": 24,
   "id": "c0795176",
   "metadata": {},
   "outputs": [
    {
     "data": {
      "image/png": "[encoded data removed]",
      "text/plain": [
       "<Figure size 432x288 with 1 Axes>"
      ]
     },
     "metadata": {},
     "output_type": "display_data"
    },
    {
     "data": {
      "image/png": "[encoded data removed]",
      "text/plain": [
       "<Figure size 432x288 with 1 Axes>"
      ]
     },
     "metadata": {},
     "output_type": "display_data"
    }
   ],
   "source": [
    "plt.plot(history.history['loss'])\n",
    "plt.plot(history.history['val_loss'])\n",
    "plt.title('Model loss')\n",
    "plt.ylabel('Loss')\n",
    "plt.xlabel('Epoch')\n",
    "plt.legend(['Train', 'Validation'], loc='upper left')\n",
    "plt.show()\n",
    "\n",
    "\n",
    "# Plot training & validation accuracy values\n",
    "plt.plot(history.history['accuracy'])\n",
    "plt.plot(history.history['val_accuracy'])\n",
    "plt.title('Model accuracy')\n",
    "plt.ylabel('Accuracy')\n",
    "plt.xlabel('Epoch')\n",
    "plt.legend(['Train', 'Validation'], loc='upper left')\n",
    "plt.show()"
   ]
  },
  {
   "cell_type": "markdown",
   "id": "80952c23",
   "metadata": {},
   "source": [
    "# RNN"
   ]
  },
  {
   "cell_type": "code",
   "execution_count": 25,
   "id": "2655f83c",
   "metadata": {},
   "outputs": [],
   "source": [
    "def recall_m(y_true, y_pred):\n",
    "    true_positives = K.sum(K.round(K.clip(y_true * y_pred, 0, 1)))\n",
    "    possible_positives = K.sum(K.round(K.clip(y_true, 0, 1)))\n",
    "    recall = true_positives / (possible_positives + K.epsilon())\n",
    "    return recall\n",
    "\n",
    "def precision_m(y_true, y_pred):\n",
    "    true_positives = K.sum(K.round(K.clip(y_true * y_pred, 0, 1)))\n",
    "    predicted_positives = K.sum(K.round(K.clip(y_pred, 0, 1)))\n",
    "    precision = true_positives / (predicted_positives + K.epsilon())\n",
    "    return precision\n",
    "\n",
    "def f1_score(y_true, y_pred):\n",
    "    precision = precision_m(y_true, y_pred)\n",
    "    recall = recall_m(y_true, y_pred)\n",
    "    \n",
    "    return 2*((precision*recall)/(precision+recall+K.epsilon()))"
   ]
  },
  {
   "cell_type": "code",
   "execution_count": 26,
   "id": "50620da1",
   "metadata": {},
   "outputs": [
    {
     "name": "stdout",
     "output_type": "stream",
     "text": [
      "(17688, 30) \n",
      " (4422, 30)\n"
     ]
    }
   ],
   "source": [
    "X_train, X_test, y_train, y_test = train_test_split(X,y, test_size=0.20, random_state=42)\n",
    "print(X_train.shape,'\\n',X_test.shape)\n",
    "\n",
    "\n",
    "X_train = np.reshape(X_train, ( X_train.shape[0], 1 , X_train.shape[1] ))\n",
    "X_test = np.reshape(X_test, ( X_test.shape[0], 1,  X_test.shape[1] ))\n",
    "\n",
    "\n",
    "\n",
    "y_train=to_categorical(y_train)\n",
    "y_test=to_categorical(y_test)"
   ]
  },
  {
   "cell_type": "code",
   "execution_count": 27,
   "id": "2ddccf9c",
   "metadata": {},
   "outputs": [],
   "source": [
    "model = Sequential() \n",
    "model.add(SimpleRNN(64,return_sequences=True,input_shape = (1, X_train.shape[2])))\n",
    "model.add(Dropout(0.2))\n",
    "model.add(SimpleRNN(64,return_sequences=True))\n",
    "model.add(Dropout(0.2))\n",
    "model.add(SimpleRNN(64,return_sequences=True))\n",
    "model.add(Flatten())\n",
    "model.add(Dense(units=50))\n",
    "model.add(Dense(units=2,activation='softmax'))"
   ]
  },
  {
   "cell_type": "code",
   "execution_count": 28,
   "id": "b7a95959",
   "metadata": {},
   "outputs": [
    {
     "name": "stdout",
     "output_type": "stream",
     "text": [
      "Model: \"sequential_1\"\n",
      "_________________________________________________________________\n",
      "Layer (type)                 Output Shape              Param #   \n",
      "=================================================================\n",
      "simple_rnn (SimpleRNN)       (None, 1, 64)             6080      \n",
      "_________________________________________________________________\n",
      "dropout_2 (Dropout)          (None, 1, 64)             0         \n",
      "_________________________________________________________________\n",
      "simple_rnn_1 (SimpleRNN)     (None, 1, 64)             8256      \n",
      "_________________________________________________________________\n",
      "dropout_3 (Dropout)          (None, 1, 64)             0         \n",
      "_________________________________________________________________\n",
      "simple_rnn_2 (SimpleRNN)     (None, 1, 64)             8256      \n",
      "_________________________________________________________________\n",
      "flatten_1 (Flatten)          (None, 64)                0         \n",
      "_________________________________________________________________\n",
      "dense_2 (Dense)              (None, 50)                3250      \n",
      "_________________________________________________________________\n",
      "dense_3 (Dense)              (None, 2)                 102       \n",
      "=================================================================\n",
      "Total params: 25,944\n",
      "Trainable params: 25,944\n",
      "Non-trainable params: 0\n",
      "_________________________________________________________________\n"
     ]
    }
   ],
   "source": [
    "model.compile(loss='categorical_crossentropy', optimizer='adam', metrics=['accuracy', f1_score, recall_m, precision_m])\n",
    "model.summary()"
   ]
  },
  {
   "cell_type": "code",
   "execution_count": 29,
   "id": "ccfd0fe5",
   "metadata": {},
   "outputs": [
    {
     "name": "stdout",
     "output_type": "stream",
     "text": [
      "Epoch 1/10\n",
      "222/222 [==============================] - 3s 9ms/step - loss: 0.0396 - accuracy: 0.9819 - f1_score: 0.9820 - recall_m: 0.9820 - precision_m: 0.9820 - val_loss: 0.0015 - val_accuracy: 0.9994 - val_f1_score: 0.9994 - val_recall_m: 0.9994 - val_precision_m: 0.9994\n",
      "Epoch 2/10\n",
      "222/222 [==============================] - 1s 7ms/step - loss: 0.0016 - accuracy: 0.9996 - f1_score: 0.9996 - recall_m: 0.9996 - precision_m: 0.9996 - val_loss: 8.0476e-05 - val_accuracy: 1.0000 - val_f1_score: 1.0000 - val_recall_m: 1.0000 - val_precision_m: 1.0000\n",
      "Epoch 3/10\n",
      "222/222 [==============================] - 2s 7ms/step - loss: 3.4764e-04 - accuracy: 0.9999 - f1_score: 0.9999 - recall_m: 0.9999 - precision_m: 0.9999 - val_loss: 4.0512e-05 - val_accuracy: 1.0000 - val_f1_score: 1.0000 - val_recall_m: 1.0000 - val_precision_m: 1.0000\n",
      "Epoch 4/10\n",
      "222/222 [==============================] - 1s 7ms/step - loss: 2.0492e-04 - accuracy: 0.9999 - f1_score: 0.9999 - recall_m: 0.9999 - precision_m: 0.9999 - val_loss: 9.5551e-06 - val_accuracy: 1.0000 - val_f1_score: 1.0000 - val_recall_m: 1.0000 - val_precision_m: 1.0000\n",
      "Epoch 5/10\n",
      "222/222 [==============================] - 1s 7ms/step - loss: 7.3201e-05 - accuracy: 1.0000 - f1_score: 1.0000 - recall_m: 1.0000 - precision_m: 1.0000 - val_loss: 5.7021e-06 - val_accuracy: 1.0000 - val_f1_score: 1.0000 - val_recall_m: 1.0000 - val_precision_m: 1.0000\n",
      "Epoch 6/10\n",
      "222/222 [==============================] - 1s 7ms/step - loss: 1.1497e-04 - accuracy: 1.0000 - f1_score: 1.0000 - recall_m: 1.0000 - precision_m: 1.0000 - val_loss: 3.4393e-06 - val_accuracy: 1.0000 - val_f1_score: 1.0000 - val_recall_m: 1.0000 - val_precision_m: 1.0000\n",
      "Epoch 7/10\n",
      "222/222 [==============================] - 1s 7ms/step - loss: 7.4009e-05 - accuracy: 1.0000 - f1_score: 1.0000 - recall_m: 1.0000 - precision_m: 1.0000 - val_loss: 1.2514e-06 - val_accuracy: 1.0000 - val_f1_score: 1.0000 - val_recall_m: 1.0000 - val_precision_m: 1.0000\n",
      "Epoch 8/10\n",
      "222/222 [==============================] - 2s 7ms/step - loss: 1.7225e-05 - accuracy: 1.0000 - f1_score: 1.0000 - recall_m: 1.0000 - precision_m: 1.0000 - val_loss: 8.3924e-07 - val_accuracy: 1.0000 - val_f1_score: 1.0000 - val_recall_m: 1.0000 - val_precision_m: 1.0000\n",
      "Epoch 9/10\n",
      "222/222 [==============================] - 2s 7ms/step - loss: 2.0916e-05 - accuracy: 1.0000 - f1_score: 1.0000 - recall_m: 1.0000 - precision_m: 1.0000 - val_loss: 7.3146e-07 - val_accuracy: 1.0000 - val_f1_score: 1.0000 - val_recall_m: 1.0000 - val_precision_m: 1.0000\n",
      "Epoch 10/10\n",
      "222/222 [==============================] - 2s 7ms/step - loss: 6.3530e-06 - accuracy: 1.0000 - f1_score: 1.0000 - recall_m: 1.0000 - precision_m: 1.0000 - val_loss: 6.3962e-07 - val_accuracy: 1.0000 - val_f1_score: 1.0000 - val_recall_m: 1.0000 - val_precision_m: 1.0000\n"
     ]
    }
   ],
   "source": [
    "history = model.fit(X_train, y_train, epochs=10, batch_size=64,validation_split=0.2)"
   ]
  },
  {
   "cell_type": "code",
   "execution_count": 30,
   "id": "57ee7e3b",
   "metadata": {},
   "outputs": [],
   "source": [
    "from sklearn.metrics import accuracy_score, precision_score, recall_score, f1_score\n",
    "y_pred = model.predict(X_test)\n",
    "\n",
    "\n",
    "y_pred_labels = np.argmax(y_pred, axis=1)\n",
    "y_test_labels = np.argmax(y_test, axis=1)\n",
    "\n",
    "accuracy1 = accuracy_score(y_test_labels, y_pred_labels)\n",
    "precision1 = precision_score(y_test_labels, y_pred_labels)\n",
    "recall1 = recall_score(y_test_labels, y_pred_labels)\n",
    "f11 = f1_score(y_test_labels, y_pred_labels)"
   ]
  },
  {
   "cell_type": "code",
   "execution_count": 31,
   "id": "70f3f7e7",
   "metadata": {},
   "outputs": [
    {
     "data": {
      "image/png": "[encoded data removed]",
      "text/plain": [
       "<Figure size 432x288 with 1 Axes>"
      ]
     },
     "metadata": {},
     "output_type": "display_data"
    },
    {
     "data": {
      "image/png": "[encoded data removed]",
      "text/plain": [
       "<Figure size 432x288 with 1 Axes>"
      ]
     },
     "metadata": {},
     "output_type": "display_data"
    }
   ],
   "source": [
    "plt.plot(history.history['loss'])\n",
    "plt.plot(history.history['val_loss'])\n",
    "plt.title('Model loss')\n",
    "plt.ylabel('Loss')\n",
    "plt.xlabel('Epoch')\n",
    "plt.legend(['Train', 'Validation'], loc='upper left')\n",
    "plt.show()\n",
    "\n",
    "\n",
    "# Plot training & validation accuracy values\n",
    "plt.plot(history.history['accuracy'])\n",
    "plt.plot(history.history['val_accuracy'])\n",
    "plt.title('Model accuracy')\n",
    "plt.ylabel('Accuracy')\n",
    "plt.xlabel('Epoch')\n",
    "plt.legend(['Train', 'Validation'], loc='upper left')\n",
    "plt.show()"
   ]
  },
  {
   "cell_type": "markdown",
   "id": "f8045512",
   "metadata": {},
   "source": [
    "# Logistic Regression"
   ]
  },
  {
   "cell_type": "code",
   "execution_count": 32,
   "id": "7848c2e9",
   "metadata": {},
   "outputs": [],
   "source": [
    "X = data.drop([\"Result\"],axis =1)\n",
    "y = data[\"Result\"]\n",
    "X_train, X_test, y_train, y_test = train_test_split(X,y, test_size=0.20, random_state=42)"
   ]
  },
  {
   "cell_type": "code",
   "execution_count": 33,
   "id": "08056073",
   "metadata": {},
   "outputs": [
    {
     "name": "stdout",
     "output_type": "stream",
     "text": [
      "*Accuracy score for LR:  0.925599276345545 \n",
      "\n",
      "*Confusion Matrix for LR: \n",
      "[[1794  170]\n",
      " [ 159 2299]]\n",
      "*Classification Report for LR: \n",
      "              precision    recall  f1-score   support\n",
      "\n",
      "          -1       0.92      0.91      0.92      1964\n",
      "           1       0.93      0.94      0.93      2458\n",
      "\n",
      "    accuracy                           0.93      4422\n",
      "   macro avg       0.92      0.92      0.92      4422\n",
      "weighted avg       0.93      0.93      0.93      4422\n",
      "\n"
     ]
    }
   ],
   "source": [
    "from sklearn.linear_model import LogisticRegression\n",
    "LR = LogisticRegression()\n",
    "LR.fit(X_train, y_train)\n",
    "predictions = LR.predict(X_test)\n",
    "val = (accuracy_score(y_test, predictions))\n",
    "print(\"*Accuracy score for LR: \", val, \"\\n\")\n",
    "print(\"*Confusion Matrix for LR: \")\n",
    "print(confusion_matrix(y_test, predictions))\n",
    "print(\"*Classification Report for LR: \")\n",
    "print(classification_report(y_test, predictions))"
   ]
  },
  {
   "cell_type": "code",
   "execution_count": 34,
   "id": "fd52762a",
   "metadata": {},
   "outputs": [
    {
     "name": "stdout",
     "output_type": "stream",
     "text": [
      "Scores for each fold are: [0.92085924 0.93216507 0.92085924 0.90898813 0.92594686 0.93159977\n",
      " 0.93838327 0.92820803 0.93552036 0.93269231]\n",
      "Average score: 0.93\n"
     ]
    }
   ],
   "source": [
    "lr_prec = precision_score(y_test, predictions,average='weighted')\n",
    "lr_rec = recall_score(y_test, predictions,average='weighted')\n",
    "lr_f1 = f1_score(y_test, predictions,average='weighted')\n",
    "\n",
    "kf = KFold(n_splits=10)\n",
    "\n",
    "score_lr  = cross_val_score(LR, X_train, y_train, cv= kf, scoring=\"accuracy\")\n",
    "print(f'Scores for each fold are: {score_lr}')\n",
    "print(f'Average score: {\"{:.2f}\".format(score_lr.mean())}')"
   ]
  },
  {
   "cell_type": "markdown",
   "id": "ec5cbd8d",
   "metadata": {},
   "source": [
    "# Decision Tree"
   ]
  },
  {
   "cell_type": "code",
   "execution_count": 35,
   "id": "b4926ac6",
   "metadata": {},
   "outputs": [
    {
     "name": "stdout",
     "output_type": "stream",
     "text": [
      "*Accuracy score for DT:  0.9041157847127996 \n",
      "\n",
      "*Confusion Matrix for DT: \n",
      "[[1776  188]\n",
      " [ 236 2222]]\n",
      "*Classification Report for DT: \n",
      "              precision    recall  f1-score   support\n",
      "\n",
      "          -1       0.88      0.90      0.89      1964\n",
      "           1       0.92      0.90      0.91      2458\n",
      "\n",
      "    accuracy                           0.90      4422\n",
      "   macro avg       0.90      0.90      0.90      4422\n",
      "weighted avg       0.90      0.90      0.90      4422\n",
      "\n"
     ]
    }
   ],
   "source": [
    "from sklearn.tree import DecisionTreeClassifier\n",
    "DT = DecisionTreeClassifier(max_depth =3, random_state = 42)\n",
    "DT.fit(X_train, y_train)\n",
    "predictions = DT.predict(X_test)\n",
    "val1 = (accuracy_score(y_test, predictions))\n",
    "print(\"*Accuracy score for DT: \", val1, \"\\n\")\n",
    "print(\"*Confusion Matrix for DT: \")\n",
    "print(confusion_matrix(y_test, predictions))\n",
    "print(\"*Classification Report for DT: \")\n",
    "print(classification_report(y_test, predictions))"
   ]
  },
  {
   "cell_type": "code",
   "execution_count": 36,
   "id": "1937b244",
   "metadata": {},
   "outputs": [
    {
     "name": "stdout",
     "output_type": "stream",
     "text": [
      "Scores for each fold are: [0.89089881 0.92651215 0.91520633 0.89711702 0.90729226 0.91464104\n",
      " 0.92481628 0.91803279 0.92590498 0.90214932]\n",
      "Average score: 0.91\n"
     ]
    }
   ],
   "source": [
    "dt_prec = precision_score(y_test, predictions,average='weighted')\n",
    "dt_rec = recall_score(y_test, predictions,average='weighted')\n",
    "dt_f1 = f1_score(y_test, predictions,average='weighted')\n",
    "\n",
    "kf = KFold(n_splits=10)\n",
    "\n",
    "score_dt = cross_val_score(DT, X_train, y_train, cv= kf, scoring=\"accuracy\")\n",
    "print(f'Scores for each fold are: {score_dt}')\n",
    "print(f'Average score: {\"{:.2f}\".format(score_dt.mean())}')"
   ]
  },
  {
   "cell_type": "markdown",
   "id": "b8706fa4",
   "metadata": {},
   "source": [
    "# SVM"
   ]
  },
  {
   "cell_type": "code",
   "execution_count": 37,
   "id": "d321519e",
   "metadata": {},
   "outputs": [
    {
     "name": "stdout",
     "output_type": "stream",
     "text": [
      "*Accuracy score for SVM:  0.9534147444595206 \n",
      "\n",
      "*Confusion Matrix for SVM: \n",
      "[[1845  119]\n",
      " [  87 2371]]\n",
      "*Classification Report for SVM: \n",
      "              precision    recall  f1-score   support\n",
      "\n",
      "          -1       0.95      0.94      0.95      1964\n",
      "           1       0.95      0.96      0.96      2458\n",
      "\n",
      "    accuracy                           0.95      4422\n",
      "   macro avg       0.95      0.95      0.95      4422\n",
      "weighted avg       0.95      0.95      0.95      4422\n",
      "\n"
     ]
    }
   ],
   "source": [
    "from sklearn.svm import SVC\n",
    "SVM = SVC()\n",
    "SVM.fit(X_train, y_train)\n",
    "predictions = SVM.predict(X_test)\n",
    "val2 = (accuracy_score(y_test, predictions))\n",
    "print(\"*Accuracy score for SVM: \", val2, \"\\n\")\n",
    "print(\"*Confusion Matrix for SVM: \")\n",
    "print(confusion_matrix(y_test, predictions))\n",
    "print(\"*Classification Report for SVM: \")\n",
    "print(classification_report(y_test, predictions))"
   ]
  },
  {
   "cell_type": "code",
   "execution_count": 38,
   "id": "39ab1b1a",
   "metadata": {},
   "outputs": [
    {
     "name": "stdout",
     "output_type": "stream",
     "text": [
      "Scores for each fold are: [0.95251555 0.96042962 0.95251555 0.94460147 0.95081967 0.95703787\n",
      " 0.9683437  0.95421142 0.96210407 0.95757919]\n",
      "Average score: 0.96\n"
     ]
    }
   ],
   "source": [
    "svm_prec = precision_score(y_test, predictions,average='weighted')\n",
    "svm_rec = recall_score(y_test, predictions,average='weighted')\n",
    "svm_f1 = f1_score(y_test, predictions,average='weighted')\n",
    "\n",
    "kf = KFold(n_splits=10)\n",
    "\n",
    "score_svm = cross_val_score(SVM, X_train, y_train, cv= kf, scoring=\"accuracy\")\n",
    "print(f'Scores for each fold are: {score_svm}')\n",
    "print(f'Average score: {\"{:.2f}\".format(score_svm.mean())}')"
   ]
  },
  {
   "cell_type": "markdown",
   "id": "79c70068",
   "metadata": {},
   "source": [
    "## KNN"
   ]
  },
  {
   "cell_type": "code",
   "execution_count": 39,
   "id": "f22cd972",
   "metadata": {},
   "outputs": [
    {
     "name": "stdout",
     "output_type": "stream",
     "text": [
      "*Accuracy score for KNN:  0.9663048394391678 \n",
      "\n",
      "*Confusion Matrix for KNN: \n",
      "[[1882   82]\n",
      " [  67 2391]]\n",
      "*Classification Report for KNN: \n",
      "              precision    recall  f1-score   support\n",
      "\n",
      "          -1       0.97      0.96      0.96      1964\n",
      "           1       0.97      0.97      0.97      2458\n",
      "\n",
      "    accuracy                           0.97      4422\n",
      "   macro avg       0.97      0.97      0.97      4422\n",
      "weighted avg       0.97      0.97      0.97      4422\n",
      "\n"
     ]
    }
   ],
   "source": [
    "from sklearn.neighbors import KNeighborsClassifier\n",
    "KNN = KNeighborsClassifier(n_neighbors=3)\n",
    "KNN.fit(X_train, y_train)\n",
    "predictions = KNN.predict(X_test)\n",
    "val3 = (accuracy_score(y_test, predictions))\n",
    "print(\"*Accuracy score for KNN: \", val3, \"\\n\")\n",
    "print(\"*Confusion Matrix for KNN: \")\n",
    "print(confusion_matrix(y_test, predictions))\n",
    "print(\"*Classification Report for KNN: \")\n",
    "print(classification_report(y_test, predictions))"
   ]
  },
  {
   "cell_type": "code",
   "execution_count": 40,
   "id": "6ee79d82",
   "metadata": {},
   "outputs": [
    {
     "name": "stdout",
     "output_type": "stream",
     "text": [
      "Scores for each fold are: [0.96947428 0.97173544 0.96382137 0.96438666 0.96721311 0.97173544\n",
      " 0.97399661 0.97399661 0.97002262 0.96436652]\n",
      "Average score: 0.97\n"
     ]
    }
   ],
   "source": [
    "knn_prec = precision_score(y_test, predictions,average='weighted')\n",
    "knn_rec = recall_score(y_test, predictions,average='weighted')\n",
    "knn_f1 = f1_score(y_test, predictions,average='weighted')\n",
    "\n",
    "kf = KFold(n_splits=10)\n",
    "\n",
    "score_knn = cross_val_score(KNN, X_train, y_train, cv= kf, scoring=\"accuracy\")\n",
    "print(f'Scores for each fold are: {score_knn}')\n",
    "print(f'Average score: {\"{:.2f}\".format(score_knn.mean())}')"
   ]
  },
  {
   "cell_type": "markdown",
   "id": "aaa5213f",
   "metadata": {},
   "source": [
    "# Gaussian Naive Bayes"
   ]
  },
  {
   "cell_type": "code",
   "execution_count": 41,
   "id": "3787ff33",
   "metadata": {},
   "outputs": [
    {
     "name": "stdout",
     "output_type": "stream",
     "text": [
      "*Accuracy score for NB:  0.6040253279059249 \n",
      "\n",
      "*Confusion Matrix for NB: \n",
      "[[1962    2]\n",
      " [1749  709]]\n",
      "*Classification Report for NB: \n",
      "              precision    recall  f1-score   support\n",
      "\n",
      "          -1       0.53      1.00      0.69      1964\n",
      "           1       1.00      0.29      0.45      2458\n",
      "\n",
      "    accuracy                           0.60      4422\n",
      "   macro avg       0.76      0.64      0.57      4422\n",
      "weighted avg       0.79      0.60      0.56      4422\n",
      "\n"
     ]
    }
   ],
   "source": [
    "from sklearn.naive_bayes import GaussianNB\n",
    "NB = GaussianNB()\n",
    "NB.fit(X_train, y_train)\n",
    "predictions = NB.predict(X_test)\n",
    "val4 = (accuracy_score(y_test, predictions))\n",
    "print(\"*Accuracy score for NB: \", val4, \"\\n\")\n",
    "print(\"*Confusion Matrix for NB: \")\n",
    "print(confusion_matrix(y_test, predictions))\n",
    "print(\"*Classification Report for NB: \")\n",
    "print(classification_report(y_test, predictions))"
   ]
  },
  {
   "cell_type": "code",
   "execution_count": 42,
   "id": "97abac62",
   "metadata": {},
   "outputs": [
    {
     "name": "stdout",
     "output_type": "stream",
     "text": [
      "Scores for each fold are: [0.60712267 0.59977388 0.59977388 0.6240814  0.60316563 0.59581685\n",
      " 0.59185981 0.59751272 0.5989819  0.61651584]\n",
      "Average score: 0.60\n"
     ]
    }
   ],
   "source": [
    "nb_prec = precision_score(y_test, predictions,average='weighted')\n",
    "nb_rec = recall_score(y_test, predictions,average='weighted')\n",
    "nb_f1 = f1_score(y_test, predictions,average='weighted')\n",
    "\n",
    "kf = KFold(n_splits=10)\n",
    "\n",
    "score_gn = cross_val_score(NB, X_train, y_train, cv= kf, scoring=\"accuracy\")\n",
    "print(f'Scores for each fold are: {score_gn}')\n",
    "print(f'Average score: {\"{:.2f}\".format(score_gn.mean())}')"
   ]
  },
  {
   "cell_type": "markdown",
   "id": "360c499a",
   "metadata": {},
   "source": [
    "# LDA"
   ]
  },
  {
   "cell_type": "code",
   "execution_count": 43,
   "id": "3dba9c3d",
   "metadata": {},
   "outputs": [
    {
     "name": "stdout",
     "output_type": "stream",
     "text": [
      "*Accuracy score for LDA:  0.917910447761194 \n",
      "\n",
      "*Confusion Matrix for LDA: \n",
      "[[1754  210]\n",
      " [ 153 2305]]\n",
      "*Classification Report for LDA: \n",
      "              precision    recall  f1-score   support\n",
      "\n",
      "          -1       0.92      0.89      0.91      1964\n",
      "           1       0.92      0.94      0.93      2458\n",
      "\n",
      "    accuracy                           0.92      4422\n",
      "   macro avg       0.92      0.92      0.92      4422\n",
      "weighted avg       0.92      0.92      0.92      4422\n",
      "\n"
     ]
    }
   ],
   "source": [
    "from sklearn.discriminant_analysis import LinearDiscriminantAnalysis\n",
    "LDA = LinearDiscriminantAnalysis()\n",
    "LDA.fit(X_train, y_train)\n",
    "predictions = LDA.predict(X_test)\n",
    "val5 = (accuracy_score(y_test, predictions))\n",
    "print(\"*Accuracy score for LDA: \", val5, \"\\n\")\n",
    "print(\"*Confusion Matrix for LDA: \")\n",
    "print(confusion_matrix(y_test, predictions))\n",
    "print(\"*Classification Report for LDA: \")\n",
    "print(classification_report(y_test, predictions))"
   ]
  },
  {
   "cell_type": "code",
   "execution_count": 44,
   "id": "89a7e7c1",
   "metadata": {},
   "outputs": [
    {
     "name": "stdout",
     "output_type": "stream",
     "text": [
      "Scores for each fold are: [0.90785755 0.92820803 0.9174675  0.91294517 0.92312041 0.92198982\n",
      " 0.93046919 0.92764274 0.92929864 0.9219457 ]\n",
      "Average score: 0.92\n"
     ]
    }
   ],
   "source": [
    "lda_prec = precision_score(y_test, predictions,average='weighted')\n",
    "lda_rec = recall_score(y_test, predictions,average='weighted')\n",
    "lda_f1 = f1_score(y_test, predictions,average='weighted')\n",
    "kf = KFold(n_splits=10)\n",
    "score_lda = cross_val_score(LDA, X_train, y_train, cv= kf, scoring=\"accuracy\")\n",
    "print(f'Scores for each fold are: {score_lda}')\n",
    "print(f'Average score: {\"{:.2f}\".format(score_lda.mean())}')"
   ]
  },
  {
   "cell_type": "markdown",
   "id": "1a10fff1",
   "metadata": {},
   "source": [
    "# Extension"
   ]
  },
  {
   "cell_type": "code",
   "execution_count": 45,
   "id": "206b4819",
   "metadata": {},
   "outputs": [
    {
     "name": "stdout",
     "output_type": "stream",
     "text": [
      "*Confusion Matrix for Voting Classifier: \n",
      "[[1920   44]\n",
      " [  29 2429]]\n",
      "*Accuracy score for Voting:  0.9834916327453641 \n",
      "\n",
      "*Classification Report for Voting: \n",
      "              precision    recall  f1-score   support\n",
      "\n",
      "          -1       0.99      0.98      0.98      1964\n",
      "           1       0.98      0.99      0.99      2458\n",
      "\n",
      "    accuracy                           0.98      4422\n",
      "   macro avg       0.98      0.98      0.98      4422\n",
      "weighted avg       0.98      0.98      0.98      4422\n",
      "\n"
     ]
    }
   ],
   "source": [
    "from sklearn.tree import DecisionTreeClassifier\n",
    "from sklearn.ensemble import RandomForestClassifier, VotingClassifier\n",
    "from sklearn.ensemble import AdaBoostClassifier\n",
    "clf1 = AdaBoostClassifier()\n",
    "clf2 = RandomForestClassifier(n_estimators=50, random_state=1)\n",
    "clf3 = DecisionTreeClassifier()\n",
    "eclf1 = VotingClassifier(estimators=[('nb', clf1), ('rf', clf2), ('dt', clf3)], voting='soft')\n",
    "eclf1.fit(X_train, y_train)\n",
    "predictions = eclf1.predict(X_test)\n",
    "print(\"*Confusion Matrix for Voting Classifier: \")\n",
    "print(confusion_matrix(y_test, predictions))\n",
    "\n",
    "val6 = (accuracy_score(y_test, predictions))\n",
    "print(\"*Accuracy score for Voting: \", val6, \"\\n\")\n",
    "print(\"*Classification Report for Voting: \")\n",
    "print(classification_report(y_test, predictions))"
   ]
  },
  {
   "cell_type": "code",
   "execution_count": 46,
   "id": "59f2912c",
   "metadata": {},
   "outputs": [
    {
     "name": "stdout",
     "output_type": "stream",
     "text": [
      "Scores for each fold are: [0.98134539 0.9807801  0.98191068 0.97682306 0.98530243 0.98247598\n",
      " 0.98417185 0.98869418 0.98133484 0.9790724 ]\n",
      "Average score: 0.98\n"
     ]
    }
   ],
   "source": [
    "vot_prec = precision_score(y_test, predictions,average='weighted')\n",
    "vot_rec = recall_score(y_test, predictions,average='weighted')\n",
    "vot_f1 = f1_score(y_test, predictions,average='weighted')\n",
    "kf = KFold(n_splits=10)\n",
    "score_voting = cross_val_score(eclf1, X_train, y_train, cv= kf, scoring=\"accuracy\")\n",
    "print(f'Scores for each fold are: {score_voting}')\n",
    "print(f'Average score: {\"{:.2f}\".format(score_voting.mean())}')"
   ]
  },
  {
   "cell_type": "markdown",
   "id": "c01a4a3c",
   "metadata": {},
   "source": [
    "# Comparison"
   ]
  },
  {
   "cell_type": "code",
   "execution_count": 47,
   "id": "902ae167",
   "metadata": {},
   "outputs": [],
   "source": [
    "score = [accuracy,accuracy1,val,val1,val2,val3,val4,val5,val6]\n",
    "score1 = [precision,precision1,lr_prec,dt_prec,svm_prec,knn_prec,nb_prec,lda_prec,vot_prec]\n",
    "score2 = [recall,recall1,lr_rec,dt_rec,svm_rec,knn_rec,nb_rec,lda_rec,vot_rec]\n",
    "score3 = [f1,f11,lr_f1,dt_f1,svm_f1,knn_f1,nb_f1,lda_f1,vot_f1]"
   ]
  },
  {
   "cell_type": "code",
   "execution_count": 48,
   "id": "572e7ab5",
   "metadata": {},
   "outputs": [
    {
     "name": "stdout",
     "output_type": "stream",
     "text": [
      "[0 1 2 3 4 5 6 7 8]\n",
      "[1.0, 1.0, 0.925599276345545, 0.9041157847127996, 0.9534147444595206, 0.9663048394391678, 0.6040253279059249, 0.917910447761194, 0.9834916327453641]\n"
     ]
    }
   ],
   "source": [
    "classifier = ('CNN','RNN','Logistic Regression','Decision Tree','SVM','KNN','Naive Bayes','LDA','Voting Classifier')\n",
    "y_pos = np.arange(len(classifier))\n",
    "print(y_pos)\n",
    "print(score)\n",
    "        \n",
    "\n",
    "results = {\n",
    "    'Accuracy': score,\n",
    "    'Recall': score1,\n",
    "    'Precision': score2,\n",
    "    'F1': score3\n",
    "}\n",
    "\n",
    "index = ['CNN','RNN','Logistic Regression','Decision Tree','SVM','KNN','Naive Bayes','LDA','Voting Classifier']"
   ]
  },
  {
   "cell_type": "code",
   "execution_count": 49,
   "id": "acaabe66",
   "metadata": {},
   "outputs": [
    {
     "name": "stdout",
     "output_type": "stream",
     "text": [
      "                     Accuracy    Recall  Precision        F1\n",
      "CNN                  1.000000  1.000000   1.000000  1.000000\n",
      "RNN                  1.000000  1.000000   1.000000  1.000000\n",
      "Logistic Regression  0.925599  0.925568   0.925599  0.925578\n",
      "Decision Tree        0.904116  0.904542   0.904116  0.904222\n",
      "SVM                  0.953415  0.953435   0.953415  0.953374\n",
      "KNN                  0.966305  0.966301   0.966305  0.966292\n",
      "Naive Bayes          0.604025  0.789111   0.604025  0.555828\n",
      "LDA                  0.917910  0.917953   0.917910  0.917777\n",
      "Voting Classifier    0.983492  0.983502   0.983492  0.983485\n"
     ]
    }
   ],
   "source": [
    "results =pd.DataFrame(results,index=index)\n",
    "print(results)"
   ]
  },
  {
   "cell_type": "code",
   "execution_count": 50,
   "id": "ac371c77",
   "metadata": {},
   "outputs": [
    {
     "data": {
      "image/png": "[encoded data removed]",
      "text/plain": [
       "<Figure size 1368x1368 with 1 Axes>"
      ]
     },
     "metadata": {},
     "output_type": "display_data"
    }
   ],
   "source": [
    "fig =results.plot(kind='bar',title='Comaprison of models',figsize =(19,19)).get_figure()\n",
    "fig.savefig('Final Result2.png')"
   ]
  },
  {
   "cell_type": "markdown",
   "id": "0b0ac350",
   "metadata": {},
   "source": [
    "# Accuracy"
   ]
  },
  {
   "cell_type": "code",
   "execution_count": 51,
   "id": "b5c0046b",
   "metadata": {},
   "outputs": [
    {
     "data": {
      "image/png": "[encoded data removed]",
      "text/plain": [
       "<Figure size 432x288 with 1 Axes>"
      ]
     },
     "metadata": {},
     "output_type": "display_data"
    }
   ],
   "source": [
    "plt2.barh(y_pos, score, align='center', alpha=0.5,color='blue')\n",
    "plt2.yticks(y_pos, classifier)\n",
    "plt2.xlabel('Accuracy Score')\n",
    "plt2.title('Model Performance')\n",
    "plt2.show()"
   ]
  },
  {
   "cell_type": "markdown",
   "id": "8f0d3544",
   "metadata": {},
   "source": [
    "# Precision"
   ]
  },
  {
   "cell_type": "code",
   "execution_count": 52,
   "id": "882af7c7",
   "metadata": {},
   "outputs": [
    {
     "data": {
      "image/png": "[encoded data removed]",
      "text/plain": [
       "<Figure size 432x288 with 1 Axes>"
      ]
     },
     "metadata": {},
     "output_type": "display_data"
    }
   ],
   "source": [
    "plt2.barh(y_pos, score1, align='center', alpha=0.5,color='red')\n",
    "plt2.yticks(y_pos, classifier)\n",
    "plt2.xlabel('Precision Score')\n",
    "plt2.title('Model Performance')\n",
    "plt2.show()"
   ]
  },
  {
   "cell_type": "markdown",
   "id": "31f480b6",
   "metadata": {},
   "source": [
    "# Recall"
   ]
  },
  {
   "cell_type": "code",
   "execution_count": 53,
   "id": "432c8966",
   "metadata": {},
   "outputs": [
    {
     "data": {
      "image/png": "[encoded data removed]",
      "text/plain": [
       "<Figure size 432x288 with 1 Axes>"
      ]
     },
     "metadata": {},
     "output_type": "display_data"
    }
   ],
   "source": [
    "plt2.barh(y_pos, score2, align='center', alpha=0.5,color='orange')\n",
    "plt2.yticks(y_pos, classifier)\n",
    "plt2.xlabel('Recall Score')\n",
    "plt2.title('Model Performance')\n",
    "plt2.show()"
   ]
  },
  {
   "cell_type": "markdown",
   "id": "7c890d47",
   "metadata": {},
   "source": [
    "# F1 Score"
   ]
  },
  {
   "cell_type": "code",
   "execution_count": 54,
   "id": "cd787d17",
   "metadata": {},
   "outputs": [
    {
     "data": {
      "image/png": "[encoded data removed]",
      "text/plain": [
       "<Figure size 432x288 with 1 Axes>"
      ]
     },
     "metadata": {},
     "output_type": "display_data"
    }
   ],
   "source": [
    "plt2.barh(y_pos, score3, align='center', alpha=0.5,color='pink')\n",
    "plt2.yticks(y_pos, classifier)\n",
    "plt2.xlabel('F1 Score')\n",
    "plt2.title('Model Performance')\n",
    "plt2.show()"
   ]
  },
  {
   "cell_type": "markdown",
   "id": "65ef81c5",
   "metadata": {},
   "source": [
    "# Saving the model"
   ]
  },
  {
   "cell_type": "code",
   "execution_count": 55,
   "id": "551a7536",
   "metadata": {},
   "outputs": [],
   "source": [
    "pickle.dump(eclf1,open('model_3.pkl','wb'))"
   ]
  },
  {
   "cell_type": "code",
   "execution_count": null,
   "id": "c931fd0f",
   "metadata": {},
   "outputs": [],
   "source": []
  }
 ],
 "metadata": {
  "kernelspec": {
   "display_name": "Python 3",
   "language": "python",
   "name": "python3"
  },
  "language_info": {
   "codemirror_mode": {
    "name": "ipython",
    "version": 3
   },
   "file_extension": ".py",
   "mimetype": "text/x-python",
   "name": "python",
   "nbconvert_exporter": "python",
   "pygments_lexer": "ipython3",
   "version": "3.7.4"
  }
 },
 "nbformat": 4,
 "nbformat_minor": 5
}
